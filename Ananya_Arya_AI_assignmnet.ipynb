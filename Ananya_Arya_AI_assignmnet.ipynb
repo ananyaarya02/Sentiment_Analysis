{
  "nbformat": 4,
  "nbformat_minor": 0,
  "metadata": {
    "colab": {
      "provenance": [],
      "authorship_tag": "ABX9TyOhe8kacUHbdh1xGG/8GY7J",
      "include_colab_link": true
    },
    "kernelspec": {
      "name": "python3",
      "display_name": "Python 3"
    },
    "language_info": {
      "name": "python"
    }
  },
  "cells": [
    {
      "cell_type": "markdown",
      "metadata": {
        "id": "view-in-github",
        "colab_type": "text"
      },
      "source": [
        "<a href=\"https://colab.research.google.com/github/ananyaarya02/Sentiment_Analysis/blob/main/Ananya_Arya_AI_assignmnet.ipynb\" target=\"_parent\"><img src=\"https://colab.research.google.com/assets/colab-badge.svg\" alt=\"Open In Colab\"/></a>"
      ]
    },
    {
      "cell_type": "code",
      "execution_count": 32,
      "metadata": {
        "colab": {
          "base_uri": "https://localhost:8080/",
          "height": 0
        },
        "id": "-HLNH8OUAT-G",
        "outputId": "aaf050b1-36c6-4974-c84b-1de52da4685d"
      },
      "outputs": [
        {
          "output_type": "stream",
          "name": "stderr",
          "text": [
            "[nltk_data] Downloading package punkt to /root/nltk_data...\n",
            "[nltk_data]   Package punkt is already up-to-date!\n",
            "[nltk_data] Downloading package wordnet to /root/nltk_data...\n",
            "[nltk_data]   Package wordnet is already up-to-date!\n"
          ]
        },
        {
          "output_type": "execute_result",
          "data": {
            "text/plain": [
              "True"
            ]
          },
          "metadata": {},
          "execution_count": 32
        }
      ],
      "source": [
        "import nltk\n",
        "nltk.download('punkt')\n",
        "nltk.download('wordnet')"
      ]
    },
    {
      "cell_type": "code",
      "source": [
        "# Make a directory to store GloVe embeddings\n",
        "!mkdir embeddings\n",
        "\n",
        "# Download GloVe embeddings (specify your desired dimension and corpus)\n",
        "!wget http://nlp.stanford.edu/data/glove.6B.zip -P embeddings\n"
      ],
      "metadata": {
        "colab": {
          "base_uri": "https://localhost:8080/",
          "height": 0
        },
        "id": "i73vTScNaPnJ",
        "outputId": "08ebfcbe-04d2-4e1f-d4ae-f58a3f00c6f6"
      },
      "execution_count": 104,
      "outputs": [
        {
          "output_type": "stream",
          "name": "stdout",
          "text": [
            "--2023-11-17 13:12:07--  http://nlp.stanford.edu/data/glove.6B.zip\n",
            "Resolving nlp.stanford.edu (nlp.stanford.edu)... 171.64.67.140\n",
            "Connecting to nlp.stanford.edu (nlp.stanford.edu)|171.64.67.140|:80... connected.\n",
            "HTTP request sent, awaiting response... 302 Found\n",
            "Location: https://nlp.stanford.edu/data/glove.6B.zip [following]\n",
            "--2023-11-17 13:12:07--  https://nlp.stanford.edu/data/glove.6B.zip\n",
            "Connecting to nlp.stanford.edu (nlp.stanford.edu)|171.64.67.140|:443... connected.\n",
            "HTTP request sent, awaiting response... 301 Moved Permanently\n",
            "Location: https://downloads.cs.stanford.edu/nlp/data/glove.6B.zip [following]\n",
            "--2023-11-17 13:12:07--  https://downloads.cs.stanford.edu/nlp/data/glove.6B.zip\n",
            "Resolving downloads.cs.stanford.edu (downloads.cs.stanford.edu)... 171.64.64.22\n",
            "Connecting to downloads.cs.stanford.edu (downloads.cs.stanford.edu)|171.64.64.22|:443... connected.\n",
            "HTTP request sent, awaiting response... 200 OK\n",
            "Length: 862182613 (822M) [application/zip]\n",
            "Saving to: ‘embeddings/glove.6B.zip’\n",
            "\n",
            "glove.6B.zip        100%[===================>] 822.24M  5.00MB/s    in 2m 39s  \n",
            "\n",
            "2023-11-17 13:14:46 (5.18 MB/s) - ‘embeddings/glove.6B.zip’ saved [862182613/862182613]\n",
            "\n"
          ]
        }
      ]
    },
    {
      "cell_type": "code",
      "source": [
        "# Unzip the downloaded GloVe file\n",
        "!unzip embeddings/glove.6B.zip -d embeddings/glove\n"
      ],
      "metadata": {
        "colab": {
          "base_uri": "https://localhost:8080/",
          "height": 0
        },
        "id": "OJVYX4wLa5lj",
        "outputId": "a9c4c0cf-b3b3-40dc-d39e-34f61bcd7d25"
      },
      "execution_count": 105,
      "outputs": [
        {
          "output_type": "stream",
          "name": "stdout",
          "text": [
            "Archive:  embeddings/glove.6B.zip\n",
            "  inflating: embeddings/glove/glove.6B.50d.txt  \n",
            "  inflating: embeddings/glove/glove.6B.100d.txt  \n",
            "  inflating: embeddings/glove/glove.6B.200d.txt  \n",
            "  inflating: embeddings/glove/glove.6B.300d.txt  \n"
          ]
        }
      ]
    },
    {
      "cell_type": "code",
      "source": [
        "!pip install wget\n",
        "\n",
        "import wget\n",
        "\n",
        "\n",
        "\n"
      ],
      "metadata": {
        "colab": {
          "base_uri": "https://localhost:8080/",
          "height": 0
        },
        "id": "X9dNEZZMbMyF",
        "outputId": "a3af85b3-ab32-4927-e43e-600cdaecde00"
      },
      "execution_count": 112,
      "outputs": [
        {
          "output_type": "stream",
          "name": "stdout",
          "text": [
            "Requirement already satisfied: wget in /usr/local/lib/python3.10/dist-packages (3.2)\n"
          ]
        }
      ]
    },
    {
      "cell_type": "code",
      "source": [
        "# Unzip the downloaded Word2Vec file\n",
        "!gunzip embeddings/GoogleNews-vectors-negative300.bin.gz\n"
      ],
      "metadata": {
        "colab": {
          "base_uri": "https://localhost:8080/",
          "height": 0
        },
        "id": "CXCU8xTibQoG",
        "outputId": "1f9fc0d1-a2d1-408c-df74-a2ab47c8642e"
      },
      "execution_count": 107,
      "outputs": [
        {
          "output_type": "stream",
          "name": "stdout",
          "text": [
            "gzip: embeddings/GoogleNews-vectors-negative300.bin.gz: No such file or directory\n"
          ]
        }
      ]
    },
    {
      "cell_type": "code",
      "source": [
        "import pandas as pd\n",
        "import numpy as np\n",
        "import re\n",
        "import string\n",
        "from nltk.tokenize import word_tokenize\n",
        "from nltk.stem import WordNetLemmatizer\n",
        "from sklearn.model_selection import train_test_split\n",
        "from sklearn import metrics\n",
        "from sklearn.linear_model import LogisticRegression\n",
        "from sklearn.tree import DecisionTreeClassifier\n",
        "from sklearn.svm import SVC\n",
        "from sklearn.naive_bayes import MultinomialNB\n",
        "from sklearn.linear_model import LinearRegression\n",
        "from sklearn.metrics import accuracy_score, precision_score, recall_score, f1_score, confusion_matrix,mean_squared_error, r2_score\n",
        "from gensim.models import Word2Vec\n",
        "from nltk.tokenize import word_tokenize"
      ],
      "metadata": {
        "id": "ObODc9NjAVzC"
      },
      "execution_count": 90,
      "outputs": []
    },
    {
      "cell_type": "code",
      "source": [
        "df=pd.read_csv(\"/content/reviews_for_classification.csv\")"
      ],
      "metadata": {
        "id": "Zoa3vvh5AjwQ"
      },
      "execution_count": 34,
      "outputs": []
    },
    {
      "cell_type": "code",
      "source": [
        "df.head()"
      ],
      "metadata": {
        "colab": {
          "base_uri": "https://localhost:8080/",
          "height": 206
        },
        "id": "8FvfYFKYGI--",
        "outputId": "a5f7db85-14d1-4d3b-fdf5-2cdbd40c0f58"
      },
      "execution_count": 35,
      "outputs": [
        {
          "output_type": "execute_result",
          "data": {
            "text/plain": [
              "              name country            date_time  stars  \\\n",
              "0          xxx xxx      GB  Updated Apr 4, 2022      5   \n",
              "1  Javier Setovich      US          Mar 8, 2022      5   \n",
              "2    Andrei Franco      VN         Mar 23, 2022      1   \n",
              "3      Isai Garcia      US         Feb 23, 2022      1   \n",
              "4   Tyler McMurray      US         Mar 22, 2022      5   \n",
              "\n",
              "                         review_head  \\\n",
              "0       The best in all that matters   \n",
              "1             Celsius Network ROCKS!   \n",
              "2               I despise it so much   \n",
              "3  Worst customer service and worst…   \n",
              "4      Celsius is the BEST in Crypto   \n",
              "\n",
              "                                         review_body  \n",
              "0  The best in all that matters! It's a great pla...  \n",
              "1  If you are looking for the best #HomeForCrypto...  \n",
              "2  I despise it so much. Transferring to other wa...  \n",
              "3  Worst customer service and worst company to de...  \n",
              "4  Celsius is the most transparent and responsive...  "
            ],
            "text/html": [
              "\n",
              "  <div id=\"df-4ad4455d-9b73-4aff-9d50-a8277ef151e5\" class=\"colab-df-container\">\n",
              "    <div>\n",
              "<style scoped>\n",
              "    .dataframe tbody tr th:only-of-type {\n",
              "        vertical-align: middle;\n",
              "    }\n",
              "\n",
              "    .dataframe tbody tr th {\n",
              "        vertical-align: top;\n",
              "    }\n",
              "\n",
              "    .dataframe thead th {\n",
              "        text-align: right;\n",
              "    }\n",
              "</style>\n",
              "<table border=\"1\" class=\"dataframe\">\n",
              "  <thead>\n",
              "    <tr style=\"text-align: right;\">\n",
              "      <th></th>\n",
              "      <th>name</th>\n",
              "      <th>country</th>\n",
              "      <th>date_time</th>\n",
              "      <th>stars</th>\n",
              "      <th>review_head</th>\n",
              "      <th>review_body</th>\n",
              "    </tr>\n",
              "  </thead>\n",
              "  <tbody>\n",
              "    <tr>\n",
              "      <th>0</th>\n",
              "      <td>xxx xxx</td>\n",
              "      <td>GB</td>\n",
              "      <td>Updated Apr 4, 2022</td>\n",
              "      <td>5</td>\n",
              "      <td>The best in all that matters</td>\n",
              "      <td>The best in all that matters! It's a great pla...</td>\n",
              "    </tr>\n",
              "    <tr>\n",
              "      <th>1</th>\n",
              "      <td>Javier Setovich</td>\n",
              "      <td>US</td>\n",
              "      <td>Mar 8, 2022</td>\n",
              "      <td>5</td>\n",
              "      <td>Celsius Network ROCKS!</td>\n",
              "      <td>If you are looking for the best #HomeForCrypto...</td>\n",
              "    </tr>\n",
              "    <tr>\n",
              "      <th>2</th>\n",
              "      <td>Andrei Franco</td>\n",
              "      <td>VN</td>\n",
              "      <td>Mar 23, 2022</td>\n",
              "      <td>1</td>\n",
              "      <td>I despise it so much</td>\n",
              "      <td>I despise it so much. Transferring to other wa...</td>\n",
              "    </tr>\n",
              "    <tr>\n",
              "      <th>3</th>\n",
              "      <td>Isai Garcia</td>\n",
              "      <td>US</td>\n",
              "      <td>Feb 23, 2022</td>\n",
              "      <td>1</td>\n",
              "      <td>Worst customer service and worst…</td>\n",
              "      <td>Worst customer service and worst company to de...</td>\n",
              "    </tr>\n",
              "    <tr>\n",
              "      <th>4</th>\n",
              "      <td>Tyler McMurray</td>\n",
              "      <td>US</td>\n",
              "      <td>Mar 22, 2022</td>\n",
              "      <td>5</td>\n",
              "      <td>Celsius is the BEST in Crypto</td>\n",
              "      <td>Celsius is the most transparent and responsive...</td>\n",
              "    </tr>\n",
              "  </tbody>\n",
              "</table>\n",
              "</div>\n",
              "    <div class=\"colab-df-buttons\">\n",
              "\n",
              "  <div class=\"colab-df-container\">\n",
              "    <button class=\"colab-df-convert\" onclick=\"convertToInteractive('df-4ad4455d-9b73-4aff-9d50-a8277ef151e5')\"\n",
              "            title=\"Convert this dataframe to an interactive table.\"\n",
              "            style=\"display:none;\">\n",
              "\n",
              "  <svg xmlns=\"http://www.w3.org/2000/svg\" height=\"24px\" viewBox=\"0 -960 960 960\">\n",
              "    <path d=\"M120-120v-720h720v720H120Zm60-500h600v-160H180v160Zm220 220h160v-160H400v160Zm0 220h160v-160H400v160ZM180-400h160v-160H180v160Zm440 0h160v-160H620v160ZM180-180h160v-160H180v160Zm440 0h160v-160H620v160Z\"/>\n",
              "  </svg>\n",
              "    </button>\n",
              "\n",
              "  <style>\n",
              "    .colab-df-container {\n",
              "      display:flex;\n",
              "      gap: 12px;\n",
              "    }\n",
              "\n",
              "    .colab-df-convert {\n",
              "      background-color: #E8F0FE;\n",
              "      border: none;\n",
              "      border-radius: 50%;\n",
              "      cursor: pointer;\n",
              "      display: none;\n",
              "      fill: #1967D2;\n",
              "      height: 32px;\n",
              "      padding: 0 0 0 0;\n",
              "      width: 32px;\n",
              "    }\n",
              "\n",
              "    .colab-df-convert:hover {\n",
              "      background-color: #E2EBFA;\n",
              "      box-shadow: 0px 1px 2px rgba(60, 64, 67, 0.3), 0px 1px 3px 1px rgba(60, 64, 67, 0.15);\n",
              "      fill: #174EA6;\n",
              "    }\n",
              "\n",
              "    .colab-df-buttons div {\n",
              "      margin-bottom: 4px;\n",
              "    }\n",
              "\n",
              "    [theme=dark] .colab-df-convert {\n",
              "      background-color: #3B4455;\n",
              "      fill: #D2E3FC;\n",
              "    }\n",
              "\n",
              "    [theme=dark] .colab-df-convert:hover {\n",
              "      background-color: #434B5C;\n",
              "      box-shadow: 0px 1px 3px 1px rgba(0, 0, 0, 0.15);\n",
              "      filter: drop-shadow(0px 1px 2px rgba(0, 0, 0, 0.3));\n",
              "      fill: #FFFFFF;\n",
              "    }\n",
              "  </style>\n",
              "\n",
              "    <script>\n",
              "      const buttonEl =\n",
              "        document.querySelector('#df-4ad4455d-9b73-4aff-9d50-a8277ef151e5 button.colab-df-convert');\n",
              "      buttonEl.style.display =\n",
              "        google.colab.kernel.accessAllowed ? 'block' : 'none';\n",
              "\n",
              "      async function convertToInteractive(key) {\n",
              "        const element = document.querySelector('#df-4ad4455d-9b73-4aff-9d50-a8277ef151e5');\n",
              "        const dataTable =\n",
              "          await google.colab.kernel.invokeFunction('convertToInteractive',\n",
              "                                                    [key], {});\n",
              "        if (!dataTable) return;\n",
              "\n",
              "        const docLinkHtml = 'Like what you see? Visit the ' +\n",
              "          '<a target=\"_blank\" href=https://colab.research.google.com/notebooks/data_table.ipynb>data table notebook</a>'\n",
              "          + ' to learn more about interactive tables.';\n",
              "        element.innerHTML = '';\n",
              "        dataTable['output_type'] = 'display_data';\n",
              "        await google.colab.output.renderOutput(dataTable, element);\n",
              "        const docLink = document.createElement('div');\n",
              "        docLink.innerHTML = docLinkHtml;\n",
              "        element.appendChild(docLink);\n",
              "      }\n",
              "    </script>\n",
              "  </div>\n",
              "\n",
              "\n",
              "<div id=\"df-40f15b7d-9cf9-4ec2-9679-3a05f6ade7e8\">\n",
              "  <button class=\"colab-df-quickchart\" onclick=\"quickchart('df-40f15b7d-9cf9-4ec2-9679-3a05f6ade7e8')\"\n",
              "            title=\"Suggest charts\"\n",
              "            style=\"display:none;\">\n",
              "\n",
              "<svg xmlns=\"http://www.w3.org/2000/svg\" height=\"24px\"viewBox=\"0 0 24 24\"\n",
              "     width=\"24px\">\n",
              "    <g>\n",
              "        <path d=\"M19 3H5c-1.1 0-2 .9-2 2v14c0 1.1.9 2 2 2h14c1.1 0 2-.9 2-2V5c0-1.1-.9-2-2-2zM9 17H7v-7h2v7zm4 0h-2V7h2v10zm4 0h-2v-4h2v4z\"/>\n",
              "    </g>\n",
              "</svg>\n",
              "  </button>\n",
              "\n",
              "<style>\n",
              "  .colab-df-quickchart {\n",
              "      --bg-color: #E8F0FE;\n",
              "      --fill-color: #1967D2;\n",
              "      --hover-bg-color: #E2EBFA;\n",
              "      --hover-fill-color: #174EA6;\n",
              "      --disabled-fill-color: #AAA;\n",
              "      --disabled-bg-color: #DDD;\n",
              "  }\n",
              "\n",
              "  [theme=dark] .colab-df-quickchart {\n",
              "      --bg-color: #3B4455;\n",
              "      --fill-color: #D2E3FC;\n",
              "      --hover-bg-color: #434B5C;\n",
              "      --hover-fill-color: #FFFFFF;\n",
              "      --disabled-bg-color: #3B4455;\n",
              "      --disabled-fill-color: #666;\n",
              "  }\n",
              "\n",
              "  .colab-df-quickchart {\n",
              "    background-color: var(--bg-color);\n",
              "    border: none;\n",
              "    border-radius: 50%;\n",
              "    cursor: pointer;\n",
              "    display: none;\n",
              "    fill: var(--fill-color);\n",
              "    height: 32px;\n",
              "    padding: 0;\n",
              "    width: 32px;\n",
              "  }\n",
              "\n",
              "  .colab-df-quickchart:hover {\n",
              "    background-color: var(--hover-bg-color);\n",
              "    box-shadow: 0 1px 2px rgba(60, 64, 67, 0.3), 0 1px 3px 1px rgba(60, 64, 67, 0.15);\n",
              "    fill: var(--button-hover-fill-color);\n",
              "  }\n",
              "\n",
              "  .colab-df-quickchart-complete:disabled,\n",
              "  .colab-df-quickchart-complete:disabled:hover {\n",
              "    background-color: var(--disabled-bg-color);\n",
              "    fill: var(--disabled-fill-color);\n",
              "    box-shadow: none;\n",
              "  }\n",
              "\n",
              "  .colab-df-spinner {\n",
              "    border: 2px solid var(--fill-color);\n",
              "    border-color: transparent;\n",
              "    border-bottom-color: var(--fill-color);\n",
              "    animation:\n",
              "      spin 1s steps(1) infinite;\n",
              "  }\n",
              "\n",
              "  @keyframes spin {\n",
              "    0% {\n",
              "      border-color: transparent;\n",
              "      border-bottom-color: var(--fill-color);\n",
              "      border-left-color: var(--fill-color);\n",
              "    }\n",
              "    20% {\n",
              "      border-color: transparent;\n",
              "      border-left-color: var(--fill-color);\n",
              "      border-top-color: var(--fill-color);\n",
              "    }\n",
              "    30% {\n",
              "      border-color: transparent;\n",
              "      border-left-color: var(--fill-color);\n",
              "      border-top-color: var(--fill-color);\n",
              "      border-right-color: var(--fill-color);\n",
              "    }\n",
              "    40% {\n",
              "      border-color: transparent;\n",
              "      border-right-color: var(--fill-color);\n",
              "      border-top-color: var(--fill-color);\n",
              "    }\n",
              "    60% {\n",
              "      border-color: transparent;\n",
              "      border-right-color: var(--fill-color);\n",
              "    }\n",
              "    80% {\n",
              "      border-color: transparent;\n",
              "      border-right-color: var(--fill-color);\n",
              "      border-bottom-color: var(--fill-color);\n",
              "    }\n",
              "    90% {\n",
              "      border-color: transparent;\n",
              "      border-bottom-color: var(--fill-color);\n",
              "    }\n",
              "  }\n",
              "</style>\n",
              "\n",
              "  <script>\n",
              "    async function quickchart(key) {\n",
              "      const quickchartButtonEl =\n",
              "        document.querySelector('#' + key + ' button');\n",
              "      quickchartButtonEl.disabled = true;  // To prevent multiple clicks.\n",
              "      quickchartButtonEl.classList.add('colab-df-spinner');\n",
              "      try {\n",
              "        const charts = await google.colab.kernel.invokeFunction(\n",
              "            'suggestCharts', [key], {});\n",
              "      } catch (error) {\n",
              "        console.error('Error during call to suggestCharts:', error);\n",
              "      }\n",
              "      quickchartButtonEl.classList.remove('colab-df-spinner');\n",
              "      quickchartButtonEl.classList.add('colab-df-quickchart-complete');\n",
              "    }\n",
              "    (() => {\n",
              "      let quickchartButtonEl =\n",
              "        document.querySelector('#df-40f15b7d-9cf9-4ec2-9679-3a05f6ade7e8 button');\n",
              "      quickchartButtonEl.style.display =\n",
              "        google.colab.kernel.accessAllowed ? 'block' : 'none';\n",
              "    })();\n",
              "  </script>\n",
              "</div>\n",
              "    </div>\n",
              "  </div>\n"
            ]
          },
          "metadata": {},
          "execution_count": 35
        }
      ]
    },
    {
      "cell_type": "code",
      "source": [
        "#model Preprocessing starts\n",
        "are_there_nulls = df.isnull().any().any()\n",
        "print(are_there_nulls)"
      ],
      "metadata": {
        "colab": {
          "base_uri": "https://localhost:8080/",
          "height": 0
        },
        "id": "tISlXZnZGP9f",
        "outputId": "b1ed08c6-8bf5-4598-ee47-ef0145cbca18"
      },
      "execution_count": 131,
      "outputs": [
        {
          "output_type": "stream",
          "name": "stdout",
          "text": [
            "True\n"
          ]
        }
      ]
    },
    {
      "cell_type": "code",
      "source": [
        "null_values = df.isnull().sum()\n",
        "print(null_values)"
      ],
      "metadata": {
        "colab": {
          "base_uri": "https://localhost:8080/",
          "height": 0
        },
        "id": "TTs5g_LcGTHA",
        "outputId": "153cfc6f-d56d-4f35-c340-7c05f46653fd"
      },
      "execution_count": 37,
      "outputs": [
        {
          "output_type": "stream",
          "name": "stdout",
          "text": [
            "name           3\n",
            "country        1\n",
            "date_time      0\n",
            "stars          0\n",
            "review_head    0\n",
            "review_body    0\n",
            "dtype: int64\n"
          ]
        }
      ]
    },
    {
      "cell_type": "code",
      "source": [
        "#droping name,date,country column as it will not directly contribute to sentiment analysis\n",
        "df=df.drop('name',axis=1)"
      ],
      "metadata": {
        "id": "jVpQjhlrGV2b"
      },
      "execution_count": 38,
      "outputs": []
    },
    {
      "cell_type": "code",
      "source": [
        "df=df.drop('date_time',axis=1)"
      ],
      "metadata": {
        "id": "EDjTJNHMGY9t"
      },
      "execution_count": 39,
      "outputs": []
    },
    {
      "cell_type": "code",
      "source": [
        "most_common_value = df['country'].value_counts().idxmax()\n",
        "print(\"Most common value:\", most_common_value)"
      ],
      "metadata": {
        "colab": {
          "base_uri": "https://localhost:8080/",
          "height": 0
        },
        "id": "IbRdnEwBGcAs",
        "outputId": "08f9b008-b737-4e23-d447-e6398929311e"
      },
      "execution_count": 40,
      "outputs": [
        {
          "output_type": "stream",
          "name": "stdout",
          "text": [
            "Most common value: US\n"
          ]
        }
      ]
    },
    {
      "cell_type": "code",
      "source": [
        "#as US is most common value in country column replacing null value with US\n",
        "specific_value = 'US'\n",
        "\n",
        "df['country'] = df['country'].fillna(specific_value)"
      ],
      "metadata": {
        "id": "dRR4ghuwGicW"
      },
      "execution_count": 41,
      "outputs": []
    },
    {
      "cell_type": "code",
      "source": [
        "are_there_nulls = df.isnull().any().any()\n",
        "print(are_there_nulls)"
      ],
      "metadata": {
        "colab": {
          "base_uri": "https://localhost:8080/",
          "height": 0
        },
        "id": "HV8NTU_TGk5Y",
        "outputId": "415ddd69-c98a-428e-955c-d29e8bec2960"
      },
      "execution_count": 42,
      "outputs": [
        {
          "output_type": "stream",
          "name": "stdout",
          "text": [
            "False\n"
          ]
        }
      ]
    },
    {
      "cell_type": "code",
      "source": [
        "df.head()"
      ],
      "metadata": {
        "colab": {
          "base_uri": "https://localhost:8080/",
          "height": 206
        },
        "id": "watYOSReGn2a",
        "outputId": "e12a6a5e-31dd-44d5-c9ce-e85e9d723f91"
      },
      "execution_count": 43,
      "outputs": [
        {
          "output_type": "execute_result",
          "data": {
            "text/plain": [
              "  country  stars                        review_head  \\\n",
              "0      GB      5       The best in all that matters   \n",
              "1      US      5             Celsius Network ROCKS!   \n",
              "2      VN      1               I despise it so much   \n",
              "3      US      1  Worst customer service and worst…   \n",
              "4      US      5      Celsius is the BEST in Crypto   \n",
              "\n",
              "                                         review_body  \n",
              "0  The best in all that matters! It's a great pla...  \n",
              "1  If you are looking for the best #HomeForCrypto...  \n",
              "2  I despise it so much. Transferring to other wa...  \n",
              "3  Worst customer service and worst company to de...  \n",
              "4  Celsius is the most transparent and responsive...  "
            ],
            "text/html": [
              "\n",
              "  <div id=\"df-bbed65be-5bf0-450e-aeaf-643a06424472\" class=\"colab-df-container\">\n",
              "    <div>\n",
              "<style scoped>\n",
              "    .dataframe tbody tr th:only-of-type {\n",
              "        vertical-align: middle;\n",
              "    }\n",
              "\n",
              "    .dataframe tbody tr th {\n",
              "        vertical-align: top;\n",
              "    }\n",
              "\n",
              "    .dataframe thead th {\n",
              "        text-align: right;\n",
              "    }\n",
              "</style>\n",
              "<table border=\"1\" class=\"dataframe\">\n",
              "  <thead>\n",
              "    <tr style=\"text-align: right;\">\n",
              "      <th></th>\n",
              "      <th>country</th>\n",
              "      <th>stars</th>\n",
              "      <th>review_head</th>\n",
              "      <th>review_body</th>\n",
              "    </tr>\n",
              "  </thead>\n",
              "  <tbody>\n",
              "    <tr>\n",
              "      <th>0</th>\n",
              "      <td>GB</td>\n",
              "      <td>5</td>\n",
              "      <td>The best in all that matters</td>\n",
              "      <td>The best in all that matters! It's a great pla...</td>\n",
              "    </tr>\n",
              "    <tr>\n",
              "      <th>1</th>\n",
              "      <td>US</td>\n",
              "      <td>5</td>\n",
              "      <td>Celsius Network ROCKS!</td>\n",
              "      <td>If you are looking for the best #HomeForCrypto...</td>\n",
              "    </tr>\n",
              "    <tr>\n",
              "      <th>2</th>\n",
              "      <td>VN</td>\n",
              "      <td>1</td>\n",
              "      <td>I despise it so much</td>\n",
              "      <td>I despise it so much. Transferring to other wa...</td>\n",
              "    </tr>\n",
              "    <tr>\n",
              "      <th>3</th>\n",
              "      <td>US</td>\n",
              "      <td>1</td>\n",
              "      <td>Worst customer service and worst…</td>\n",
              "      <td>Worst customer service and worst company to de...</td>\n",
              "    </tr>\n",
              "    <tr>\n",
              "      <th>4</th>\n",
              "      <td>US</td>\n",
              "      <td>5</td>\n",
              "      <td>Celsius is the BEST in Crypto</td>\n",
              "      <td>Celsius is the most transparent and responsive...</td>\n",
              "    </tr>\n",
              "  </tbody>\n",
              "</table>\n",
              "</div>\n",
              "    <div class=\"colab-df-buttons\">\n",
              "\n",
              "  <div class=\"colab-df-container\">\n",
              "    <button class=\"colab-df-convert\" onclick=\"convertToInteractive('df-bbed65be-5bf0-450e-aeaf-643a06424472')\"\n",
              "            title=\"Convert this dataframe to an interactive table.\"\n",
              "            style=\"display:none;\">\n",
              "\n",
              "  <svg xmlns=\"http://www.w3.org/2000/svg\" height=\"24px\" viewBox=\"0 -960 960 960\">\n",
              "    <path d=\"M120-120v-720h720v720H120Zm60-500h600v-160H180v160Zm220 220h160v-160H400v160Zm0 220h160v-160H400v160ZM180-400h160v-160H180v160Zm440 0h160v-160H620v160ZM180-180h160v-160H180v160Zm440 0h160v-160H620v160Z\"/>\n",
              "  </svg>\n",
              "    </button>\n",
              "\n",
              "  <style>\n",
              "    .colab-df-container {\n",
              "      display:flex;\n",
              "      gap: 12px;\n",
              "    }\n",
              "\n",
              "    .colab-df-convert {\n",
              "      background-color: #E8F0FE;\n",
              "      border: none;\n",
              "      border-radius: 50%;\n",
              "      cursor: pointer;\n",
              "      display: none;\n",
              "      fill: #1967D2;\n",
              "      height: 32px;\n",
              "      padding: 0 0 0 0;\n",
              "      width: 32px;\n",
              "    }\n",
              "\n",
              "    .colab-df-convert:hover {\n",
              "      background-color: #E2EBFA;\n",
              "      box-shadow: 0px 1px 2px rgba(60, 64, 67, 0.3), 0px 1px 3px 1px rgba(60, 64, 67, 0.15);\n",
              "      fill: #174EA6;\n",
              "    }\n",
              "\n",
              "    .colab-df-buttons div {\n",
              "      margin-bottom: 4px;\n",
              "    }\n",
              "\n",
              "    [theme=dark] .colab-df-convert {\n",
              "      background-color: #3B4455;\n",
              "      fill: #D2E3FC;\n",
              "    }\n",
              "\n",
              "    [theme=dark] .colab-df-convert:hover {\n",
              "      background-color: #434B5C;\n",
              "      box-shadow: 0px 1px 3px 1px rgba(0, 0, 0, 0.15);\n",
              "      filter: drop-shadow(0px 1px 2px rgba(0, 0, 0, 0.3));\n",
              "      fill: #FFFFFF;\n",
              "    }\n",
              "  </style>\n",
              "\n",
              "    <script>\n",
              "      const buttonEl =\n",
              "        document.querySelector('#df-bbed65be-5bf0-450e-aeaf-643a06424472 button.colab-df-convert');\n",
              "      buttonEl.style.display =\n",
              "        google.colab.kernel.accessAllowed ? 'block' : 'none';\n",
              "\n",
              "      async function convertToInteractive(key) {\n",
              "        const element = document.querySelector('#df-bbed65be-5bf0-450e-aeaf-643a06424472');\n",
              "        const dataTable =\n",
              "          await google.colab.kernel.invokeFunction('convertToInteractive',\n",
              "                                                    [key], {});\n",
              "        if (!dataTable) return;\n",
              "\n",
              "        const docLinkHtml = 'Like what you see? Visit the ' +\n",
              "          '<a target=\"_blank\" href=https://colab.research.google.com/notebooks/data_table.ipynb>data table notebook</a>'\n",
              "          + ' to learn more about interactive tables.';\n",
              "        element.innerHTML = '';\n",
              "        dataTable['output_type'] = 'display_data';\n",
              "        await google.colab.output.renderOutput(dataTable, element);\n",
              "        const docLink = document.createElement('div');\n",
              "        docLink.innerHTML = docLinkHtml;\n",
              "        element.appendChild(docLink);\n",
              "      }\n",
              "    </script>\n",
              "  </div>\n",
              "\n",
              "\n",
              "<div id=\"df-14edf87a-9d30-4891-9deb-0bc2d1c9d37c\">\n",
              "  <button class=\"colab-df-quickchart\" onclick=\"quickchart('df-14edf87a-9d30-4891-9deb-0bc2d1c9d37c')\"\n",
              "            title=\"Suggest charts\"\n",
              "            style=\"display:none;\">\n",
              "\n",
              "<svg xmlns=\"http://www.w3.org/2000/svg\" height=\"24px\"viewBox=\"0 0 24 24\"\n",
              "     width=\"24px\">\n",
              "    <g>\n",
              "        <path d=\"M19 3H5c-1.1 0-2 .9-2 2v14c0 1.1.9 2 2 2h14c1.1 0 2-.9 2-2V5c0-1.1-.9-2-2-2zM9 17H7v-7h2v7zm4 0h-2V7h2v10zm4 0h-2v-4h2v4z\"/>\n",
              "    </g>\n",
              "</svg>\n",
              "  </button>\n",
              "\n",
              "<style>\n",
              "  .colab-df-quickchart {\n",
              "      --bg-color: #E8F0FE;\n",
              "      --fill-color: #1967D2;\n",
              "      --hover-bg-color: #E2EBFA;\n",
              "      --hover-fill-color: #174EA6;\n",
              "      --disabled-fill-color: #AAA;\n",
              "      --disabled-bg-color: #DDD;\n",
              "  }\n",
              "\n",
              "  [theme=dark] .colab-df-quickchart {\n",
              "      --bg-color: #3B4455;\n",
              "      --fill-color: #D2E3FC;\n",
              "      --hover-bg-color: #434B5C;\n",
              "      --hover-fill-color: #FFFFFF;\n",
              "      --disabled-bg-color: #3B4455;\n",
              "      --disabled-fill-color: #666;\n",
              "  }\n",
              "\n",
              "  .colab-df-quickchart {\n",
              "    background-color: var(--bg-color);\n",
              "    border: none;\n",
              "    border-radius: 50%;\n",
              "    cursor: pointer;\n",
              "    display: none;\n",
              "    fill: var(--fill-color);\n",
              "    height: 32px;\n",
              "    padding: 0;\n",
              "    width: 32px;\n",
              "  }\n",
              "\n",
              "  .colab-df-quickchart:hover {\n",
              "    background-color: var(--hover-bg-color);\n",
              "    box-shadow: 0 1px 2px rgba(60, 64, 67, 0.3), 0 1px 3px 1px rgba(60, 64, 67, 0.15);\n",
              "    fill: var(--button-hover-fill-color);\n",
              "  }\n",
              "\n",
              "  .colab-df-quickchart-complete:disabled,\n",
              "  .colab-df-quickchart-complete:disabled:hover {\n",
              "    background-color: var(--disabled-bg-color);\n",
              "    fill: var(--disabled-fill-color);\n",
              "    box-shadow: none;\n",
              "  }\n",
              "\n",
              "  .colab-df-spinner {\n",
              "    border: 2px solid var(--fill-color);\n",
              "    border-color: transparent;\n",
              "    border-bottom-color: var(--fill-color);\n",
              "    animation:\n",
              "      spin 1s steps(1) infinite;\n",
              "  }\n",
              "\n",
              "  @keyframes spin {\n",
              "    0% {\n",
              "      border-color: transparent;\n",
              "      border-bottom-color: var(--fill-color);\n",
              "      border-left-color: var(--fill-color);\n",
              "    }\n",
              "    20% {\n",
              "      border-color: transparent;\n",
              "      border-left-color: var(--fill-color);\n",
              "      border-top-color: var(--fill-color);\n",
              "    }\n",
              "    30% {\n",
              "      border-color: transparent;\n",
              "      border-left-color: var(--fill-color);\n",
              "      border-top-color: var(--fill-color);\n",
              "      border-right-color: var(--fill-color);\n",
              "    }\n",
              "    40% {\n",
              "      border-color: transparent;\n",
              "      border-right-color: var(--fill-color);\n",
              "      border-top-color: var(--fill-color);\n",
              "    }\n",
              "    60% {\n",
              "      border-color: transparent;\n",
              "      border-right-color: var(--fill-color);\n",
              "    }\n",
              "    80% {\n",
              "      border-color: transparent;\n",
              "      border-right-color: var(--fill-color);\n",
              "      border-bottom-color: var(--fill-color);\n",
              "    }\n",
              "    90% {\n",
              "      border-color: transparent;\n",
              "      border-bottom-color: var(--fill-color);\n",
              "    }\n",
              "  }\n",
              "</style>\n",
              "\n",
              "  <script>\n",
              "    async function quickchart(key) {\n",
              "      const quickchartButtonEl =\n",
              "        document.querySelector('#' + key + ' button');\n",
              "      quickchartButtonEl.disabled = true;  // To prevent multiple clicks.\n",
              "      quickchartButtonEl.classList.add('colab-df-spinner');\n",
              "      try {\n",
              "        const charts = await google.colab.kernel.invokeFunction(\n",
              "            'suggestCharts', [key], {});\n",
              "      } catch (error) {\n",
              "        console.error('Error during call to suggestCharts:', error);\n",
              "      }\n",
              "      quickchartButtonEl.classList.remove('colab-df-spinner');\n",
              "      quickchartButtonEl.classList.add('colab-df-quickchart-complete');\n",
              "    }\n",
              "    (() => {\n",
              "      let quickchartButtonEl =\n",
              "        document.querySelector('#df-14edf87a-9d30-4891-9deb-0bc2d1c9d37c button');\n",
              "      quickchartButtonEl.style.display =\n",
              "        google.colab.kernel.accessAllowed ? 'block' : 'none';\n",
              "    })();\n",
              "  </script>\n",
              "</div>\n",
              "    </div>\n",
              "  </div>\n"
            ]
          },
          "metadata": {},
          "execution_count": 43
        }
      ]
    },
    {
      "cell_type": "code",
      "source": [
        "columns_to_clean = ['review_head', 'review_body']\n",
        "\n",
        "\n",
        "def clean_text(text):\n",
        "    # Remove emojis\n",
        "    text = text.encode('ascii', 'ignore').decode('ascii')\n",
        "    # Remove punctuation and special characters\n",
        "    text = re.sub(r'[^\\w\\s]', '', text)\n",
        "    # Convert to lowercase\n",
        "    text = text.lower()\n",
        "    return text\n",
        "\n",
        "\n",
        "for column in columns_to_clean:\n",
        "    df[column] = df[column].apply(clean_text)\n"
      ],
      "metadata": {
        "id": "KYOUXiEzGp91"
      },
      "execution_count": 44,
      "outputs": []
    },
    {
      "cell_type": "code",
      "source": [
        "df.head()"
      ],
      "metadata": {
        "colab": {
          "base_uri": "https://localhost:8080/",
          "height": 206
        },
        "id": "wiqrPfPlGsi3",
        "outputId": "5c39d240-cccb-4a30-cc01-ba5147452d54"
      },
      "execution_count": 45,
      "outputs": [
        {
          "output_type": "execute_result",
          "data": {
            "text/plain": [
              "  country  stars                       review_head  \\\n",
              "0      GB      5      the best in all that matters   \n",
              "1      US      5             celsius network rocks   \n",
              "2      VN      1              i despise it so much   \n",
              "3      US      1  worst customer service and worst   \n",
              "4      US      5     celsius is the best in crypto   \n",
              "\n",
              "                                         review_body  \n",
              "0  the best in all that matters its a great platf...  \n",
              "1  if you are looking for the best homeforcrypto ...  \n",
              "2  i despise it so much transferring to other wal...  \n",
              "3  worst customer service and worst company to de...  \n",
              "4  celsius is the most transparent and responsive...  "
            ],
            "text/html": [
              "\n",
              "  <div id=\"df-0e983baa-690f-4b1e-aaa7-83048e09b5a9\" class=\"colab-df-container\">\n",
              "    <div>\n",
              "<style scoped>\n",
              "    .dataframe tbody tr th:only-of-type {\n",
              "        vertical-align: middle;\n",
              "    }\n",
              "\n",
              "    .dataframe tbody tr th {\n",
              "        vertical-align: top;\n",
              "    }\n",
              "\n",
              "    .dataframe thead th {\n",
              "        text-align: right;\n",
              "    }\n",
              "</style>\n",
              "<table border=\"1\" class=\"dataframe\">\n",
              "  <thead>\n",
              "    <tr style=\"text-align: right;\">\n",
              "      <th></th>\n",
              "      <th>country</th>\n",
              "      <th>stars</th>\n",
              "      <th>review_head</th>\n",
              "      <th>review_body</th>\n",
              "    </tr>\n",
              "  </thead>\n",
              "  <tbody>\n",
              "    <tr>\n",
              "      <th>0</th>\n",
              "      <td>GB</td>\n",
              "      <td>5</td>\n",
              "      <td>the best in all that matters</td>\n",
              "      <td>the best in all that matters its a great platf...</td>\n",
              "    </tr>\n",
              "    <tr>\n",
              "      <th>1</th>\n",
              "      <td>US</td>\n",
              "      <td>5</td>\n",
              "      <td>celsius network rocks</td>\n",
              "      <td>if you are looking for the best homeforcrypto ...</td>\n",
              "    </tr>\n",
              "    <tr>\n",
              "      <th>2</th>\n",
              "      <td>VN</td>\n",
              "      <td>1</td>\n",
              "      <td>i despise it so much</td>\n",
              "      <td>i despise it so much transferring to other wal...</td>\n",
              "    </tr>\n",
              "    <tr>\n",
              "      <th>3</th>\n",
              "      <td>US</td>\n",
              "      <td>1</td>\n",
              "      <td>worst customer service and worst</td>\n",
              "      <td>worst customer service and worst company to de...</td>\n",
              "    </tr>\n",
              "    <tr>\n",
              "      <th>4</th>\n",
              "      <td>US</td>\n",
              "      <td>5</td>\n",
              "      <td>celsius is the best in crypto</td>\n",
              "      <td>celsius is the most transparent and responsive...</td>\n",
              "    </tr>\n",
              "  </tbody>\n",
              "</table>\n",
              "</div>\n",
              "    <div class=\"colab-df-buttons\">\n",
              "\n",
              "  <div class=\"colab-df-container\">\n",
              "    <button class=\"colab-df-convert\" onclick=\"convertToInteractive('df-0e983baa-690f-4b1e-aaa7-83048e09b5a9')\"\n",
              "            title=\"Convert this dataframe to an interactive table.\"\n",
              "            style=\"display:none;\">\n",
              "\n",
              "  <svg xmlns=\"http://www.w3.org/2000/svg\" height=\"24px\" viewBox=\"0 -960 960 960\">\n",
              "    <path d=\"M120-120v-720h720v720H120Zm60-500h600v-160H180v160Zm220 220h160v-160H400v160Zm0 220h160v-160H400v160ZM180-400h160v-160H180v160Zm440 0h160v-160H620v160ZM180-180h160v-160H180v160Zm440 0h160v-160H620v160Z\"/>\n",
              "  </svg>\n",
              "    </button>\n",
              "\n",
              "  <style>\n",
              "    .colab-df-container {\n",
              "      display:flex;\n",
              "      gap: 12px;\n",
              "    }\n",
              "\n",
              "    .colab-df-convert {\n",
              "      background-color: #E8F0FE;\n",
              "      border: none;\n",
              "      border-radius: 50%;\n",
              "      cursor: pointer;\n",
              "      display: none;\n",
              "      fill: #1967D2;\n",
              "      height: 32px;\n",
              "      padding: 0 0 0 0;\n",
              "      width: 32px;\n",
              "    }\n",
              "\n",
              "    .colab-df-convert:hover {\n",
              "      background-color: #E2EBFA;\n",
              "      box-shadow: 0px 1px 2px rgba(60, 64, 67, 0.3), 0px 1px 3px 1px rgba(60, 64, 67, 0.15);\n",
              "      fill: #174EA6;\n",
              "    }\n",
              "\n",
              "    .colab-df-buttons div {\n",
              "      margin-bottom: 4px;\n",
              "    }\n",
              "\n",
              "    [theme=dark] .colab-df-convert {\n",
              "      background-color: #3B4455;\n",
              "      fill: #D2E3FC;\n",
              "    }\n",
              "\n",
              "    [theme=dark] .colab-df-convert:hover {\n",
              "      background-color: #434B5C;\n",
              "      box-shadow: 0px 1px 3px 1px rgba(0, 0, 0, 0.15);\n",
              "      filter: drop-shadow(0px 1px 2px rgba(0, 0, 0, 0.3));\n",
              "      fill: #FFFFFF;\n",
              "    }\n",
              "  </style>\n",
              "\n",
              "    <script>\n",
              "      const buttonEl =\n",
              "        document.querySelector('#df-0e983baa-690f-4b1e-aaa7-83048e09b5a9 button.colab-df-convert');\n",
              "      buttonEl.style.display =\n",
              "        google.colab.kernel.accessAllowed ? 'block' : 'none';\n",
              "\n",
              "      async function convertToInteractive(key) {\n",
              "        const element = document.querySelector('#df-0e983baa-690f-4b1e-aaa7-83048e09b5a9');\n",
              "        const dataTable =\n",
              "          await google.colab.kernel.invokeFunction('convertToInteractive',\n",
              "                                                    [key], {});\n",
              "        if (!dataTable) return;\n",
              "\n",
              "        const docLinkHtml = 'Like what you see? Visit the ' +\n",
              "          '<a target=\"_blank\" href=https://colab.research.google.com/notebooks/data_table.ipynb>data table notebook</a>'\n",
              "          + ' to learn more about interactive tables.';\n",
              "        element.innerHTML = '';\n",
              "        dataTable['output_type'] = 'display_data';\n",
              "        await google.colab.output.renderOutput(dataTable, element);\n",
              "        const docLink = document.createElement('div');\n",
              "        docLink.innerHTML = docLinkHtml;\n",
              "        element.appendChild(docLink);\n",
              "      }\n",
              "    </script>\n",
              "  </div>\n",
              "\n",
              "\n",
              "<div id=\"df-374f2ca4-87f5-49d2-a1b8-da317c0c73df\">\n",
              "  <button class=\"colab-df-quickchart\" onclick=\"quickchart('df-374f2ca4-87f5-49d2-a1b8-da317c0c73df')\"\n",
              "            title=\"Suggest charts\"\n",
              "            style=\"display:none;\">\n",
              "\n",
              "<svg xmlns=\"http://www.w3.org/2000/svg\" height=\"24px\"viewBox=\"0 0 24 24\"\n",
              "     width=\"24px\">\n",
              "    <g>\n",
              "        <path d=\"M19 3H5c-1.1 0-2 .9-2 2v14c0 1.1.9 2 2 2h14c1.1 0 2-.9 2-2V5c0-1.1-.9-2-2-2zM9 17H7v-7h2v7zm4 0h-2V7h2v10zm4 0h-2v-4h2v4z\"/>\n",
              "    </g>\n",
              "</svg>\n",
              "  </button>\n",
              "\n",
              "<style>\n",
              "  .colab-df-quickchart {\n",
              "      --bg-color: #E8F0FE;\n",
              "      --fill-color: #1967D2;\n",
              "      --hover-bg-color: #E2EBFA;\n",
              "      --hover-fill-color: #174EA6;\n",
              "      --disabled-fill-color: #AAA;\n",
              "      --disabled-bg-color: #DDD;\n",
              "  }\n",
              "\n",
              "  [theme=dark] .colab-df-quickchart {\n",
              "      --bg-color: #3B4455;\n",
              "      --fill-color: #D2E3FC;\n",
              "      --hover-bg-color: #434B5C;\n",
              "      --hover-fill-color: #FFFFFF;\n",
              "      --disabled-bg-color: #3B4455;\n",
              "      --disabled-fill-color: #666;\n",
              "  }\n",
              "\n",
              "  .colab-df-quickchart {\n",
              "    background-color: var(--bg-color);\n",
              "    border: none;\n",
              "    border-radius: 50%;\n",
              "    cursor: pointer;\n",
              "    display: none;\n",
              "    fill: var(--fill-color);\n",
              "    height: 32px;\n",
              "    padding: 0;\n",
              "    width: 32px;\n",
              "  }\n",
              "\n",
              "  .colab-df-quickchart:hover {\n",
              "    background-color: var(--hover-bg-color);\n",
              "    box-shadow: 0 1px 2px rgba(60, 64, 67, 0.3), 0 1px 3px 1px rgba(60, 64, 67, 0.15);\n",
              "    fill: var(--button-hover-fill-color);\n",
              "  }\n",
              "\n",
              "  .colab-df-quickchart-complete:disabled,\n",
              "  .colab-df-quickchart-complete:disabled:hover {\n",
              "    background-color: var(--disabled-bg-color);\n",
              "    fill: var(--disabled-fill-color);\n",
              "    box-shadow: none;\n",
              "  }\n",
              "\n",
              "  .colab-df-spinner {\n",
              "    border: 2px solid var(--fill-color);\n",
              "    border-color: transparent;\n",
              "    border-bottom-color: var(--fill-color);\n",
              "    animation:\n",
              "      spin 1s steps(1) infinite;\n",
              "  }\n",
              "\n",
              "  @keyframes spin {\n",
              "    0% {\n",
              "      border-color: transparent;\n",
              "      border-bottom-color: var(--fill-color);\n",
              "      border-left-color: var(--fill-color);\n",
              "    }\n",
              "    20% {\n",
              "      border-color: transparent;\n",
              "      border-left-color: var(--fill-color);\n",
              "      border-top-color: var(--fill-color);\n",
              "    }\n",
              "    30% {\n",
              "      border-color: transparent;\n",
              "      border-left-color: var(--fill-color);\n",
              "      border-top-color: var(--fill-color);\n",
              "      border-right-color: var(--fill-color);\n",
              "    }\n",
              "    40% {\n",
              "      border-color: transparent;\n",
              "      border-right-color: var(--fill-color);\n",
              "      border-top-color: var(--fill-color);\n",
              "    }\n",
              "    60% {\n",
              "      border-color: transparent;\n",
              "      border-right-color: var(--fill-color);\n",
              "    }\n",
              "    80% {\n",
              "      border-color: transparent;\n",
              "      border-right-color: var(--fill-color);\n",
              "      border-bottom-color: var(--fill-color);\n",
              "    }\n",
              "    90% {\n",
              "      border-color: transparent;\n",
              "      border-bottom-color: var(--fill-color);\n",
              "    }\n",
              "  }\n",
              "</style>\n",
              "\n",
              "  <script>\n",
              "    async function quickchart(key) {\n",
              "      const quickchartButtonEl =\n",
              "        document.querySelector('#' + key + ' button');\n",
              "      quickchartButtonEl.disabled = true;  // To prevent multiple clicks.\n",
              "      quickchartButtonEl.classList.add('colab-df-spinner');\n",
              "      try {\n",
              "        const charts = await google.colab.kernel.invokeFunction(\n",
              "            'suggestCharts', [key], {});\n",
              "      } catch (error) {\n",
              "        console.error('Error during call to suggestCharts:', error);\n",
              "      }\n",
              "      quickchartButtonEl.classList.remove('colab-df-spinner');\n",
              "      quickchartButtonEl.classList.add('colab-df-quickchart-complete');\n",
              "    }\n",
              "    (() => {\n",
              "      let quickchartButtonEl =\n",
              "        document.querySelector('#df-374f2ca4-87f5-49d2-a1b8-da317c0c73df button');\n",
              "      quickchartButtonEl.style.display =\n",
              "        google.colab.kernel.accessAllowed ? 'block' : 'none';\n",
              "    })();\n",
              "  </script>\n",
              "</div>\n",
              "    </div>\n",
              "  </div>\n"
            ]
          },
          "metadata": {},
          "execution_count": 45
        }
      ]
    },
    {
      "cell_type": "code",
      "source": [
        "X = df[['country', 'review_head', 'review_body']]"
      ],
      "metadata": {
        "id": "9qAHWscXLPc_"
      },
      "execution_count": 46,
      "outputs": []
    },
    {
      "cell_type": "code",
      "source": [
        "Y= df['stars']"
      ],
      "metadata": {
        "id": "MvoCb6B-LPvN"
      },
      "execution_count": 47,
      "outputs": []
    },
    {
      "cell_type": "code",
      "source": [
        "X_train, X_test, Y_train, Y_test = train_test_split(X, Y, random_state = 47, test_size = 0.25)"
      ],
      "metadata": {
        "id": "Vxep_35bLP68"
      },
      "execution_count": 51,
      "outputs": []
    },
    {
      "cell_type": "code",
      "source": [
        "from sklearn.feature_extraction.text import TfidfVectorizer\n",
        "\n",
        "\n",
        "tfidf_vectorizer = TfidfVectorizer()\n",
        "\n",
        "\n",
        "X_train_tfidf = tfidf_vectorizer.fit_transform(X_train['review_head'] + ' ' + X_train['review_body'])\n",
        "\n",
        "\n",
        "X_test_tfidf = tfidf_vectorizer.transform(X_test['review_head'] + ' ' + X_test['review_body'])\n",
        "\n"
      ],
      "metadata": {
        "id": "Mp-bLbRELQa-"
      },
      "execution_count": 65,
      "outputs": []
    },
    {
      "cell_type": "code",
      "source": [
        "print(\"Shape of X_train_count:\", np.shape(X_train_tfidf))\n",
        "print(\"Shape of X_test:\", np.shape(X_test_tfidf))\n",
        "print(\"Shape of Y_train:\", np.shape(Y_train))\n",
        "print(\"Shape of Y_test:\", np.shape(Y_test))"
      ],
      "metadata": {
        "colab": {
          "base_uri": "https://localhost:8080/",
          "height": 0
        },
        "id": "dfmLHEmAOFOd",
        "outputId": "5932b30e-6225-4d2d-c949-a9ec3cfb5fb4"
      },
      "execution_count": 66,
      "outputs": [
        {
          "output_type": "stream",
          "name": "stdout",
          "text": [
            "Shape of X_train_count: (16474, 16310)\n",
            "Shape of X_test: (5492, 16310)\n",
            "Shape of Y_train: (16474,)\n",
            "Shape of Y_test: (5492,)\n"
          ]
        }
      ]
    },
    {
      "cell_type": "code",
      "source": [
        "#logistic Regression\n",
        "from sklearn.linear_model import LogisticRegression\n",
        "from sklearn.metrics import accuracy_score, precision_score, recall_score, f1_score, confusion_matrix\n",
        "logistic_model = LogisticRegression()\n",
        "logistic_model.fit(X_train_tfidf, Y_train)\n",
        "\n",
        "\n",
        "Y_pred = logistic_model.predict(X_test_tfidf)\n",
        "\n",
        "\n",
        "accuracy = accuracy_score(Y_test, Y_pred)\n",
        "precision = precision_score(Y_test, Y_pred, average='weighted')\n",
        "recall = recall_score(Y_test, Y_pred, average='weighted')\n",
        "f1 = f1_score(Y_test, Y_pred, average='weighted')\n",
        "conf_matrix = confusion_matrix(Y_test, Y_pred)\n",
        "\n",
        "print(\"Logistic Regression Performance:\")\n",
        "print(\"Accuracy:\", accuracy)\n",
        "print(\"Precision:\", precision)\n",
        "print(\"Recall:\", recall)\n",
        "print(\"F1 Score:\", f1)\n",
        "print(\"Confusion Matrix:\\n\", conf_matrix)"
      ],
      "metadata": {
        "colab": {
          "base_uri": "https://localhost:8080/",
          "height": 0
        },
        "id": "sel57BcWOQN4",
        "outputId": "1a4c24d1-64d1-4dbd-f06e-aa5c5b083ee9"
      },
      "execution_count": 67,
      "outputs": [
        {
          "output_type": "stream",
          "name": "stdout",
          "text": [
            "Logistic Regression Performance:\n",
            "Accuracy: 0.8581573197378004\n",
            "Precision: 0.8273437950482199\n",
            "Recall: 0.8581573197378004\n",
            "F1 Score: 0.8207527604567522\n",
            "Confusion Matrix:\n",
            " [[1141    1    4    2   75]\n",
            " [ 107    3    5    3   30]\n",
            " [  74    0   14   16   72]\n",
            " [  34    0    6   68  278]\n",
            " [  43    1    0   28 3487]]\n"
          ]
        },
        {
          "output_type": "stream",
          "name": "stderr",
          "text": [
            "/usr/local/lib/python3.10/dist-packages/sklearn/linear_model/_logistic.py:458: ConvergenceWarning: lbfgs failed to converge (status=1):\n",
            "STOP: TOTAL NO. of ITERATIONS REACHED LIMIT.\n",
            "\n",
            "Increase the number of iterations (max_iter) or scale the data as shown in:\n",
            "    https://scikit-learn.org/stable/modules/preprocessing.html\n",
            "Please also refer to the documentation for alternative solver options:\n",
            "    https://scikit-learn.org/stable/modules/linear_model.html#logistic-regression\n",
            "  n_iter_i = _check_optimize_result(\n"
          ]
        }
      ]
    },
    {
      "cell_type": "code",
      "source": [
        "# Decision Tree\n",
        "dt_model = DecisionTreeClassifier()\n",
        "dt_model.fit(X_train_tfidf, Y_train)\n",
        "Y_pred_dt = dt_model.predict(X_test_tfidf)\n",
        "\n",
        "# Metrics\n",
        "accuracy_dt = accuracy_score(Y_test, Y_pred_dt)\n",
        "precision_dt = precision_score(Y_test, Y_pred_dt, average='weighted')\n",
        "recall_dt = recall_score(Y_test, Y_pred_dt, average='weighted')\n",
        "f1_dt = f1_score(Y_test, Y_pred_dt, average='weighted')\n",
        "conf_matrix_dt = confusion_matrix(Y_test, Y_pred_dt)\n",
        "\n",
        "print(\"Decision Tree Performance:\")\n",
        "print(\"Accuracy:\", accuracy_dt)\n",
        "print(\"Precision:\", precision_dt)\n",
        "print(\"Recall:\", recall_dt)\n",
        "print(\"F1 Score:\", f1_dt)\n",
        "print(\"Confusion Matrix:\\n\", conf_matrix_dt)"
      ],
      "metadata": {
        "colab": {
          "base_uri": "https://localhost:8080/",
          "height": 0
        },
        "id": "Xeujj6tvOclA",
        "outputId": "1f3dff36-7dc1-47da-9563-527f8c425ff3"
      },
      "execution_count": 70,
      "outputs": [
        {
          "output_type": "stream",
          "name": "stdout",
          "text": [
            "Decision Tree Performance:\n",
            "Accuracy: 0.8514202476329206\n",
            "Precision: 0.8469714076643713\n",
            "Recall: 0.8514202476329206\n",
            "F1 Score: 0.8487631607056914\n",
            "Confusion Matrix:\n",
            " [[1019   35   25   28  116]\n",
            " [  35   74    8    8   23]\n",
            " [  39    7   91   10   29]\n",
            " [  35    9   10  186  146]\n",
            " [ 113   24   31   85 3306]]\n"
          ]
        }
      ]
    },
    {
      "cell_type": "code",
      "source": [
        "# Support Vector Machine\n",
        "svm_model = SVC()\n",
        "svm_model.fit(X_train_tfidf, Y_train)\n",
        "Y_pred_svm = svm_model.predict(X_test_tfidf)\n",
        "\n",
        "# Metrics\n",
        "accuracy_svm = accuracy_score(Y_test, Y_pred_svm)\n",
        "precision_svm = precision_score(Y_test, Y_pred_svm, average='weighted')\n",
        "recall_svm = recall_score(Y_test, Y_pred_svm, average='weighted')\n",
        "f1_svm = f1_score(Y_test, Y_pred_svm, average='weighted')\n",
        "conf_matrix_svm = confusion_matrix(Y_test, Y_pred_svm)\n",
        "\n",
        "print(\"SVM Performance:\")\n",
        "print(\"Accuracy:\", accuracy_svm)\n",
        "print(\"Precision:\", precision_svm)\n",
        "print(\"Recall:\", recall_svm)\n",
        "print(\"F1 Score:\", f1_svm)\n",
        "print(\"Confusion Matrix:\\n\", conf_matrix_svm)\n"
      ],
      "metadata": {
        "colab": {
          "base_uri": "https://localhost:8080/",
          "height": 0
        },
        "id": "5XoVpEbFOzel",
        "outputId": "ec7ff684-1c9d-49c4-c814-85601121e7bb"
      },
      "execution_count": 72,
      "outputs": [
        {
          "output_type": "stream",
          "name": "stdout",
          "text": [
            "SVM Performance:\n",
            "Accuracy: 0.8821922796795338\n",
            "Precision: 0.8844097434909232\n",
            "Recall: 0.8821922796795338\n",
            "F1 Score: 0.8561121365664058\n",
            "Confusion Matrix:\n",
            " [[1164    1    1    0   57]\n",
            " [  97   26    1    0   24]\n",
            " [  72    0   52    4   48]\n",
            " [  27    0    1   92  266]\n",
            " [  37    1    1    9 3511]]\n"
          ]
        }
      ]
    },
    {
      "cell_type": "code",
      "source": [
        "# Naive Bayes\n",
        "nb_model = MultinomialNB()\n",
        "nb_model.fit(X_train_tfidf, Y_train)\n",
        "Y_pred_nb = nb_model.predict(X_test_tfidf)\n",
        "\n",
        "# Metrics\n",
        "accuracy_nb = accuracy_score(Y_test, Y_pred_nb)\n",
        "precision_nb = precision_score(Y_test, Y_pred_nb, average='weighted')\n",
        "recall_nb = recall_score(Y_test, Y_pred_nb, average='weighted')\n",
        "f1_nb = f1_score(Y_test, Y_pred_nb, average='weighted')\n",
        "conf_matrix_nb = confusion_matrix(Y_test, Y_pred_nb)\n",
        "\n",
        "print(\"NB Performance:\")\n",
        "print(\"Accuracy:\", accuracy_nb)\n",
        "print(\"Precision:\", precision_nb)\n",
        "print(\"Recall:\", recall_nb)\n",
        "print(\"F1 Score:\", f1_nb)\n",
        "print(\"Confusion Matrix:\\n\", conf_matrix_nb)\n"
      ],
      "metadata": {
        "colab": {
          "base_uri": "https://localhost:8080/",
          "height": 0
        },
        "id": "GwILaYCyPrQ0",
        "outputId": "bfa22375-45b0-4bda-f5bc-ad1007627102"
      },
      "execution_count": 74,
      "outputs": [
        {
          "output_type": "stream",
          "name": "stdout",
          "text": [
            "NB Performance:\n",
            "Accuracy: 0.8290240349599417\n",
            "Precision: 0.7223679882254347\n",
            "Recall: 0.8290240349599417\n",
            "F1 Score: 0.770681530613087\n",
            "Confusion Matrix:\n",
            " [[1019    0    0    0  204]\n",
            " [  89    0    0    0   59]\n",
            " [  58    0    0    0  118]\n",
            " [  19    0    0    0  367]\n",
            " [  25    0    0    0 3534]]\n"
          ]
        },
        {
          "output_type": "stream",
          "name": "stderr",
          "text": [
            "/usr/local/lib/python3.10/dist-packages/sklearn/metrics/_classification.py:1344: UndefinedMetricWarning: Precision is ill-defined and being set to 0.0 in labels with no predicted samples. Use `zero_division` parameter to control this behavior.\n",
            "  _warn_prf(average, modifier, msg_start, len(result))\n"
          ]
        }
      ]
    },
    {
      "cell_type": "code",
      "source": [
        "linear_model = LinearRegression()\n",
        "\n",
        "# Fit the model on TF-IDF transformed training data\n",
        "linear_model.fit(X_train_tfidf, Y_train)\n",
        "\n",
        "# Predict on the TF-IDF transformed test data\n",
        "Y_pred_linear = linear_model.predict(X_test_tfidf)\n",
        "\n",
        "# Calculate metrics for evaluation\n",
        "mse_linear = mean_squared_error(Y_test, Y_pred_linear)\n",
        "r2_linear = r2_score(Y_test, Y_pred_linear)\n",
        "\n",
        "# Print metrics\n",
        "print(\"Mean Squared Error (MSE) for Linear Regression:\", mse_linear)\n",
        "print(\"R-squared score for Linear Regression:\", r2_linear)"
      ],
      "metadata": {
        "colab": {
          "base_uri": "https://localhost:8080/",
          "height": 0
        },
        "id": "0ALmGalbP-fN",
        "outputId": "e0e287b6-3d27-40d1-91a0-f5f2a3bcfece"
      },
      "execution_count": 77,
      "outputs": [
        {
          "output_type": "stream",
          "name": "stdout",
          "text": [
            "Mean Squared Error (MSE) for Linear Regression: 5.352240244466349\n",
            "R-squared score for Linear Regression: -0.9246909124728291\n"
          ]
        }
      ]
    },
    {
      "cell_type": "code",
      "source": [
        "#word2vec\n",
        "word2vec_model = Word2Vec(sentences=X_train, vector_size=100, window=5, min_count=1, workers=4)\n",
        "word2vec_model.train(X_train, total_examples=len(X_train), epochs=10)\n"
      ],
      "metadata": {
        "colab": {
          "base_uri": "https://localhost:8080/",
          "height": 0
        },
        "id": "ZNEV_65sVYy7",
        "outputId": "c7518df1-590b-4cd3-b3df-add97dd68fe5"
      },
      "execution_count": 94,
      "outputs": [
        {
          "output_type": "stream",
          "name": "stderr",
          "text": [
            "WARNING:gensim.models.word2vec:Each 'sentences' item should be a list of words (usually unicode strings). First item here is instead plain <class 'str'>.\n",
            "WARNING:gensim.models.word2vec:Effective 'alpha' higher than previous training cycles\n",
            "WARNING:gensim.models.word2vec:EPOCH 0: supplied example count (3) did not equal expected count (16474)\n",
            "WARNING:gensim.models.word2vec:EPOCH 1: supplied example count (3) did not equal expected count (16474)\n",
            "WARNING:gensim.models.word2vec:EPOCH 2: supplied example count (3) did not equal expected count (16474)\n",
            "WARNING:gensim.models.word2vec:EPOCH 3: supplied example count (3) did not equal expected count (16474)\n",
            "WARNING:gensim.models.word2vec:EPOCH 4: supplied example count (3) did not equal expected count (16474)\n",
            "WARNING:gensim.models.word2vec:EPOCH 5: supplied example count (3) did not equal expected count (16474)\n",
            "WARNING:gensim.models.word2vec:EPOCH 6: supplied example count (3) did not equal expected count (16474)\n",
            "WARNING:gensim.models.word2vec:EPOCH 7: supplied example count (3) did not equal expected count (16474)\n",
            "WARNING:gensim.models.word2vec:EPOCH 8: supplied example count (3) did not equal expected count (16474)\n",
            "WARNING:gensim.models.word2vec:EPOCH 9: supplied example count (3) did not equal expected count (16474)\n"
          ]
        },
        {
          "output_type": "execute_result",
          "data": {
            "text/plain": [
              "(71, 510)"
            ]
          },
          "metadata": {},
          "execution_count": 94
        }
      ]
    },
    {
      "cell_type": "code",
      "source": [
        "# Get the keys or vocabulary (list of words)\n",
        "keys = list(word2vec_model.wv.key_to_index.keys())\n",
        "print(\"Vocabulary Keys:\", keys)\n"
      ],
      "metadata": {
        "colab": {
          "base_uri": "https://localhost:8080/",
          "height": 0
        },
        "id": "zSzMw6CsYRnj",
        "outputId": "3378cdf0-57b3-46c6-db2a-decb73d78385"
      },
      "execution_count": 100,
      "outputs": [
        {
          "output_type": "stream",
          "name": "stdout",
          "text": [
            "Vocabulary Keys: ['e', 'i', 'm', 'd', '_', 'a', 'r', 't', 'l', 'o', 'w', 'z', 'v', 'y', 'u', 'b', 'n', 'h', 'c']\n"
          ]
        }
      ]
    },
    {
      "cell_type": "code",
      "source": [
        "similar_words = word2vec_model.wv.most_similar('h')\n",
        "print(\"Most similar words to 'word':\", similar_words)\n"
      ],
      "metadata": {
        "colab": {
          "base_uri": "https://localhost:8080/",
          "height": 0
        },
        "id": "Efw4BUstX-hw",
        "outputId": "a2376e76-5775-41c1-8859-7df2f1d23e4c"
      },
      "execution_count": 101,
      "outputs": [
        {
          "output_type": "stream",
          "name": "stdout",
          "text": [
            "Most similar words to 'word': [('u', 0.24724404513835907), ('c', 0.11995989829301834), ('t', 0.11976773291826248), ('y', 0.11841350048780441), ('w', 0.09760842472314835), ('i', 0.08755474537611008), ('a', 0.07402337342500687), ('z', 0.061001572757959366), ('d', 0.044109832495450974), ('l', 0.015562202781438828)]\n"
          ]
        }
      ]
    },
    {
      "cell_type": "code",
      "source": [
        "similarity_score = word2vec_model.wv.similarity('a', 'e')\n",
        "print(\"Similarity Score between word1 and word2:\", similarity_score)\n"
      ],
      "metadata": {
        "colab": {
          "base_uri": "https://localhost:8080/",
          "height": 0
        },
        "id": "fZtjkJKXY82L",
        "outputId": "fd67ccb6-8a0b-4096-de30-bbe01d8a73dd"
      },
      "execution_count": 102,
      "outputs": [
        {
          "output_type": "stream",
          "name": "stdout",
          "text": [
            "Similarity Score between word1 and word2: -0.05307749\n"
          ]
        }
      ]
    },
    {
      "cell_type": "code",
      "source": [
        "#Glove Algorithm\n",
        "df['combined_text'] = df['review_head'] + ' ' + df['review_body']\n",
        "\n",
        "\n",
        "tokenized_corpus = [sentence.lower().split() for sentence in df['combined_text']]\n",
        "\n",
        "\n",
        "glove_model = Word2Vec(sentences=tokenized_corpus, vector_size=100, window=5, min_count=1, sg=1)\n",
        "\n",
        "\n",
        "glove_model.save(\"glove_model.model\")\n",
        "\n",
        "\n",
        "word_vectors = glove_model.wv\n"
      ],
      "metadata": {
        "id": "HHqdgqMlZF5k"
      },
      "execution_count": 114,
      "outputs": []
    },
    {
      "cell_type": "code",
      "source": [
        "all_keys = list(word_vectors.key_to_index.keys())\n",
        "\n",
        "# Display all keys\n",
        "print(\"All keys in the vocabulary:\")\n",
        "print(all_keys)"
      ],
      "metadata": {
        "colab": {
          "base_uri": "https://localhost:8080/",
          "height": 0
        },
        "id": "Q6X5MSQ5gw0l",
        "outputId": "8f8ca2b1-732c-4e2f-beec-d44702e31025"
      },
      "execution_count": 117,
      "outputs": [
        {
          "output_type": "stream",
          "name": "stdout",
          "text": [
            "All keys in the vocabulary:\n",
            "['i', 'to', 'the', 'and', 'a', 'my', 'is', 'they', 'it', 'for', 'with', 'of', 'was', 'have', 'you', 'that', 'in', 'chime', 'money', 'me', 'this', 'not', 'account', 'bank', 'on', 'easy', 'service', 'great', 'so', 'no', 'had', 'very', 'get', 'love', 'but', 'your', 'been', 'card', 'are', 'customer', 'use', 'be', 'them', 'from', 'all', 'none', 'do', 'sofi', 'as', 'an', 'its', 'when', 'would', 'if', 'app', 'their', 'has', 'time', 'at', 'loan', 'good', 'up', 'will', 'dont', 'out', 'can', 'like', 'or', 'just', 'days', 'about', 'best', 'process', 'one', 'back', 'experience', 'never', 'company', 'banking', 'there', 'any', 'im', 'ive', 'because', 'now', 'fast', 'only', 'credit', 'varo', 'what', 'am', 'ever', 'deposit', 'over', 'transfer', 'send', 'then', 'even', 'after', 'fees', 'could', 'way', 'more', 'how', 'by', 'other', 'than', 'were', 'still', '2', 'quick', 'recommend', 'always', 'got', 'online', 'we', 'did', 'help', 'pay', 'also', 'check', 'told', 'really', 'using', 'need', 'day', 'interest', 'which', 'cant', 'give', 'make', 'email', 'people', 'go', 'paid', 'early', 'know', 'phone', 'through', 'funds', 'transaction', 'far', 'sent', 'call', 'every', 'stash', 'made', 'excellent', 'able', 'celsius', 'getting', 'direct', 'union', 'called', 'business', 'years', 'work', 'said', 'everything', 'take', 'some', 'western', 'again', 'first', 'being', 'going', 'much', 'didnt', 'rate', 'new', 'who', 'into', 'want', 'worst', 'why', 'application', 'received', 'another', 'times', 'well', 'support', 'awesome', 'better', 'simple', 'without', 'thank', 'since', 'same', 'off', 'say', 'used', 'two', 'information', 'nothing', 'problem', 'fee', '3', 'issue', 'before', 'issues', '5', 'pnc', 'took', 'keep', 'went', 'someone', 'wu', 'many', 'months', 'tried', 'personal', 'horrible', 'see', 'anyone', 'should', 'rates', 'happy', 'closed', 'access', 'our', 'payment', 'points', 'having', 'most', 'convenient', 'transactions', 'few', 'month', 'amazing', 'number', 'cash', 'until', 'put', 'trying', 'where', 'tell', 'needed', 'wait', 'helpful', 'debit', 'too', 'hold', 'sending', 'banks', 'week', 'website', 'hours', 'anything', 'problems', 'crypto', 'these', 'savings', 'asked', 'long', 'absolutely', 'friendly', 'she', 'down', 'system', 'reason', 'free', 'done', 'dispute', 'he', 'bad', 'right', 'accounts', 'person', 'think', 'spot', 'customers', 'services', 'thanks', 'receive', 'try', 'loans', 'financial', 'does', 'weeks', 'amount', 'care', 'family', 'last', 'let', 'away', 'year', 'thing', 'stars', 'us', 'charge', 'close', 'different', 'response', 'deposits', 'thats', 'within', 'several', 'highly', 'later', 'overdraft', 'next', 'trust', 'reliable', 'yet', 'please', 'around', 'review', 'user', 'atm', 'doesnt', '4', 'change', 'understand', 'refund', 'fraud', 'everyone', 'rewards', 'her', 'find', 'mobile', 'lot', 'guys', 'checking', 'super', 'wont', 'little', '1', 'available', 'id', 'couldnt', 'hard', 'while', 'today', 'name', '10', 'terrible', 'something', 'saying', 'balance', 'needs', 'minutes', 'offer', 'wish', 'makes', 'doing', 'transfers', 'havent', 'answer', 'due', 'u', 'ask', 'actually', 'once', 'security', 'nice', 'almost', 'gave', 'approved', 'finally', 'already', 'friends', 'ago', 'things', 'waiting', 'started', 'working', 'extremely', 'apply', 'open', 'scam', 'real', 'found', 'less', 'takes', 'job', 'save', 'high', 'payments', 'set', 'deposited', 'cannot', 'contact', 'platform', 'else', 'option', 'cards', 'here', 'locked', 'life', 'questions', 'site', 'however', 'team', 'start', 'checks', '100', 'applied', 'charges', 'efficient', 'wasnt', 'debt', 'wouldnt', 'helped', 'denied', 'feel', 'safe', 'place', 'definitely', 'sure', 'address', 'dollars', 'looking', 'works', 'lost', 'feature', 'provide', 'fact', 'ease', 'overall', 'end', 'theyre', 'speak', 'wrong', 'second', 'though', 'quickly', 'point', 'own', 'student', 'look', 'opened', 'charged', 'emails', 'earn', 'wonderful', 'talk', 'come', 'may', 'wanted', 'home', 'both', 'documents', 'each', 'his', 'score', 'immediately', 'monthly', 'live', 'stay', 'making', 'taken', 'deal', 'options', 'such', 'those', 'investing', 'three', 'zero', 'secure', 'complete', 'instead', 'couple', 'stolen', 'believe', 'happened', 'info', 'cancel', 'thought', 'star', 'soon', 'professional', 'paycheck', 'easier', 'smooth', 'enough', 'youre', 'given', '20', 'invest', 'taking', 'negative', 'features', 'whole', 'provided', 'representative', 'poor', 'reward', 'pretty', 'network', 'big', 'purchase', 'closing', 'says', 'comes', 'reviews', 'run', 'part', 'builder', 'supervisor', 'plus', 'clear', 'satisfied', 'line', 'low', 'paying', 'request', 'multiple', 'companies', 'least', 'earlier', 'bills', 'hassle', 'sign', 'approval', 'spoke', 'fraudulent', 'slow', 'allow', 'kept', 'forward', 'enjoy', 'came', 'future', 'telling', 'transferred', 'order', 'via', 'situation', 'decided', 'income', 'department', 'appreciate', 'theres', 'full', 'friend', 'others', 'twice', 'worked', 'left', '30', 'late', 'asking', 'past', 'ill', 'claim', 'disappointed', 'contacted', 'add', 'extra', 'completely', 'longer', 'member', 'rep', 'investment', 'helps', 'fix', 'agent', 'giving', 'verify', 'entire', 'hidden', 'recently', '50', 'complaints', 'glad', 'literally', 'worse', 'seems', 'navigate', 'hope', 'easiest', '6', 'old', 'declined', 'recommended', 'happen', 'waste', 'communication', 'explanation', 'lower', 'gets', 'bit', 'higher', 'faster', 'branch', 'holding', 'stop', 'during', '24', 'kind', 'changed', 'signed', 'bonus', 'either', 'decision', 'small', 'refinance', 'him', 'sorry', 'store', 'myself', 'bbva', '0', 'code', 'especially', 'wallet', 'read', 'mail', 'calls', 'hour', 'buy', 'proof', 'staff', 'unable', 'yall', 'ok', 'worth', 'truly', 'message', 'requested', 'stock', 'error', 'offers', 'possible', 'question', 'sucks', 'report', 'calling', 'chat', 'withdraw', 'coins', 'move', 'idea', 'mortgage', 'state', 'cancelled', 'except', 'pleased', 'honestly', 'joke', 'top', 'frustrating', 'isnt', 'institution', 'regular', 'referral', 'date', 'limit', 'refused', 'discount', '7', 'under', 'difficult', 'allowed', 'link', 'social', 'return', 'simply', 'investigation', 'emailed', 'exchange', 'world', 'perfect', 'hate', 'spending', 'etc', 'offered', 'loved', 'saving', 'file', 'timely', 'awful', 'avoid', 'redeem', 'funded', 'heard', 'stocks', 'continue', 'funding', 'single', 'reply', 'ridiculous', 'purchases', 'community', 'steal', 'gone', 'goes', 'helping', 'terms', 'sometimes', 'maybe', 'resolved', 'monday', 'reach', 'weekly', 'stole', 'informed', 'lie', 'consolidate', 'cost', 'bill', 'complaint', 'switch', 'hacked', 'leave', 'update', 'canceled', 'show', 'chimes', 'manager', 'total', 'rude', 'local', 'waited', 'pending', 'fixed', 'fantastic', 'cause', 'history', 'receiving', 'applying', 'ones', 'guess', 'case', 'true', 'supposed', 'anywhere', 'benefits', 'coming', 'morning', 'honest', 'seem', 'payday', 'straight', 'easily', 'yield', 'activity', 'positive', 'quite', 'promo', 'matter', 'friday', '12', 'product', '15', 'car', '500', 'respond', 'based', '200', 'merchant', 'unauthorized', 'half', 'transferring', 'dollar', 'additional', 'lending', 'identity', 'must', 'cel', 'fine', 'trustworthy', 'spend', 'seen', 'whats', 'absolute', 'resolve', 'basically', 'notifications', 'impressed', 'password', 'per', 'refinancing', 'huge', 'accept', 'talking', 'type', 'explained', 'experiences', 'earned', 'returned', 'gotten', 'withdrawal', 'short', 'program', 'impossible', 'previous', 'follow', 'dealing', 'actual', 'choose', 'explain', 'lock', 'ability', 'filed', 'employees', 'hands', 'text', 'reps', 'choice', 'assets', 'between', 'totally', 'period', 'trouble', 'traditional', 'spotme', 'gives', '45', 'refunded', 'market', 'against', 'verification', 'transparent', 'spent', 'track', 'correct', 'required', 'useless', 'mind', 'thru', 'advance', 'wife', 'mention', 'probably', 'lender', 'answered', 'experienced', 'atms', 'members', 'stating', 'husband', 'prepaid', 'currently', 'notice', 'payroll', 'might', 'nobody', 'answers', 'step', 'along', 'means', 'gas', 'keeps', 'mistake', 'incompetent', 'dealt', 'post', 'yes', 'yesterday', 'beware', 'yourself', 'expect', 'convenience', 'beyond', 'plan', 'license', 'pick', 'log', 'ceo', 'warning', 'stated', 'rating', 'five', 'products', 'location', 'page', 'chase', 'missing', 'submitted', 'saved', 'suspended', 'turn', 'lack', 'third', 'daily', 'exactly', 'switched', 'ready', 'rather', 'major', 'course', 'login', 'rejected', 'manage', 'receiver', 'walmart', 'figure', 'further', 'country', 'employer', 'statement', 'protection', 'automated', 'english', 'large', 'round', 'rent', 'documentation', 'allows', 'hung', 'human', 'seamless', 'completed', 'stress', 'updates', 'n', 'outstanding', 'cool', 'four', 'earning', 'shows', 'painless', 'elsewhere', '25', 'unless', 'prompt', 'auto', 'refer', 'current', 'steps', 'letter', 'keeping', 'reasons', 'transparency', 'hit', 'draft', 'including', 'son', 'oh', 'attempted', 'fair', 'delivery', 'regarding', 'sense', 'apps', '300', 'although', 'directly', 'youll', '1000', 'opportunity', 'stupid', 'interface', 'promised', 'build', 'speaking', '2020', 'web', 'manner', 'ur', 'lets', 'often', 'suspicious', 'unfortunately', 'paper', 'kids', 'representatives', 'moving', 'mine', 'paperwork', 'beginning', 'form', '8', 'reasonable', 'policy', 'opening', 'word', 'whatever', 'switching', 'turned', 'reached', 'ways', 'changing', 'disputed', 'despite', 'happens', 'computer', 'users', 'nor', 'provides', 'leaving', 'god', 'hell', 'pull', 'unprofessional', 'instantly', 'shut', 'reported', 'anymore', 'acct', 'grateful', 'alex', '2021', 'office', 'finances', 'numbers', '90', 'agents', 'write', 'forever', 'lose', 'release', 'verified', 'tax', 'changes', 'accepted', 'ended', 'compared', 'straightforward', 'knew', 'repeat', 'instant', 'details', 'sell', 'posted', 'clearly', 'processing', 'picture', 'felt', 'hear', 'showed', 'places', 'somewhere', 'chance', 'bs', 'employee', 'load', 'automatically', 'false', 'usually', 'claims', 'thousands', 'till', 'suck', 'setup', 'house', 'refinanced', 'stuck', 'action', 'anybody', 'otherwise', 'joined', 'consolidation', 'knowledgeable', 'learn', 'improve', 'ahead', 'certain', 'bunch', 'processed', 'referred', 'thinking', 'side', 'anytime', 'upload', 'crap', '2nd', 'bought', 'hasnt', 'initial', 'submit', 'arent', 'fun', 'okay', 'depositing', 'shouldnt', 'borrow', 'level', 'perks', 'decent', 'talked', 'pin', 'chose', 'tells', 'updated', 'seriously', 'normal', 'starting', 'theyve', 'knowing', 'automatic', 'internet', 'control', 'building', 'accurate', 'daughter', 'putting', 'paypal', 'competitive', 'night', 'recent', 'prove', 'nightmare', 'increase', 'luck', 'lied', '40', 'finish', 'showing', 'pleasant', 'fastest', 'prior', 'moved', 'added', 'charging', 'states', 'opinion', 'subscription', 'providing', 'middle', 'expensive', 'reading', 'price', 'research', 'recipient', 'useful', 'worry', 'emergency', 'value', 'crazy', 'important', '3rd', 'responsive', 'held', 'costs', 'frustrated', '14', 'school', 'listen', '10000', 'act', 'wire', 'statements', 'handled', 'anyway', 'looked', 'list', 'upset', 'investments', 'behind', 'failed', 'lots', 'front', 'saw', 'sooner', 'trash', 'bbb', 'original', 'handle', 'march', 'speed', 'asap', 'enjoyed', 'seemed', 'expected', 'status', 'term', 'finance', 'nearly', 'responses', 'double', '48', 'non', 'unacceptable', 'contacting', 'themselves', 'story', 'blocked', 'rest', 'fund', 'federal', 'ach', 'july', 'become', '9', 'seeing', 'issued', 'learning', 'advise', 'management', 'moment', 'similar', 'northone', 'minimum', 'alot', 'cut', 'retirement', 'above', 'guy', 'concerns', 'legal', 'benefit', 'tracking', 'apparently', 'trusted', '2022', '60', 'screwed', 'withdrawals', 'attempt', 'f', 'checked', 'protect', 'assistance', 'cover', 'token', 'btc', 'disputes', 'passed', 'copy', 'touch', 'redeemed', 'damn', 'qualify', 'polite', 'regret', 'green', 'suppose', 'following', 'clients', 'join', 'released', 'brick', 'refuse', 'messages', 'exceptional', 'considering', 'minute', 'hopefully', 'unlock', 'constantly', 'consumer', 'mean', 'apy', 'honor', 'attorney', 'alert', 'locations', 'adding', 'happening', 'risk', 'food', 'attempts', 'wants', 'understanding', 'sofis', 'visa', 'whether', 'responded', 'law', 'whatsoever', 'suggest', 'valid', 'mother', 'filing', 'greatest', 'necessary', 'pandemic', 'solution', 'numerous', 'excuse', 'theft', 'hostage', 'surprised', 'amounts', 'returns', 'forget', 'fault', 'caused', 'main', 'evidence', 'refi', 'scammers', 'physical', 'hodl', 'knows', 'stopped', 'game', 'technical', 'looks', 'fully', 'budget', 'everytime', 'assist', 'share', 'party', 'listed', 'legit', 'upon', 'police', 'activate', 'portfolio', 'mortar', 'created', 'digital', '250', 'noticed', 'machine', 'mom', 'disabled', 'near', 'courteous', 'ticket', 'advice', 'treated', 'loving', 'boost', 'bureau', 'drivers', 'notification', 'screen', 'linked', 'christmas', 'promotion', 'international', 'thus', 'everyday', 'confused', 'confirmed', '35', 'basic', 'freedom', 'careful', 'june', 'werent', 'solve', 'thieves', 'currency', 'across', 'eventually', 'treat', 'advertised', 'center', 'stuff', 'reset', 'whenever', 'results', 'filled', 'willing', 'record', 'partner', 'external', 'replacement', 'frozen', 'logged', 'delivered', 'shady', '1st', 'note', 'cleared', 'project', 'signing', 'words', 'incredibly', 'lady', 'insurance', 'headache', 'stealing', 'method', 'wrote', 'fill', 'onto', 'annoying', 'approve', 'ass', 'hang', 'lenders', 'philippines', '2019', 'relationship', 'area', '75', '400', 'aware', 'complain', 'class', 'sold', 'advantage', 'somebody', 'barely', 'enjoying', '2018', 'data', 'inconvenience', 'separate', 'folks', 'fake', 'happier', 'together', 'letting', 'stimulus', 'trade', 'handy', 'april', 'resolution', 'liked', 'active', 'pm', 'pays', 'invested', 'setting', 'meet', 'alternative', 'deny', 'december', 'somehow', 'comfortable', 'unemployment', 'offering', 'lol', 'america', 'informative', 'click', 'knowledge', 'institutions', 'india', 'forced', 'allowing', '800', 'bc', 'protected', 'living', 'face', 'wednesday', 'throughout', 'feedback', 'sister', 'gonna', 'alone', 'placed', 'hand', 'followed', 'sick', '80', 'missed', 'corporate', 'deliver', 'receipt', 'view', 'bother', 'losing', 'safety', 'specific', 'wells', 'document', 'advised', 'bitcoin', 'smoothly', 'confusing', 'written', 'involved', 'balances', 'august', 'match', 'complicated', 'exact', 'responsible', 'garbage', 'screw', 'consider', 'froze', 'google', 'sitting', 'hadnt', 'mashinsky', 'running', 'unbelievable', 'lies', 'occasions', 'confirmation', 'stable', 'finding', 'general', 'hundred', 'grow', 'confirm', 'effort', 'outside', 'potential', 'create', 'chine', 'youve', 'november', 'ordered', 'theyll', 'loyal', 'dropped', 'appreciated', 'connect', 'buying', 'celcius', 'bot', 'download', 'inside', 'codes', 'dot', 'difference', 'w', 'occurred', 'skeptical', 'trading', 'hoping', 'client', 'previously', 'repeatedly', 'forth', 'percentage', 'yeah', 'thousand', 'rules', 'uses', 'room', 'userfriendly', 'advertising', 'favorite', 'final', 'itself', 'expectations', 'thursday', 'rip', 'improved', 'immediate', 'watch', 'sad', 'activated', 'block', 'provisional', 'children', 'realized', 'improvement', 'peoples', 'obviously', 'notified', 'requests', 'fail', 'towards', 'average', 'authorized', 'bucks', 'begin', '13', 'crooks', 'agreement', 'expenses', 'increased', 'arrive', 'requesting', 'compromised', 'fdic', 'removed', 'edit', 'serious', 'wow', 'inform', 'banked', 'apple', 'feels', 'button', 'countries', 'platforms', 'piece', 'growing', 'everybody', 'organization', 'sort', 'concerned', 'wonder', 'covid', 'doubt', '11', 'enter', '2000', 'known', 'instructions', 'answering', 'photo', 'fargo', 'fairly', 'scammed', 'saturday', 'progress', 'forgot', 'fan', 'writing', 'paychecks', 'practices', 'criminal', 'puts', 'sounds', 'assured', 'woman', 'secured', 'basis', 'cashed', '23', 'usd', 'tip', 'january', 'investigate', 'drive', 'brother', 'refunds', 'mistakes', 'canceling', 'intuitive', 'delete', 'met', 'became', 'certainly', 'delay', 'passive', 'advertise', 'policies', 'alerts', 'miss', 'mess', 'self', 'example', 'encountered', 'payoff', 'industry', 'connected', 'disability', 'smart', 'respect', 'associated', 'arrived', 'min', 'costumer', 'government', 'streamlined', 'realize', 'reduce', 'schedule', 'dependable', 'existing', 'misleading', 'decline', 'properly', 'reviewed', 'overdrafts', 'september', 'feeling', 'tools', 'competitors', 'shown', 'consistently', 'hassles', 'jump', 'credited', 'select', 'unions', 'remember', 'concern', 'initially', 'therefore', 'owe', 'lying', 'gain', 'limits', 'pass', 'overseas', 'broken', 'transition', 'recognize', 'below', 'excited', 'notify', 'weekend', 'events', 'inmate', '5000', 'require', 'wasted', 'wealth', 'bait', 'seconds', 'uploaded', 'deducted', 'hi', 'accessible', 'hoops', 'quality', 'systems', 'tomorrow', 'title', 'proper', 'imagine', 'ran', 'blame', 'tech', 'obtain', 'holder', 'irs', 'medical', 'nonexistent', 'victim', 'began', 'wanna', 'zelle', 'patient', 'emailing', 'surprise', 'attention', 'conversation', 'tokens', 'cell', 'autopay', 'entered', 'communicate', 'quicker', 'incredible', 'everywhere', 'resend', 'deserve', 'promise', 'standard', 'metal', 'shares', 'mailed', 'individual', 'awhile', 'pain', 'cares', 'american', 'claimed', 'play', 'addition', 'continues', 'notch', 'count', 'y', 'supervisors', 'ten', 'businesses', 'consistent', 'coin', 'branches', 'software', 'investigated', 'messed', 'affordable', 'drop', 'capital', 'include', 'special', 'needing', 'strongly', 'e', 'space', 'processes', 'shame', 'favor', 'threw', 'stick', 'routing', 'neither', 'child', 'disconnected', 'considered', 'clean', 'sudden', 'shop', 'media', 'apr', 'usdc', 'larger', '247', 'feed', 'pre', 'mins', 'clue', 'verifying', 'ppl', 'refuses', 'hrs', 'plenty', 'news', 'legitimate', 'lawyer', 'fall', 'opportunities', 'man', 'replied', 'private', 'learned', 'beat', 'fashion', 's', 'result', 'loss', 'refusing', 'unlike', 'profit', 'interested', 'broke', 'b', 'availability', 'included', 'biggest', 'remaining', 'financially', 'suddenly', 'pros', 'promptly', 'permission', 'mostly', 'electronic', 'jobs', 'generic', 'primary', 'obtaining', 'script', 'wasting', 'authorize', 'stand', 'continued', 'decide', 'effective', 'tired', 'bottom', 'reduced', 'tuesday', 'limited', 'power', 'station', 'sends', 'various', 'besides', 'concept', 'companys', 'scheduled', 'thankful', 'warned', 'rock', '18', 'joint', 'ads', 'bonuses', 'normally', 'spoken', 'unbank', 'highest', 'teller', 'birthday', 'situations', 'woke', 'afford', 'usual', 'october', 'freeze', 'responsibility', 'expecting', 'rid', 'hundreds', 'logging', 'solid', 'experiencing', 'criminals', 'supposedly', 'theyd', 'planning', 'prefer', 'successful', 'taxes', 'ukraine', 'six', 'light', 'key', 'weve', 'o', 'originally', 'decisions', 'awsome', 'pictures', 'requirements', 'financing', '34', 'source', 'advertisement', 'angry', 'modern', 'appears', 'personally', 'afternoon', 'husbands', 'ton', 'investor', 'simplicity', 'correctly', 'clueless', 'principal', 'joining', 'fighting', 'collect', 'forms', 'efficiency', 'college', 't', 'delays', 'luckily', 'disappointing', 'nexo', 'venmo', 'pages', 'abroad', 'peace', 'confidence', 'stayed', 'holds', '16', 'minor', 'actions', 'bring', 'hotel', 'smh', 'mad', 'possibly', 'education', 'withdrawn', 'reviewing', 'wouldve', 'express', 'discovered', 'resulted', 'updating', 'reject', 'holidays', 'dept', 'loose', 'cashapp', 'phones', 'amazed', 'officer', 'sba', 'age', 'uk', 'regularly', 'exist', 'thorough', 'attached', 'speedy', 'declining', 'video', 'reopen', 'disaster', 'plaid', 'sit', 'flawless', 'hey', 'nowhere', 'inquiry', 'standing', 'boyfriend', 'amas', 'shopping', 'appear', 'hole', 'percent', 'mentioned', 'temporary', 'unlocked', 'debited', 'blessing', 'stablecoins', 'lives', 'saves', 'thier', 'mohela', 'earnings', 'facebook', 'california', 'errors', 'independent', 'attempting', 'operate', 'utilize', 'yrs', 'quickest', 'withdrew', 'reduction', 'frustration', 'items', 'minimal', 'parent', 'parents', 'needless', 'explaining', 'claiming', 'shocked', 'item', 'remove', 'function', 'swift', 'kidding', 'cheap', 'persons', 'apex', 'worries', 'sender', 'flexible', 'l', 'frequently', 'pleasure', 'sunday', 'reputable', 'walk', 'becoming', 'lines', 'holiday', 'vendor', 'authorization', 'glitch', 'eth', 'selling', 'breeze', 'fi', '5th', 'ups', 'according', 'penny', 'randomly', 'portion', 'ui', 'r', 'strong', 'buggy', 'technology', 'portal', 'wanting', 'worried', 'win', 'employment', 'interests', 'sites', '600', 'promises', 'gift', 'fraudulently', 'unexpected', 'apologize', 'trained', 'receivers', 'search', 'walked', 'countless', 'families', 'street', 'greatly', 'choices', 'turns', 'consolidated', 'valuable', 'saver', 'hack', 'workers', 'related', 'kyc', 'redeeming', 'head', 'continuing', 'passport', 'section', 'career', 'compare', 'freaking', 'professionalism', 'amazingly', 'referring', 'corrected', 'whom', 'heart', 'escalated', 'commercial', 'horrendous', 'event', 'random', 'preapproved', 'referrals', 'pleasantly', 'youtube', 'confident', 'suspend', 'identification', 'cosigner', 'acceptable', 'recipients', 'origination', 'solved', 'guarantee', 'tool', 'incompetence', 'varos', 'caring', 'effortless', 'owed', 'town', 'difficulties', 'unnecessary', 'lowest', 'book', 'overdraw', 'privacy', 'hire', 'brought', 'tho', 'deleted', 'court', 'qualified', '50000', 'inconvenient', 'figured', 'incentives', 'faith', 'collateral', 'payed', 'urgent', 'incorrect', 'lawsuit', 'managed', 'mexico', 'language', 'incentive', 'gotta', 'canned', 'contract', 'shot', 'successfully', 'print', 'ignored', 'nonsense', 'cashing', 'robot', 'eligible', 'groceries', 'elses', 'wondering', 'stressful', 'funny', 'monies', 'names', 'survey', 'package', 'aside', 'tries', 'hello', 'debts', '700', 'profile', 'fight', 'eat', 'apart', 'caught', 'sue', 'andor', 'filling', 'poorly', 'goals', 'consolidating', 'promotions', 'prepared', 'exceeded', 'expired', 'typical', 'discover', 'relatives', 'manually', 'young', 'insured', 'desk', 'docs', 'specifically', 'glitches', 'appointment', 'watching', 'nope', 'agree', 'design', 'covered', 'united', 'thumbs', 'model', 'worthy', 'interaction', 'managers', 'finished', 'recommending', 'owner', 'odd', 'thrilled', 'appraisal', 'cases', 'foreign', 'wallets', 'insane', 'individuals', 'existent', 'indicated', 'aspect', 'deactivated', 'february', 'ad', 'named', 'overnight', 'busy', 'ppp', 'causing', 'ama', 'accidentally', 'expedite', 'reads', 'selfie', 'vero', 'virtual', 'likely', 'test', 'replies', 'cs', 'illegal', 'common', 'consumers', 'ie', 'coinbase', 'deals', 'm', 'prison', 'accepting', 'comfort', 'cryptocurrency', 'rely', 'speaks', 'broker', 'bye', 'recieved', '24hrs', 'dislike', 'responding', 'suggestion', 'walgreens', 'pncs', 'ignore', 'suit', 'dec', 'matters', 'public', 'cryptos', 'meantime', 'spam', 'understood', 'rocks', 'investigating', 'tight', 'break', 'comment', '2days', 'bancorp', 'continuously', 'reporting', 'swap', 'frame', 'delayed', 'cancelling', 'bull', 'blue', 'amazon', 'firm', 'sat', 'red', 'investors', 'covid19', 'tips', 'supporting', 'safely', 'asset', 'reimburse', 'mode', 'agency', 'thief', 'cold', 'lazy', 'usa', 'additionally', 'designed', 'ultimately', 'suggested', 'posting', 'difficulty', 'outage', 'bigger', 'itll', 'nervous', 'marketing', 'conditions', 'conversion', 'crashes', 'box', 'door', 'liars', 'disputing', 'ending', 'compliance', 'server', 'voice', 'whoever', 'reference', 'regardless', '57', 'starts', 'inept', 'priority', '1500', 'whos', 'perfectly', 'turnaround', 'kinds', 'escalate', '10th', 'asks', 'encourage', 'cheaper', 'spouse', 'patience', 'catch', 'clearing', 'welcome', 'relatively', 'lead', 'promos', 'sketchy', 'truth', 'playing', 'unreliable', 'official', 'push', 'settled', 'internationally', 'plans', 'ss', 'repayment', 'granted', 'lucky', '4th', 'prices', 'group', 'worthless', 'communicated', 'satisfactory', 'listening', 'selected', 'handling', 'fit', 'purpose', 'borrowing', 'banker', 'dl', 'payout', 'fixing', 'defi', 'pickup', 'penalty', 'resource', 'reverse', 'letters', 'frequent', 'disappeared', 'genuinely', 'obvious', 'reaching', 'sound', 'typically', 'practice', 'remain', 'dime', 'todays', 'yours', 'cashiers', 'present', 'procedure', '28', 'ahold', 'monitor', 'excessive', 'training', 'shortly', 'initiated', 'variable', 'hes', 'types', 'harder', 'unhappy', 'purchased', 'telephone', 'mailing', 'improvements', 'daughters', 'stores', 'die', 'games', 'miles', 'robbed', '10k', 'scams', 'manageable', 'netspend', 'hearing', 'spanish', 'cellphone', 'fed', 'supportive', 'goal', 'integrity', 'ssi', 'pathetic', '2fa', '5k', 'treatment', 'raised', 'ongoing', 'demand', 'courtesy', 'transfered', 'entity', 'repeated', '100000', 'complained', 'satisfaction', 'black', 'activities', 'unfair', 'na', 'proceeded', 'hardly', 'competent', '100k', 'grocery', 'reflect', 'stockback', 'buyer', 'ends', 'connection', 'violated', 'unhelpful', 'electronically', 'retrieve', 'staying', 'currencies', 'recurring', 'rough', 'superb', 'water', 'providers', 'unresponsive', 'raise', 'maintenance', 'dates', 'beneficial', 'specialist', 'dissatisfied', 'pocket', 'communications', 'provider', 'creating', 'phenomenal', 'national', '31', 'map', 'flat', 'copies', 'stellar', 'changer', 'chip', 'city', 'owners', 'sum', 'repay', '900', 'minus', 'hanging', 'liar', 'heck', 'drained', 'pulled', 'bind', 'd', 'endless', 'evening', 'outrageous', 'reversed', 'vendors', 'explanations', 'success', 'combined', 'bankers', 'summary', 'journey', 'ratio', 'opposite', 'approximately', '9th', 'fingertips', 'underwriting', 'lifetime', 'ensure', 'salary', 'cared', 'proven', 'dishonest', 'disclose', 'affected', 'lowered', 'constant', 'anyways', '3000', 'detail', 'stranded', 'clunky', 'acc', 'records', 'disappear', 'steals', 'prevent', 'downloaded', 'overdrawn', '1010', 'accused', 'version', 'loaded', 'storing', 'certificate', 'inquiries', 'enemy', 'blockfi', 'established', 'lacking', 'obtained', 'ssn', 'deserves', 'papers', 'cents', 'requires', 'ownership', 'lived', 'meanwhile', 'electricity', 'rebuttal', 'reminders', 'growth', 'cc', 'simplest', 'regards', 'hacker', 'fractional', 'withdrawing', 'scum', 'comments', 'rapid', 'homeless', 'holdings', 'programs', 'insisted', 'initiate', 'discounts', 'maximum', 'credits', 'built', 'unique', 'eye', 'reopened', 'aug', 'led', '150', 'target', 'outcome', 'replace', 'road', '2448', 'grace', 'linking', 'generally', 'behalf', 'recognized', 'aint', 'profits', 'paydays', 'draw', 'weird', 'wiring', 'completing', 'cuz', 'interactions', 'greedy', 'signup', 'fiat', 'acquired', 'san', 'serve', 'competitor', 'tellers', 'certified', 'promising', 'adult', 'purposes', 'cons', 'essentially', 'beginners', 'lengthy', 'mtcn', 'sons', 'crime', 'sec', 'death', 'uber', 'annual', 'ya', 'ship', 'hospital', 'planet', 'functions', 'seeking', 'purchasing', 'embarrassed', 'tons', 'signature', 'karma', 'sometime', 'holders', 'offerings', 'cent', 'fb', '2017', 'loop', 'institute', 'attitude', 'vs', 'rule', 'device', 'horrific', 'returning', 'scary', 'max', 'internal', 'staking', 'handles', 'importantly', 'va', 'addressed', 'regulations', 'quote', 'sounded', 'strange', 'million', 'regard', 'celsian', 'scores', 'virtually', 'excellence', 'submitting', 'backed', 'suffer', 'reapply', 'scheme', 'variety', 'denying', '19', 'compass', 'picked', 'rental', '2500', 'lately', 'closure', 'gains', 'fortunately', 'bless', 'resubmit', 'conduct', 'finger', 'upgrade', 'embarrassing', 'agreed', 'vacation', '21', 'efficiently', 'sweet', 'aka', 'acess', '17', 'junk', 'youd', 'fell', 'respectful', 'issuing', 'extended', 'grand', 'depending', 'wifes', 'guessing', 'particularly', 'heres', 'meant', 'unfortunate', '710', 'kudos', 'fidelity', 'presented', 'humans', 'compounding', 'encounter', 'incoming', 'departments', 'relative', 'assume', 'former', 'cvs', 'sight', 'reports', 'struggling', '6000', 'legally', 'loading', 'bugs', 'silly', 'convince', 'educational', 'exception', '72', 'achieve', 'laptop', 'bounce', 'instructed', 'smaller', 'uploading', 'proceed', 'significantly', 'vague', 'circumstances', 'scamming', 'absurd', 'bankruptcy', 'lousy', 'disable', 'reload', 'window', 'apologized', 'values', 'inconsistent', 'reliability', 'ukrainian', 'proud', 'supported', 'st', 'register', 'guidance', 'won', 'ruined', 'bogus', 'property', '95', 'locking', 'task', 'selection', 'sole', 'brokerage', 'counting', 'con', 'wise', 'excuses', 'improving', 'dd', 'listened', 'releasing', 'circles', 'somewhat', 'boss', 'hits', 'clarity', 'accounti', 'relations', 'escrow', 'acknowledge', 'flexibility', 'fax', 'falsely', 'gold', 'depends', 'spite', 'til', 'incident', 'notifying', 'rebuild', 'coworkers', 'hopes', 'unsecured', 'solutions', 'travel', '70', 'detailed', '140', 'partners', 'resolving', 'loyalty', 'guaranteed', 'exchanges', 'employed', 'corrupt', '27', 'force', 'steer', 'pro', 'blockchain', 'convert', 'inquire', 'perk', 'complaining', 'headaches', 'finalize', 'unavailable', 'soft', '20k', 'inquired', 'disgusting', 'cryptocurrencies', 'stake', '1200', 'enroll', 'turning', 'supports', 'orders', 'resort', 'award', 'dumb', 'recieve', 'trial', 'approach', 'co', 'pc', 'nearest', 'health', 'furious', 'freezes', 'sets', 'located', 'hence', 'chatted', 'reserve', 'estate', 'pulling', 'scammer', 'background', 'timeline', 'ignoring', '1099', 'ball', 'requiring', 'bout', 'applications', '29th', 'sht', 'upfront', 'racist', 'teams', 'cheers', 'settle', 'compound', 'resources', 'choosing', 'unethical', 'inmates', 'disappoint', 'navigation', 'ashley', '19th', 'crisis', 'ux', 'carry', 'perches', 'warn', 'theirs', 'measures', 'tonight', 'visit', 'moneygram', 'trades', 'believing', 'denial', 'pop', 'fiance', 'sharing', 'servicei', 'impressive', 'physically', 'android', 'interesting', 'expense', 'owned', 'clicked', 'assisting', 'white', '20000', 'fk', 'rare', 'seven', 'cross', 'beneficiary', 'proved', 'robinhood', '8th', 'adjust', 'discuss', 'costumers', 'slowly', 'effect', 'simpler', 'board', 'requirement', 'rights', 'disrespectful', 'survive', 'appeal', 'sales', 'kindly', 'vehicle', 'particular', 'nasty', 'quit', 'bounced', 'advising', 'interview', 'assuming', 'slightly', 'mr', 'scale', 'runaround', 're', 'merchants', 'parties', 'direction', 'shes', 'east', 'verry', 'withholding', 'preapproval', 'input', 'dear', 'protecting', 'acorns', 'photos', '38', 'mo', 'describe', 'sept', 'mid', 'forbid', '750', 'collecting', 'remembers', 'causes', 'limbo', '17th', 'admit', 'establish', 'gripe', 'disappointment', 'payouts', 'air', 'equity', 'becomes', 'fails', 'questionable', 'drawn', 'swear', 'webpage', 'skills', 'determined', 'horribly', 'professionally', 'managing', 'laid', 'rich', 'avail', 'researched', 'ashamed', 'beautiful', 'hesitant', 'terrific', 'francisco', '5star', 'path', 'brainer', 'pray', 'includes', 'majority', 'servicer', 'rewarding', 'failure', 'row', 'hr', 'rewarded', 'execution', 'unknown', 'significant', 'superior', 'display', 'conclusion', 'tied', '40000', 'jumping', 'forbearance', 'inability', 'yay', 'honored', 'scared', 'worker', 'w2', 'adds', 'understandable', 'twitter', 'procedures', 'girl', 'freezing', 'ripped', 'tunnel', 'press', 'retailers', 'distribution', 'occur', 'magically', 'personnel', 'iam', 'watched', 'wall', 'convinced', '55', 'entry', 'trip', 'empathy', 'remains', 'breach', 'appeared', 'etfs', 'rarely', 'base', 'brain', 'among', 'inc', 'citizen', 'accomplished', 'awesomeness', 'identify', '04', 'behavior', 'websites', 'browser', 'sooo', 'roof', 'shared', 'crash', 'picking', 'king', 'afraid', 'admitted', 'deadline', 'robbery', 'innovative', 'fresh', 'valued', 'lend', 'appropriate', 'organized', 'probate', 'nicely', 'lesson', 'versa', 'disbursement', 'conveniently', 'relief', 'trusting', 'indicating', 'cushion', 'volume', '56', 'trapped', 'enjoyable', 'brilliant', 'associate', 'proceeds', 'thankfully', 'backup', 'actively', 'recover', 'withheld', 'central', 'registration', 'robotic', 'nov', 'methods', 'earth', 'lightning', 'redemption', 'hesitate', 'possession', 'ids', 'veteran', 'kicked', 'practical', 'operation', 'assigned', 'father', 'heavy', 'digit', 'merger', 'illegally', 'westernunion', 'hackers', 'receipts', 'perhaps', 'meaning', 'maneuver', 'retired', 'delivers', 'x', 'decades', 'hurt', 'introduced', 'pertaining', 'competition', 'euro', '28th', 'posts', 'apology', 'screenshot', 'incarcerated', 'lovely', 'deferment', 'frankly', 'settlement', 'keys', 'omg', 'disgusted', 'threatened', 'terribly', 'desktop', 'mission', 'sources', 'confirming', '6th', 'selecting', 'exceed', 'pilot', 'fducking', 'billing', 'brand', '22', 'feefree', 'alerted', 'dropping', 'greater', 'extraordinary', 'impression', 'tshirt', 'beats', 'cousin', 'accrued', 'electric', 'furthermore', 'birth', 'untrustworthy', 'links', 'horror', 'inefficient', 'roommate', 'precise', 'hiding', 'revenue', 'wished', 'funeral', 'yo', 'roughly', 'condescending', 'articles', 'cake', 'chosen', 'stays', 'invite', 'germany', 'counter', 'earns', 'remittance', 'weather', 'consent', 'waived', 'hide', 'strict', 'steady', 'rescue', 'iti', 'restrictions', 'students', 'regulatory', 'fintech', 'fico', 'collection', 'clicks', 'reimbursed', 'consuming', 'stubs', 'fortunate', 'accomplish', 'sufficient', '120', 'accessed', 'happily', 'channel', 'pissed', 'advances', 'negatives', 'length', 'indian', 'fought', 'hesitation', 'boa', 'colombia', 'laughing', 'cutting', 'impact', 'millions', 'closest', 'followup', '125', 'yields', 'rectify', 'safest', 'intend', 'partial', 'grown', 'served', 'coupons', 'heloc', 'csr', 'annoyed', 'falls', 'concerning', 'split', 'connecting', 'wester', 'repeating', 'clockwork', 'concluded', 'favorable', 'deduction', 'range', 'terminate', 'commercials', 'fooled', 'membership', 'escalation', 'clowns', 'creditors', 'goto', 'contacts', 'opt', 'damage', 'increasing', 'arrives', 'surprises', 'insight', 'ripoff', 'entirely', 'club', 'directed', 'facts', 'quoted', 'blamed', 'ther', 'leads', 'wide', 'pinch', 'compliant', 'suing', 'operations', 'heads', 'est', 'secondary', '99', 'swipe', 'mutual', 'dmv', 'truck', 'morons', 'casey', 'offshore', 'continually', 'credible', 'shock', 'reality', 'whose', 'treasury', 'jail', 'windows', 'pure', 'genuine', 'lacks', 'functionality', 'imagined', 'replaced', 'greed', 'stories', 'urgently', 'insufficient', 'traveling', '16th', 'hurting', 'navigating', 'excelent', 'relieved', 'securing', 'greendot', 'guidelines', '05', 'performance', 'commission', 'invited', 'fool', 'commitment', 'proving', 'hill', 'acknowledged', 'inflation', 'clears', 'tickets', 'merchandise', 'quicken', 'latest', 'moves', 'messaging', 'chain', 'closer', 'corner', 'faq', 'cap', 'colorado', 'functional', 'collected', 'timeframe', 'train', 'fits', 'promote', 'comparable', 'restricted', 'founder', 'subject', 'flagged', 'donate', 'safer', 'begging', 'soo', 'bags', 'mei', 'struggle', 'dirty', 'occasion', 'blind', 'responds', 'drafts', 'registered', '1100', 'bothered', 'usps', 'goodness', 'xlm', 'military', 'downside', 'reaches', 'deduct', 'experian', 'rounding', 'stub', 'wires', 'coworker', 'mortgages', 'cars', 'solving', 'hype', 'accountability', 'comparison', 'transfering', 'entering', 'satisfying', 'luv', 'logs', 'xoom', 'accessibility', 'stepped', 'toward', 'pic', 'partnered', 'timing', 'decade', 'cheated', 'kid', 'cancellation', 'entitled', 'goin', 'recording', 'recorded', 'reviewer', 'throw', 'flow', 'areas', 'surprisingly', 'supplies', 'convinient', 'aspects', 'protocol', 'participate', 'profitable', '26', 'inaccurate', '1600', 'ignorant', 'custodial', 'tasks', 'td', 'goodbye', 'tremendous', 'fing', 'liking', 'lowering', 'peasy', 'gladly', 'horrid', 'authority', 'sincerely', 'levels', 'china', 'assisted', 'convient', 'fianc', 'depositors', 'hodlers', 'standards', 'driver', 'bla', 'factors', 'snap', 'promotional', 'midnight', 'downhill', 'dangerous', 'gram', 'correspondence', '499', 'educated', 'ridiculously', 'documented', 'nonetheless', 'btw', 'sir', 'cefi', 'thin', 'paste', 'addressing', '1400', 'perform', 'crashed', 'mark', 'remind', 'vision', 'arise', 'recommendation', 'stage', 'duplicate', 'disgraceful', 'upsetting', 'measure', 'deciding', 'supplied', 'ps', 'himself', 'nerve', 'factor', 'onboard', 'meeting', 'deceptive', 'collections', 'desperately', 'global', 'married', 'messing', 'ring', 'field', 'jan', 'hiccups', 'bet', 'alright', 'depend', 'vice', 'notes', 'iphone', 'realistic', 'pls', 'hasslefree', 'misplaced', 'everythings', 'tab', '2016', 'gentleman', 'covers', '16k', 'crappy', 'fyi', 'plain', 'hodling', 'outfit', 'feb', 'decides', 'username', 'ha', 'impeccable', 'enabled', 'dividends', 'moments', 'unusual', 'overwhelming', '50k', 'artist', '30000', 'obligations', 'generous', 'scan', 'brandon', 'disruption', 'default', 'lil', 'flaws', 'lame', 'suspension', 'tire', 'facing', 'position', 'uneducated', 'principle', 'determine', 'music', 'mixed', 'unorganized', 'passion', 'converting', 'permanently', 'played', 'accumulate', 'contractor', 'delaying', 'rated', 'layout', 'unbelievably', 'expedited', 'nova', 'closes', 'willingness', 'ip', 'usdt', 'discriminate', 'reasoning', 'idk', 'stashs', 'destination', 'tree', 'realy', '36', 'temporarily', 'ontime', 'chimei', 'ex', 'texas', 'generate', 'specially', 'misunderstanding', 'medicine', 'inflexible', 'skip', 'artists', 'utterly', 'blessed', 'thinks', 'overdrafted', '430', 'ca', 'canada', 'deleting', 'pushed', 'planned', 'barrier', 'searched', 'tranfer', 'operator', 'hardship', 'reinstate', 'subtracted', 'utility', 'cardi', 'north', 'retail', 'leading', 'compassion', 'compensation', 'baking', 'financed', '23rd', 'reccomend', '2k', '24th', 'lastly', 'possibility', 'la', 'maintaining', 'circle', 'nada', 'accumulating', 'clarify', 'tremendously', 'restart', 'seek', '15th', 'trans', 'dream', 'refunding', 'veterans', 'employers', 'challenging', 'lightstream', 'investagation', 'sadly', 'label', 'bitcoincrypto', 'flag', 'dogs', 'disapointed', 'aggressive', 'goid', 'opted', 'uncomplicated', '13th', 'abruptly', 'remembered', 'landlord', 'straighten', '850', 'elderly', 'troubles', 'south', 'topnotch', 'dispersed', 'altogether', 'pounds', 'voicemail', 'gimmicks', 'withdrawl', 'permit', 'bread', 'postal', 'payee', '100s', 'em', 'thankyou', 'designated', 'reenter', 'asses', 'heed', 'brings', 'videos', 'liability', 'accountable', 'virus', 'advertises', 'unpleasant', 'sleeping', 'kick', 'eight', 'ms', 'accordingly', 'slower', 'nigeria', 'disconnect', 'slap', 'recomend', 'demanding', 'unsuccessfully', 'economic', 'allowance', 'gifts', 'immensely', 'unexplained', '3x', 'ordeal', 'dai', 'texts', 'stone', 'disappears', 'selfemployed', 'custom', 'mae', 'operators', 'adjustments', 'readily', 'season', 'haiti', '000', 'intended', 'remitly', 'slick', 'someones', 'efforts', 'solely', 'outsourced', 'remedy', 'pricing', 'heaven', 'automation', 'specified', 'personable', 'wed', 'accent', 'toll', 'accumulated', 'assistant', 'challenge', 'lobby', 'grabbed', 'discrimination', 'complex', 'engaging', '15000', 'exists', 'c', 'sued', 'owning', 'straw', '39', 'debits', 'oriented', 'associates', 'ti', 'xrp', 'carefully', 'rectified', 'structure', 'sleep', 'ira', 'repairs', 'enrolled', 'remained', 'walking', 'proofs', 'gaining', 'fishy', 'coach', 'dark', 'patiently', 'ut', '280', 'yearly', 'engage', 'builds', '711', 'nd', 'runs', 'celsians', 'appealing', 'boy', 'smoother', 'content', 'periods', 'increases', 'explore', 'qualifications', 'believed', 'offices', 'concise', 'cable', 'tested', 'accounting', 'net', 'mothers', 'style', 'corporations', 'advantages', 'usage', 'inviting', 'eyes', 'fools', 'penalized', 'lease', 'wages', 'acts', 'novice', 'determination', 'restaurant', 'utilizing', 'succeed', 'girlfriend', 'intention', 'indeed', 'permanent', 'lifesaver', 'affairs', 'receives', 'approvals', 'researching', 'crooked', 'digits', 'spots', 'danger', 'ohio', 'stablecoin', 'reconsider', 'yourselves', 'knock', 'ethereum', 'optional', '29', 'presence', 'messaged', 'prevented', 'attractive', 'empty', 'laws', 'authentication', 'wake', '2015', 'effectively', 'seamlessly', 'roth', '4000', 'laggy', 'accessing', 'underwriter', 'driving', 'decreased', '450', 'land', 'strategies', 'penalties', 'raising', 'awaiting', 'reddit', 'hoped', 'yr', 'shipped', 'expeditiously', 'advisor', 'lord', 'confusion', 'indicate', 'chimebot', 'habits', 'facility', 'ect', 'attend', 'acquisition', 'serviceno', 'nonprofit', 'thati', 'sale', 'develop', 'curency', 'whilst', 'florida', 'argentina', 'debacle', 'paystubs', 'thx', 'figuring', 'shipping', 'nsf', 'budgeting', 'format', 'eastern', 'patron', 'jamaica', 'issuer', 'generated', 'establishment', 'tx', '150000', 'k', 'intrest', 'sand', 'contemplating', 'seasoned', 'ish', 'criticism', 'ages', 'roundups', 'markets', 'deactivate', 'notary', 'heartbeat', 'prompts', 'clothing', 'lesser', 'assumed', 'category', 'corporation', 'moneys', 'estimate', 'personalized', '3k', 'shutting', 'agencies', 'pie', 'secondly', 'brokers', 'negligence', 'passwords', 'neat', '1star', 'downfall', 'pushing', 'th', 'loads', 'complications', 'independence', '105', 'prime', 'autostash', 'blows', 'leaders', 'rothesay', 'retain', 'demands', 'suggestions', '1700', 'delinquent', 'jumped', 'accuracy', 'equals', 'creates', 'mondays', 'thoroughly', 'fridays', 'mainly', 'cycle', 'networks', 'mails', 'supporti', 'outlook', 'couldve', 'pressure', 'boris', 'securely', 'flags', 'seemingly', 'distributed', 'utilized', 'fuk', 'totaling', 'leader', 'calculated', 'rejection', 'apartment', 'ada', 'britt', 'calculator', 'plastic', 'de', 'kougbe', 'screens', 'bankcorp', 'boo', 'dare', 'neglected', 'philipines', 'resulting', 'scene', 'wrongfully', 'losses', 'settings', 'threatening', 'likes', 'cust', 'weekends', 'sheets', 'fourth', 'usaa', 'indiana', 'dispensed', 'witch', 'wired', 'sees', 'painful', 'mobil', 'moneythey', 'coverage', 'sensitive', 'problematic', 'noone', 'organisation', 'outgoing', 'escalations', 'acted', 'dashboard', 'accurately', 'prepayment', 'implement', '12th', 'simplified', 'comprehend', 'impersonal', 'naturally', 'rob', 'pdf', 'reissued', 'kinda', 'size', 'teaching', 'spain', 'silence', 'g', 'era', 'covering', 'traded', 'outright', 'checkout', 'citizens', 'eur', 'joe', 'brazil', 'worrying', 'printed', 'shopped', 'acorn', '6pm', 'realizing', 'forcing', 'pile', 'cashier', 'relationships', 'checkings', '110', 'inbox', 'deep', 'scumbags', 'eating', 'surely', 'fingers', 'blast', 'upcoming', 'alternatives', 'laugh', 'atleast', 'billion', 'disclosure', 'lift', '1300', 'urge', 'childrens', 'locate', 'banned', 'algorithms', '510', 'fu', 'prosper', 'allpoint', 'compromise', 'cry', 'mailbox', 'focused', 'arizona', 'mediocre', 'daunting', 'wit', '2day', '130', 'warm', 'shorter', 'eg', 'worldwide', 'construction', 'enable', 'fabulous', 'borrower', 'affiliated', 'reserves', 'ally', 'nine', 'tv', 'staggering', 'energy', 'convienant', 'skin', 'projects', 'michael', 'reflected', 'fly', 'deeper', 'par', 'en', 'explains', 'fare', 'pesos', 'joy', 'protects', 'chris', 'dead', 'incorrectly', 'chimethey', 'insulting', 'adjustment', '550', 'differently', 'retire', 'kill', 'preparing', 'unfriendly', 'environment', 'tedious', 'contractors', 'formal', 'scripts', 'york', 'frank', 'qualifying', 'coupon', 'verbally', 'ghosted', 'pts', 'fortune', 'visually', 'prevention', 'offline', 'affect', 'wicked', 'borrowed', 'dad', 'questioned', 'slight', 'amd', 'intent', 'hot', 'directions', 'wave', 'professionals', 'fifth', 'cashback', 'nicest', 'irresponsible', 'expire', 'discussion', 'critical', 'networking', 'pmi', 'instore', 'realtime', 'relying', 'hungry', 'ipo', 'stressfree', 'possibilities', 'anticipated', 'fuss', 'steeling', 'classes', 'recall', 'execute', 'satisfy', 'vary', 'timed', 'unsuccessful', 'promoted', 'feet', 'administration', 'rented', 'unlocking', 'intentionally', 'rolled', 'lifted', 'ruin', 'es', 'servicio', 'glitchy', 'scanning', 'motivated', 'el', 'despute', 'dated', 'callback', '60k', 'equal', 'servicing', 'roll', 'liquid', 'description', 'committed', 'pa', '2014', 'effortlessly', 'richard', 'fire', 'comply', 'encouraged', 'costa', 'meets', 'represented', 'operating', 'trap', 'described', 'afterwards', 'sticking', 'activating', 'sub', 'kayla', 'boom', 'reluctant', 'uncle', 'ponzi', 'degree', 'shots', 'unusable', 'civil', 'awarded', 'laughed', 'passing', '0125', 'searching', 'comparing', 'refreshing', 'greeting', 'painfully', 'utilization', 'communicating', 'longterm', 'atrocious', 'crucial', 'unresolved', 'revised', 'exciting', 'routinely', 'volumes', 'checkingsavings', '2300', 'digitally', 'stopping', 'outweigh', 'math', 'replying', 'bug', 'inapp', 'ai', 'residents', 'executive', 'seperate', 'combine', 'barrel', 'dam', 'hacking', 'curious', 'everyones', 'clearer', 'shift', 'shelter', 'smartphone', 'evicted', 'predatory', 'closely', 'consideration', 'accout', 'wheel', 'escape', 'kicker', 'inaccessible', 'complied', 'compensate', '01', 'twenty', 'http', 'reducing', 'recovered', 'drawing', 'clarification', 'approx', 'loves', 'promoting', 'comprehensive', '360', 'suspect', 'article', 'specialists', 'careless', 'chargeback', 'badly', 'focus', 'beings', 'inperson', 'spread', 'inexpensive', 'highinterest', 'unwilling', 'drama', 'referal', 'sympathetic', 'tap', 'capability', 'precious', 'washington', 'waist', 'houston', 'ultimate', 'intelligent', 'instances', 'usable', 'counts', 'robots', 'dedicated', 'detection', 'unreasonable', 'verifications', 'centers', 'color', 'proceeding', 'honesty', 'taught', '24hours', 'celsiusnetwork', '1040', 'crew', '225', 'lien', 'machines', 'diligence', 'assure', 'abilities', 'blatant', 'files', 'carried', 'executives', 'hired', 'advanced', 'nick', 'wiegman', 'character', 'infuriating', 'navient', 'desire', 'impress', '65', 'ride', 'bar', 'belong', 'drawback', 'rolling', 'disrespect', 'expeditious', 'nutshell', 'pinnacle', 'reservations', 'unheard', 'laughable', 'core', 'frauds', 'invalid', 'v', 'ignores', 'overcharged', 'longest', 'inconveniences', 'feds', 'dive', 'thanksgiving', 'positives', 'adapt', 'span', 'ban', '119', 'crossed', 'shocking', 'thrown', 'noted', 'summer', 'euros', '12000', 'obscure', 'recourse', 'deceiving', 'authorities', 'ether', 'repair', 'grab', 'unsure', 'stream', 'clerk', 'withdraws', 'scripted', 'usability', 'rejecting', '650', 'buisness', 'destroyed', 'challenges', 'partnership', 'removing', 'dealings', '7500', 'exorbitant', 'grade', 'rainy', 'smoothest', 'idle', 'stressed', 'blew', 'unclear', 'biweekly', 'insure', 'csrs', 'severely', 'typed', 'theu', 'sailing', 'adverse', 'development', 'wound', 'reassured', 'conducted', 'cancer', 'occasionally', 'protections', 'unbanked', 'retaliation', 'generation', 'nearby', 'hair', 'grossly', 'displayed', 'strategy', 'wth', 'applies', 'exit', 'basics', 'purple', 'expressed', 'educate', 'checkbook', 'understands', 'notices', 'pleasing', 'visited', 'forewarned', 'james', 'sweepstakes', 'whereas', 'grew', 'ate', 'etrade', 'capabilities', '68', 'nephews', '490000', 'bt', '3060', 'texted', 'payor', 'helpfull', 'necessity', 'deductions', 'nano', 'mentioning', 'kroger', 'brief', 'taste', 'launched', 'nobrainer', 'remit', 'dogsht', 'wix', 'newbie', 'criteria', 'ssa', 'dns', 'yep', '699', 'itthey', 'tapped', 'tears', 'dash', 'apologetic', 'aid', 'equaled', 'continuous', 'responsibilities', 'violate', 'sisters', 'engaged', 'tripled', 'struggled', 'border', 'buddy', 'cheater', 'ed', 'completion', 'inexplicably', 'restrictive', 'dis', 'bed', 'gods', 'society', 'consequences', 'spotted', 'nfc', 'bop', 'tesla', 'literal', 'hated', 'hook', 'mn', 'risky', 'miserably', 'reopening', 'essential', 'remodeling', 'abysmal', 'prequalified', 'burden', 'stood', 'grandson', 'rica', 'screwing', 'uhaul', 'allocated', 'sluggish', 'everi', 'nuts', 'unconcerned', 'arranged', 'opens', 'extent', 'mctn', 'ext', 'tour', 'boxes', 'margin', '8pm', 'hmmmm', 'takin', 'dismal', 'contrast', 'uploads', '285', 'frustrations', '199', 'excelente', 'sofia', 'functioning', 'upgrading', 'outdated', 'bluebird', 'decrease', 'desired', 'founders', 'moon', 'tactics', 'ecuador', 'computers', 'acceptance', 'orphan', 'praise', 'constructive', 'marcus', 'alerting', 'salon', 'useing', 'irritating', 'texting', 'london', 'exceptionally', 'shy', 'lei', 'threaten', 'morocco', 'sixth', 'justify', 'pretend', '42', '52', 'expand', 'ebanking', 'reissue', 'presents', 'newer', 'parlor', 'magic', 'boosts', '270', 'thirdparty', 'senior', 'promptness', '599', 'protocols', 'partially', 'operates', 'def', 'caution', '350', 'slowest', 'pressed', '12152022', 'dozens', 'contain', 'dispense', 'shall', 'hekados', 'recharge', 'starters', 'unverifiable', 'install', 'labeled', 'hopeful', 'appthe', 'thailand', 'ethical', 'allaround', '780', 'favourite', 'maintain', 'accruing', 'understatement', 'whit', 'hed', 'talks', 'moderate', 'eglin', 'sont', 'sooooooo', 'bomb', 'ethics', 'supply', 'slime', 'blaming', 'corp', 'sessions', 'bologna', 'sigh', 'brag', 'bridge', 'whitelisted', 'ftc', 'chimeim', 'inconsistency', 'prejudiced', 'affecting', 'minded', 'destroy', 'alway', 'signs', 'commerce', 'deceased', 'peer', 'instance', 'household', 'arises', 'breath', 'threshold', 'discussed', 'incurred', 'moneyi', 'unbanking', 'relay', 'easytouse', 'mouth', '1k', 'rounds', 'averaging', 'produce', 'buttons', 'retailer', 'loses', 'hefty', 'resending', 'reviewers', 'popping', 'fraudulant', 'validate', 'rd', 'drip', 'leadership', 'graduated', 'graduate', 'skeptic', 'literacy', 'bringing', 'irrelevant', 'pennies', 'downs', 'accredited', 'goog', 'stride', 'imaginable', 'guide', '2yrs', 'sceptical', '5488', 'unwanted', 'inadequate', 'desperate', 'discretion', 'generals', 'suffering', 'wheres', 'inconsiderate', 'rediciles', 'giant', 'divorce', 'crytpo', 'repaid', 'weaponized', 'poster', '310', 'disbelief', 'ii', 'unsatisfactory', 'bro', 'headquarters', 'duration', 'informal', '5yrs', '10x', 'void', 'rushcard', 'accountthe', 'converted', '24900', 'insist', '25k', 'agreements', 'rollover', 'native', 'deemed', 'viable', 'roundup', 'trace', 'brian', 'preferred', 'dig', 'eviction', 'interacted', 'attentive', 'mattress', 'mix', 'centralized', 'negatively', 'buck', 'substantial', 'tradition', 'wreck', 'gym', 'timei', 'earliest', 'trustful', 'mistaken', 'shouldve', 'pieces', 'appreciation', 'familiar', 'equally', 'robust', 'forces', 'integration', 'tune', '1015', 'layer', 'gained', '7eleven', 'fck', 'host', 'disrespected', 'reactivated', 'beforehand', 'roar', 'fiancee', 'theses', 'recognizing', 'council', 'insecure', 'evil', 'division', 'bots', 'bluffs', 'bear', 'liquor', 'securities', 'incur', 'accepts', 'entries', 'unfreeze', 'chim', 'bday', 'damned', '50076', '03', 'overwhelmed', 'hurry', 'bsullshit', '18th', 'drag', 'costly', '725', 'fingerprint', 'abs', 'faithfully', 'noticing', 'mislead', 'bummer', 'pricey', 'follows', '27th', 'enterprise', 'remittances', 'priced', 'foot', 'attract', 'pasting', 'trustpilot', 'bk', 'barriers', '2weeks', 'incomplete', 'pomo', 'endorsed', 'hiring', 'smartaccess', '895', 'marriage', 'metro', 'hooked', 'edward', 'lawyers', 'perspective', 'humiliating', 'contrary', 'chasing', 'envelopes', '4days', 'chief', '1week', 'theme', 'executed', 'weight', 'reputation', 'shoulders', 'crook', 'pointless', 'corona', 'fl', 'identical', 'bonds', 'terrifying', 'mainstream', 'admittedly', 'pended', 'dramatically', 'heartless', 'overdrafting', 'reminded', '5days', 'blah', 'purposely', 'chances', 'implementing', 'utter', 'prepay', 'chimethis', 'whyi', 'transact', '4500', 'lessons', 'meta', 'nofee', 'usefull', 'cancell', 'dragged', 'restriction', 'unexpectedly', 'tough', 'merged', 'reader', 'technically', 'hood', 'poa', 'resolves', 'earlyi', 'chipper', 'steadily', 'receptionist', '1000000', 'owns', 'w2s', 'economy', 'disgrace', 'hopeless', '1230', 'baby', 'pensacola', 'behaving', 'exceeds', 'tiny', 'hurts', 'malicious', 'spare', 'header', 'feelings', 'submission', 'icing', 'backwards', 'popped', 'outline', 'uncaring', '722', 'matches', 'inquiring', 'redundant', 'tape', 'subpar', 'tie', '33', 'tackle', 'navy', 'jennifer', 'enormous', 'packet', 'questioning', 'oversight', 'tactic', '175', 'racists', 'wedding', 'westernunioncom', 'od', 'memebers', 'france', 'prey', 'blood', 'upsets', 'grandmother', 'diana', '700s', 'whis', 'loani', 'ryan', 'engineer', '500k', 'darn', 'alllll', 'breaching', '1800', 'subsequently', 'hunt', 'forwarded', 'bankthey', 'grief', 'nowi', 'advisors', 'inconvenienced', 'easiness', 'wannabe', '43', 'stability', 'issuei', 'floor', 'unaware', 'strictly', 'effing', 'scratch', 'ameritrade', 'socalled', 'blank', 'appi', 'z', 'houses', 'initiative', 'efficent', 'investigator', '11pm', 'sameday', 'screenshots', 'stops', 'fulfill', 'surcharge', 'prefill', 'notarized', 'sofithe', 'editing', 'parts', 'georgia', 'worlds', 'mini', 'hella', 'dinged', 'yup', 'failing', 'displaying', 'logout', 'languages', 'venture', 'racked', 'originating', 'servicesi', 'female', 'scans', 'rush', 'sucker', 'fuel', 'doors', 'seldom', '399', 'paystub', 'county', 'crushing', 'monetary', 'happend', 'remodel', '2pm', 'refered', 'dr', 'outlets', 'pakistan', 'shameful', 'strait', 'conference', 'welcomed', 'spelled', 'worthiness', 'seemless', 'transcript', 'clown', 'radio', 'nursing', 'devastated', 'rejects', 'nature', 'authentic', 'upper', 'overly', '88', 'cater', 'farther', 'cherry', 'mountain', 'respone', 'thiefs', 'cheating', 'sympathy', 'aspiration', 'overdue', 'brokerdealer', 'nails', 'smfh', 'measly', 'guiding', 'attach', 'egypt', 'swiped', 'neice', 'cfpb', 'ap', 'figures', 'temp', '1day', 'belief', 'william', 'cancels', 'backs', 'empathetic', 'h', 'scheduling', 'egg', 'sits', '46', 'dev', 'validation', 'escalating', 'rank', 'mouths', 'lifes', 'relevant', 'abuse', 'helpfully', 'song', 'rapidly', 'fuzz', 'gut', 'happiness', 'toke', 'bullcrap', 'coz', 'lit', 'respected', 'interact', 'regulated', 'limitations', 'cardcom', 'pattern', 'park', 'table', 'caters', 'ultra', 'medium', 'dry', 'audacity', 'masters', 'conducting', 'marked', 'ceos', 'attended', 'credentials', 'loosing', 'lockup', 'rave', '31st', 'chatting', 'compete', 'thursdays', 'faults', 'generates', 'fir', 'sh', 'improves', 'legitimately', 'distance', 'santa', 'confidently', 'regions', 'pension', 'earnest', 'dnt', 'idiotic', 'oops', 'feesi', 'dip', 'helpless', 'facial', 'millennial', 'prepare', 'voip', 'placing', '3200', 'involvement', 'insult', 'revoked', 'dreams', 'flawlessly', 'instagram', 'graphs', 'studied', 'expanded', 'bowl', 'camera', 'altered', 'blog', 'scanned', 'occured', 'arms', 'senders', 'capitalism', 'performing', '7am', 'asf', 'offs', '67', 'wonders', 'ours', '62', 'doubts', 'bearing', 'harassing', 'bat', 'adjusted', 'dividend', 'schools', 'premiere', 'savvy', '14th', 'ig', 'amortization', 'smile', 'dog', 'shoes', 'bankrupt', 'grad', 'faithful', 'killing', 'oncei', 'joseph', 'rendered', 'weed', 'il', 'cuts', 'untrained', 'wellbeing', 'mystery', 'diligent', 'defaulted', 'coinify', 'sprint', '10pm', 'shi', 'overburdened', 'tweaking', 'ans', 'estimated', 'explanatory', 'reinstated', 'fasti', '474', 'combining', 'withhold', 'notifies', 'jargon', 'visible', 'rudely', 'downloading', 'locally', 'pw', 'dire', 'itthis', 'secret', 'premium', 'regretting', 'commit', 'erroneous', 'quickness', 'matched', 'reponse', 'bravo', '001', 'llc', 'war', 'politely', 'usedi', 'stinks', 'stored', 'undecided', 'decency', 'deeply', '215', 'doubled', 'responsei', 'uncalled', 'racism', 'ridden', 'lasted', 'ohh', 'chinese', 'fasteasy', 'algorithm', 'amongst', 'interrogated', 'anthony', 'launch', 'officers', 'calculate', 'registering', 'older', 'bullet', '30mins', '7th', 'pool', 'merry', 'tin', 'terminology', 'blink', 'damaged', 'nation', 'eidl', 'starving', 'periodic', 'thee', 'writer', 'unanswered', 'lucy', 'philippine', 'listing', 'neutral', 'abandoned', 'frustrate', 'tricked', 'stations', 'sided', 'fellow', 'borrowers', 'travels', 'implemented', 'bbvacompass', '005', 'redirect', 'citibank', 'insanely', 'advocate', 'expects', 'kool', 'disabling', 'tom', 'git', 'depositor', 'tothe', '299', 'tier', 'miserable', 'flash', 'robert', 'boosted', 'hypocritical', 'serv', 'hiccup', 'ledger', 'matic', 'alittle', 'distress', 'warnings', 'ripping', 'blowing', 'defer', 'europe', 'etsy', 'wear', '92', 'ordinary', 'sol', 'oldest', 'misled', 'movement', 'hint', 'sake', 'costing', 'godsend', 'toilet', 'suspending', 'caveat', 'daniel', 'exchanged', 'storage', 'chats', 'sucked', 'latin', 'demanded', 'sliced', 'classic', 'apparent', 'safeguard', 'messenger', 'manipulate', 'trustable', 'unmatched', 'trail', 'arrange', 'pegged', 'voicemails', 'experiment', 'locks', 'dignity', 'charts', 'fluid', 'infrastructure', 'spotting', 'addresses', 'gross', 'begun', 'introducing', 'greetings', 'honoring', 'women', 'spencer', 'tube', 'cyber', 'acting', 'culture', 'hoop', 'asian', 'monthsi', 'un', 'oct', 'uganda', 'miscalculation', 'delt', 'pretending', 'experiance', 'mint', 'liquidated', 'emphasize', 'clock', 'newbies', 'participating', 'cryptocom', 'fraudster', 'grows', 'repeats', 'grease', 'linkedin', 'conventional', 'aways', 'dissapointed', 'antiquated', 'seguro', 'beg', 'mismanaged', 'potentially', 'accidently', 'slightest', 'fr', 'peice', 'debitcredit', 'sleek', 'trend', 'faxed', 'dismay', 'ico', 'vemno', 'kiss', 'wrongthey', '90days', 'falling', 'gobank', 'demian', 'sean', 'appt', 'centered', 'teach', 'lovestash', 'expectation', 'palm', 'dinners', 'meaningful', 'unload', 'underwritting', 'friendliness', 'widget', 'hannity', 'triple', 'justice', 'schedules', 'fired', 'nerves', '1001', 'baffled', 'easterwood', 'fuc', '5stars', 'screaming', 'shadyripoffinept', 'thoughtout', 'turmoil', 'tbh', 'passively', 'basket', 'faqs', 'ideal', 'stashinvestcom', 'intro', 'curb', 'intutive', 'denies', 'sed', 'considerable', 'wiped', 'climate', 'blocking', 'ios', 'popups', 'itthat', 'onboarding', 'occurring', 'obligated', 'adoption', 'adequate', 'heartache', '1386', 'etf', 'bild', 'readable', 'transitioning', 'interrupted', 'perche', 'dallors', 'haha', '5978', 'ypur', 'voiceover', 'smoking', 'panic', 'winning', 'tricks', 'merely', 'dependent', 'miracle', 'bulk', '3day', 'technologies', 'revolutionary', 'apathetic', 'presenting', 'faculty', 'importance', 'proudly', 'culprit', 'apponly', 'qualification', 'madness', 'plainly', 'introduction', 'wellthank', 'chunk', 'west', 'bankapp', 'compounds', 'footage', 'willingly', 'nowadays', 'delighted', 'trends', 'wayyyy', 'accounton', 'tmobile', '36350', 'depute', 'typo', 'primarily', 'suckered', 'unlimited', 'submissions', 'scrubbed', '180', 'seized', 'blatantly', 'unreachable', '3pm', 'sums', 'teaches', 'familys', 'eager', 'wd', 'uncertain', 'lucrative', 'agendas', 'chimeit', 'useim', 'greatuntil', 'represents', 'revamp', 'easyand', 'itbanking', 'servers', 'turf', 'tweet', 'absence', 'understandthe', 'finalized', 'effects', 'scamplease', 'tone', 'nonchime', 'motivation', 'plunge', 'insights', 'vicious', 'multitude', 'hooks', 'neen', '6months', 'lag', 'unbankyourself', 'experince', 'crashing', 'uptodate', '49500', 'dodnt', 'byt', 'combination', 'teeth', 'danielle', 'greati', 'favors', 'tokenomics', 'billions', '6202', 'sharp', 'repaying', 'french', 'somethimes', 'bizarre', 'portfolios', 'subscribed', '66', 'apologizing', 'eliminate', 'cloned', 'ue', 'arena', 'revenues', 'body', 'gps', 'communities', 'peete', '37218', 'loaned', 'lowly', 'liable', 'spiteful', 'snd', '1430', 'owing', 'jpgs', 'disregard', 'resent', 'eos', 'comtacts', 'quickbooks', 'wifi', 'unsafe', 'pity', 'strive', 'liquidate', 'hangs', 'considerably', '810', 'wether', 'stanard', 'apologies', 'vanguard', 'spins', 'observed', 'sneaky', 'involving', 'aggregate', 'extensive', 'analysis', 'informationthe', 'cardano', 'newegg', 'experiencei', 'burnt', 'bullsht', 'imma', '15k', 'astute', 'itnseemed', 'proprietor', 'truthful', 'pause', 'swissborg', 'walmartcom', 'imbeciles', '54', 'engagement', 'banki', 'whomever', '85', '444', 'detective', 'beginner', 'wantcantryhope', 'er', 'unsubscribe', 'itnow', 'unwillingness', 'dialogue', 'square', 'eaten', 'robin', 'centric', 'pnccom', 'adrian', 'tolerate', 'foreigners', 'csc', 'approving', 'radius', 'agile', 'comprised', 'lump', 'honda', 'serviceafter', 'material', 'enabling', 'outsource', 'bloated', 'slide', 'erc20', 'victims', 'reinvest', 'chimenever', '6881', 'al', 'deliverycouk', 'balls', 'represent', 'pss', 'resume', 'custodian', 'handwritten', 'withouth', 'cluster', 'shirt', 'died', 'revealed', 'teenager', 'bricks', 'kicks', 'cds', 'recievied', 'dave', '20400', 'internally', 'invasive', 'seniorafter', 'wage', 'chimethank', 'offense', 'dying', 'newest', 'ripe', 'committing', 'betty', 'laundering', 'wil', 'chimealways', 'clam', 'recite', 'calm', 'selves', 'nc', 'confidential', 'takeover', 'resident', 'innocent', 'logins', 'pursue', 'reassuring', 'query', 'iolta', 'gui', 'rec0very', 'nowere', 'cansel', 'umm', 'celsuis', 'shell', 'americans', 'freelancer', 'crochet', 'introduce', 'unilaterally', 'reside', 'avoiding', 'wind', 'battle', 'thatbut', 'lfg', 'reactivate', 'wrost', 'affiliates', 'everive', 'worthwhile', 'balancei', 'faced', '64', 'mankind', 'layers', 'ugly', 'closedi', 'caller', 'asolutly', 'leaked', 'dismissed', '340', '8999', 'consented', 'az', 'greeted', 'mange', 'philosophy', 'monumental', 'drain', 'profolio', 'overspent', 'etiquette', 'lunch', 'loud', 'api', 'are1', 'scroll', 'regretfully', 'remotely', 'regrets', 'monthy', 'servicebut', 'motions', 'influence', '235', 'tops', 'secretly', 'angel', 'excellentgreat', 'hedge', '100x', 'weirdly', '187', 'evolving', '163', 'interfacing', 'headlines', 'iq', 'coffee', '121', 'heals', 'tilray', 'percentages', '112', 'att', '101522', '101722', 'rips', 'suffered', 'pains', 'inkind', 'exhausting', 'gingerly', '440', '495', 'marc', 'dunn', 'thread', 'expedient', 'carefull', '48hours', 'entrusted', 'controls', 'arbitrary', 'kings', 'reappear', 'bankinginstitution', 'aholes', 'insisting', '20th', 'tricky', 'reiterate', 'dummies', 'inexistent', 'inquires', 'sector', 'announced', 'marketplace', 'gem', 'deposits3', 'scrupulous', '191', 'soi', 'farming', 'weary', 'jill', 'egggn', 'goods', 'pitiful', 'ipad', 'neglect', 'flo', 'calculations', 'rippers', 'grant', 'bruno', 'reinstall', 'transitioned', 'ez', 'rethink', 'australia', 'lindsey', 'subreddit', 'characters', 'dktk', 'equivalent', 'duh', 'residence', 'splits', 'manipulation', 'wat', 'mechanism', 'displeased', '010', 'le', 'micro', 'involve', '25th', 'excepted', 'minority', '605', 'wif', 'positions', 'grove', 'cried', 'nicr', 'nwver', '02', 'perez', 'suzette', 'integrated', 'tine', 'montalban', '601', 'customerservice', 'you23', 'challenged', 'greatmuch', 'becuz', 'republic', 'modems', 'thatll', 'dysfunctional', '730', 'arrangement', 'syatem', 'overnt', 'sorted', 'granddaughter', 'reliablei', 'gettin', 'tirrell', 'somethings', 'owes', 'alarming', 'transunion', 'embarrassment', 'violating', 'formerly', 'westren', 'ding', 'unused', 'invaluable', 'officially', 'involves', 'guccifer503', 'cotonou', '395', '267', 'bias', 'penalize', 'fewer', 'appwish', 'prohibitively', 'rapidez', 'unbearable', 'drastically', 'permitted', 'thatcould', 'hadi', 'haveing', 'informs', 'nephew', 'asinine', 'destinatary', 'exploring', 'blvd', 'consistency', 'errr', 'outback', 'maddening', 'steakhouse', 'nail', 'disappoints', 'upwards', 'proactive', 'haveve', 'displaced', 'swearing', 'paycard', 'gosh', 'route', 'considerate', 'westerninion', 'westerunion', 'fedloan', 'unreal', 'themi', '30k', 'clientele', 'itmy', 'discounted', 'hometown', 'cali', 'nun', 'usei', 'hateful', 'jerky', 'herky', 'ritual', 'f___', 'bump', 'bofa', 'sham', 'jokes', 'centre', 'declinedthey', 'robbing', 'validated', 'complains', 'dinner', 'ourselves', 'pacific', 'los', 'thanx', 'iv', '120k', 'gopd', 'safari', 'stipulations', 'fking', 'dang', 'liers', '12192022', 'profiling', 'cardssystem', '12hrs', 'buikslotermeerplein', 'scammin', 'lion', 'misinformation', 'tmely', 'guilty', 'steep', 'occurrence', 'stepping', 'neighborhood', 'prosses', 'easyvand', 'ruining', 'offset', 'maiden', 'donkey', 'abd', 'mere', 'wonderfully', '44', 'automaticaly', 'rv', 'hero', 'ylyall', 'servicethanks', 'surprising', 'surveys', 'samsung', 'essay', 'finest', 'eazy', 'processor', 'precautions', 'prisons', 'financials', '22nd', 'banc', 'reentered', '317', '8689242', 'donein', 'streets', 'momey', 'visas', 'arrogant', '2am', 'saturdays', 'collaboration', '11521', '65000', 'tranfers', 'donation', 'avid', 'connivence', 'menu', 'chicago', 'quirks', '61100', 'impractical', 'youthey', 'unusually', 'highway', 'sacrifice', 'expires', 'serviced', 'lawsuits', '3100', '20250', 'shillings', 'redo', 'dinosaur', 'rigid', 'renewed', 'informing', 'governance', 'safetyfast', 'specify', 'butter', '648', 'rang', 'bmo', 'bangkok', 'muslim', 'impoverished', 'welfare', 'holes', 'glass', 'conflicting', 'unknowledgeable', 'lured', 'tying', 'understandably', 'globe', 'comical', 'addons', 'banklove', 'ghime', 'apotme', 'custoner', 'charm', 'passes', 'wednesdays', 'reveals', 'ro', 'tooooo', 'cache', 'chimeyou', 'hubby', '77', 'materials', 'mos', 'beauty', 'congratulations', 'ilove', 'assurance', 'bases', 'anxiety', 'alwayschime', 'hips', 'bankin', 'invented', 'miami', 'chimegreat', 'agoi', 'suits', 'caveats', '1322', 'steaming', 'displays', 'marry', 'drown', '1206', 'founds', 'custer', 'servicesend', 'yea', 'b4', 'excessively', '5pm', 'malaysia', 'biggie', 'deemoney', 'cherrelle', 'passports', 'palmer', 'reminder', 'reasonably', 'romania', 'untill', 'aggravating', 'scenario', 'urgency', 'slot', 'exceptive', 'buyers', 'moneybut', 'toi', 'crewmember', 'eve', 'rapido', 'gigantic', 'underwriters', 'acquire', 'accountthank', 'unstable', '580', 'venue', 'tend', 'wt', 'backing', 'wood', 'cameras', '80k', 'excess', 'misinformed', 'zone', 'imho', 'destroying', 'helicopter', 'guided', 'userscustomers', 'hardearned', 'disruptive', 'versus', 'spouting', 'stadiums', 'bundle', 'reviewatchimecom', 'burns', '8800', 'goood', 'hards', 'intelligence', '3month', 'ight', 'unparalleled', 'ccs', 'align', 'driven', '17000', 'preventing', 'feesthat', 'fcking', 'completly', 'remainder', 'progressive', 'logical', 'designer', 'tolerable', 'acces', 'activityopening', 'charles', '4months', 'conversations', 'chapter', 'deviate', 'surname', 'credi', 'fcked', 'stack', 'fathers', 'processapplication', 'hmmm', 'leaves', 'chimewhen', 'visiting', 'nonresponsive', 'prequalification', 'vanish', 'itit', 'uncertainty', 'soficom', 'tht', 'jersey', 'becareful', 'chainlink', 'salaries', 'wishing', 'voided', 'race', 'biometric', 'fluctuate', 'learnt', 'zack', 'mass', 'undescribably', 'karen', 'mum', 'issueswhen', 'quiet', '100overdraft', 'rounded', 'reminds', 'shoot', 'plug', 'monththey', 'svc', 'gather', 'secures', 'qualifies', 'homes', 'scammy', 'wondered', 'boulder', 'loanthe', 'hassel', '7k', 'pregnat', '1month', 'conveinant', 'bussiness', 'gentlemans', 'composure', 'thet', 'rhe', 'poverty', 'sing', 'msg', 'burst', 'satisfies', '316', 'evernot', 'atp', 'delinquency', 'silky', 'dick', 'communitys', 'pleasurable', 'recomand', 'cd', 'walks', 'wout', '240', 'spoted', 'pos', 'loveee', 'bancor', 'strength', 'phony', 'upto', 'definite', 'smoothe', 'distributes', 'ivr', 'trusty', 'deliberately', 'bankgave', 'experienceit', 'argue', 'halloween', 'fear', 'booth', 'om', 'statementi', 'deposite', 'originated', 'unimpressed', 'seating', 'extreme', 'po', 'accessable', 'banccorp', 'copying', 'signatures', 'opinions', 'ratings', '101', 'sped', 'pcs', 'existed', 'buti', 'concepts', '020', 'hoa', 'releases', 'bankany', 'hv', 'strings', 'ona', 'tf', 'guessed', 'sun', 'dismiss', 'jamaican', 'shine', 'runarounds', 'lest', 'thaks', 'seller', 'guarantees', 'trauma', 'itwould', '10days', 'selects', '123', 'itd', 'futile', 'unacceptably', 'capable', 'panicking', 'rose', 'irregular', 'penniless', 'contents', 'tldr', '40k', 'newspaper', 'fraudi', 'deliberate', 'harassment', 'indicates', '30th', 'behaves', 'vastly', 'stab', 'descent', 'emptied', 'crack', 'bak', 'fraudsters', 'buckle', 'bytes', '1000s', 'atty', 'minors', 'concrete', 'mt', 'devices', 'soooo', 'immoral', 'remarks', 'endured', 'congress', 'boggling', 'mohamed', 'tothey', 'distant', 'books', 'determining', 'lisas', 'cream', 'af', 'insensitive', 'picky', 'avenues', 'abusive', 'reccommend', 'bulgaria', 'freakin', 'needsthank', 'upgraded', 'unimportant', 'interactive', 'uninformed', 'chicken', 'lithuania', 'rightfully', 'gratitude', 'morter', '9k', 'petty', 'pod', 'henry', 'straightened', 'installed', 'scumbag', 'assumption', 'cardyou', 'phoned', 'casino', 'study', 'colors', 'suspicions', 'horriblei', 'cow', 'usthis', 'duped', 'customary', 'donations', 'overnighted', '530', 'disheartened', 'drawbacks', 'nvr', 'lover', 'struggles', 'jonathan', 'bus', 'circus', 'broad', 'regional', 'dish', 'philadelphia', 'discrepancies', 'debating', 'fields', 'incidents', 'holly', 'evey', 'stamps', 'domestic', '660', 'lo', 'maximums', 'huntington', 'ombudsman', 'accommodation', 'trick', 'splitting', 'prisoner', 'hotels', 'transit', 'sticks', 'mental', 'deem', 'tangible', 'hassling', 'targeted', 'numberit', 'alternate', 'questionanswer', 'warranty', 'awayi', '2400', 'raved', 'westen', 'investigative', 'judge', 'universe', 'jesus', 'statuses', 'clarified', 'contracts', 'orlando', 'ought', 'ace', 'lackluster', 'pops', 'pack', 'bubble', '2009', 'accident', 'bummed', 'meager', 'retrieving', 'boasts', '126', 'resetting', 'thick', '9000', 'dance', 'upsell', 'counterfeit', 'arrival', 'dissatisfaction', 'portrayed', 'breaking', 'smoke', 'declines', 'aaron', 'rant', 'angeles', 'phonetablet', 'laura', 'ing', 'illinois', 'recived', 'lime', '8am', 'bent', '120000', 'ample', 'nothingi', 'attacked', 'unsatisfied', 'provoking', 'heading', 'monroe', 'wus', 'epitome', '3am', 'multimillion', 'behold', 'stumped', 'monfriday', 'suntrust', 'dreadful', 'nyc', 'dan', 'tooi', '80000', 'stacking', 'obstacles', 'blindly', 'elated', 'volunteer', 'yippee', 'customization', 'authenticated', '1130', 'faces', 'flowing', '1020', 'labor', 'earlyit', 'discrepancy', 'entirety', 'cook', 'marks', 'fascist', 'sevice', 'nicaragua', 'huh', 'aggravation', 'sides', 'rats', 'mirrors', 'reorder', 'announce', 'uninstall', 'trickery', '2013', 'accountbut', 'picks', 'rear', 'enact', 'cleaned', 'clothes', 'expiration', 'enforcement', '32', 'gona', 'possess', 'insert', 'unsolicited', 'hitch', 'detect', 'spit', 'exellent', 'teens', 'um', 'bbt', 'systemis', 'banning', 'kindness', 'lieing', 'te', 'findings', 'terminated', 'tooo', 'sports', '58', 'basement', 'utmost', '38000', 'rite', '7000', '60000', 'lindsay', '12021', 'filthy', 'mildly', 'helpers', 'convience', 'avoided', '816', 'ny', 'lockunlock', 'bragging', '9pm', 'buissness', 'callers', 'purse', 'greatful', 'derogatory', 'refers', 'savers', 'wawa', 'flimsy', 'islands', 'fronted', 'christ', 'sporting', 'stranger', 'drivethru', 'surpass', 'duplicates', '260', '93', '4142021', 'brown', 'patterns', 'viewing', 'itno', 'hers', '71', 'lasting', 'appreciative', 'stringing', 'mercury', 'killed', 'ness', '250000', 'accountno', 'devoted', 'accountthis', '98', 'choise', 'jacked', 'affects', 'oclock', 'spends', 'depositi', 'et', 'notating', 'chaotic', 'comptroller', 'lure', 'inline', 'unpredictable', 'sofar', 'moneyand', 'remorse', 'becouse', 'obsolete', 'reg', 'wamu', 'ave', 'george', 'grievances', 'scandalous', 'singled', 'knife', 'investigations', 'frees', 'freeing', '326', 'disastrous', 'hesitated', '3045', 'drawer', 'featured', 'moron', 'allmy', 'ot', 'containing', 'nickel', 'themthe', 'bankdebit', 'reflects', 'crickets', 'timelines', 'googled', 'approves', 'borderline', 'bare', 'proces', 'onlinei', 'donated', 'futures', 'usenavigate', '125k', 'century', 'enthusiastic', 'getgo', 'resourceful', 'publicly', 'menus', 'nohassle', 'delight', '400000', 'ria', 'bitter', 'needy', 'selfexplanatory', 'database', 'delightful', 'pincode', 'streamline', 'paused', 'modify', '012', 'otherwisei', 'vise', 'idiot', 'pet', 'refinances', 'celisus', 'inflexibility', 'volatile', 'pennsylvania', 'defined', 'mining', 'suppliers', 'undoubtedly', 'moreover', 'pump', 'chore', 'honduras', 'encouragement', 'reliably', 'simplei', 'platinum', 'blown', 'formed', 'merge', 'threads', 'sustainable', 'president', 'appearing', 'colleagues', '1051', 'ukrainians', 'daysbut', 'trips', 'finds', 'helpi', 'cdc', 'foremost', 'disrupt', 'suggesting', 'domain', 'wellits', 'systematic', 'frills', 'ltv', 'exp', 'creditworthiness', 'incomes', 'nowthis', 'disclosed', 'farm', 'wholeheartedly', 'eliminated', 'monitoring', 'forgotten', 'science', 'overview', 'machinsky', 'aum', 'startup', 'cordial', 'anyplace', 'horse', 'motto', 'specifics', 'counselor', 'attitudes', 'repayments', 'laying', 'entrepreneur', 'treats', 'fans', 'companyi', 'wucom', 'innovation', 'drowning', 'michigan', 'speaker', 'blemishes', 'collateralized', 'disposal', 'iota', 'outreach', 'invitation', 'whopping', 'flock', 'elitist', 'hurricane', 'comforting', '5x', 'rake', 'appointments', 'perception', 'persue', 'evaluate', 'bound', 'bureaus', 'acquaintances', 'visits', 'answerthat', '11322', 'delicious', 'generating', 'dialup', 'traction', 'slogan', '1159pm', 'businessmobile', '170', 'hoursdo', 'loan4', 'bankruptcies', 'unsecure', 'disbursed', '165', 'verifiable', 'finishing', 'clever', '3star', 'certificates', 'rural', 'streamlining', 'langue', 'pharmacies', 'issuse', 'accountlove', 'bars', 'thereafter', 'signups', 'queue', 'diligently', 'changedtheres', 'herd', 'rubbish', 'overdrew', 'redirected', 'justified', 'allthey', 'skipping', '371', 'encourages', 'chaothic', 'tucked', 'diposit', 'enowing', 'notthats', 'purchas', 'kinks', 'aim', 'controle', 'varobank', 'stark', '1122', 'dallin', 'timeliness', 'pinching', 'beach', 'disput', 'rise', '11400', 'expediency', 'underestimate', 'nose', 'reentering', 'sorting', 'existence', 'authorisation', 'leisure', 'aloud', 'hurdles', 'chaos', 'authenticate', 'dinero', 'celebrity', 'alarm', 'soso', 'nevada', 'billed', 'essence', 'mac', 'alexs', 'understandablebut', 'followers', 'playstation', 'capacity', 'naming', 'facade', 'worste', 'mart', 'wal', 'vaguely', 'tragic', 'sorts', 'fathermy', 'revolving', 'gathering', '325', 'healthcare', 'profession', 'eventhough', 'cashes', 'xmas', '99percent', 'ubers', '1time', 'sofii', 'booster', 'belittling', 'necessarily', '23382', '995', 'freei', 'profiles', 'followthrough', 'tank', 'inactivity', 'desirable', 'suspicion', 'phoning', 'legacy', 'blanket', 'transer', 'swore', 'actualy', '800s', 'opposed', 'headway', 'mysteriously', '3hrs', 'credential', 'schwab', 'overpayment', 'organizations', 'developed', 'charter', '160', '871', 'prerecorded', 'pulls', 'maintained', 'referrer', 'hmm', 'visual', 'beta', 'blocks', 'elaborate', 'rising', 'controlling', 'sofithey', 'edited', 'holistic', '731', '770', 'mile', 'freezed', 'punishment', 'maturity', 'liquidating', 'themand', 'intrusive', 'handing', 'burned', 'injustice', 'wellsfargo', 'regulators', 'awfully', 'therei', '4x', 'appreciates', 'conveniences', 'unwarranted', 'folder', 'bolivia', 'alice', 'irritated', 'unprofessionally', 'operated', 'superiors', 'immigration', 'kenya', 'gov', 'ben', 'sendingmoney', 'elsethis', 'tykiem', 'brylan', 'publix', 'madderra', 'bombarded', 'jokers', 'counted', '999', 'hustle', '300k', 'meetings', 'reapplying', 'spouses', 'expertise', 'applicants', '178', 'trees', 'physicians', 'establishing', 'wealthy', 'drew', '45000', 'honors', '81', 'stadium', 'ladies', 'ian', 'cenlar', 'didn', 'delivering', 'shorten', 'nobodys', 'forest', 'dc', '11th', '5years', 'prejudice', 'scoring', '796', 'heated', '2999', 'stages', '740', 'asia', 'attributes', 'treating', 'starved', 'payback', 'mortage', 'dennis', 'respects', 'killer', 'engine', 'attending', 'featuresits', 'realtor', 'evaluation', 'tofrom', 'loanbut', 'soeasy', '3600', 'condo', '2800', 'hisher', 'ranked', 'recommand', 'dismayed', 'gap', 'doc', 'begins', 'ymmv', 'grate', 'waive', 'incentivized', 'adopters', 'powers', 'hardest', 'futuredue', 'midjune', 'autopayment', 'prospective', 'responsibly', 'coupled', 'revolution', 'skill', 'definitively', 'contracted', 'friendliest', 'cheapest', 'arduous', 'counseling', 'spelling', 'popup', 'painfree', 'winner', 'omaha', 'handsdown', 'commendable', 'abt', 'mst', 'triggered', 'drove', 'discontinued', 'qualms', 'debtfree', 'savingsthe', 'foe', 'flawed', 'flick', '188', 'sought', 'boycott', 'timebut', 'bleeding', 'comp', 'scrambling', 'homeowners', 'unnecessarily', 'os', 'varying', 'emphasis', 'immense', 'debttoincome', 'inclined', 'quotes', 'moneyit', 'useand', 'conservative', 'praises', 'worldi', 'sincere', 'insightful', 'extras', 'ey', 'renovations', 'lions', 'intensive', 'telegram', 'azerbaijan', 'moneyits', 'fundamental', 'unfamiliar', 'snags', 'substantially', 'defend', 'minimize', 'alll', 'sallie', 'fraction', 'favour', 'distracted', 'jam', 'doctor', 'patches', 'coaching', 'rebates', 'needle', '4pm', '980', '025', 'coordinate', 'regain', '30min', 'zimbabwe', 'executing', 'moneythanks', 'promotes', 'unblock', 'shockingly', 'mod', 'smiling', 'devastating', 'norm', 'respectable', 'monkey', 'traders', 'deplorable', 'caps', 'supportthey', 'instinct', 'ghana', 'mob', 'stupidity', 'supplying', 'awardwinning', 'negligent', '410', 'consecutive', 'canadian', 'antonio', 'attracted', 'region', 'powerful', 'frustratingly', 'mysterious', 'restaurants', 'leak', 'invoice', 'alleged', 'forgiven', 'transparant', 'underhanded', 'appthank', 'vpn', 'tge', 'necessities', 'displeasure', 'snail', 'undeliverable', 'tabs', 'widely', 'dialed', 'distribute', 'beforei', 'gbp', 'fishing', 'disguise', 'liquidity', 'bankno', '4k', 'contradict', 'consult', 'callemail', 'disheartening', 'varoi', 'correction', 'bf', 'definition', 'michelle', 'slipped', 'divorced', 'swaps', 'remedial', 'helpdesk', 'spreading', 'usi', 'deflect', 'mashinskys', 'pointed', 'maschinsky', 'assault', 'bbvas', 'elite', 'sacramento', 'downloads', 'diversify', 'contest', 'galileo', 'toxic', 'accrual', 'amanda', 'australian', 'discriminated', 'cautious', 'timer', 'doin', 'reproach', '51', 'memo', 'boards', 'underwrite', 'identifying', 'someday', 'reimbursement', 'courteously', 'gb', 'mutually', 'aunt', 'practically', 'den', 'inactive', 'plum', '250k', 'fixes', 'themwhy', 'dynamic', 'graphing', 'ferry', 'minimalist', 'disclosures', 'valero', 'provision', 'custody', 'borders', 'quarter', 'sky', 'amended', 'planing', 'selfies', 'versions', 'congestion', 'fcc', 'crediting', 'convoluted', 'fiduciary', 'lockups', 'dumber', 'pittsburgh', 'downtime', 'stephen', 'comprehension', 'waits', '49', 'fathom', 'enrolling', 'prof', 'matured', 'respective', 'dysfunction', 'overhaul', 'ir', 'indication', 'usmc', 'credibility', 'peoplei', 'accts', 'azlo', 'visibility', 'iteasy', 'portions', 'enrollment', 'pausing', 'notarize', 'onestar', 'surviving', 'creditor', 'alost', 'tatoo', 'lili', 'availableoverall', 'hating', 'reversal', 'overtime', 'restarted', 'guideline', 'inexperienced', 'tattoo', 'publicized', 'vetting', 'priorities', 'spamming', 'indefinitely', 'limitation', '1149', 'despise', 'reinstalling', 'keybank', 'uncomfortable', 'cardso', 'unpaid', 'mes', 'younger', 'underneath', 'vigo', 'hides', 'bury', 'flagging', 'ao', 'hace', 'versed', 'dragging', 'shenanigans', 'longthank', 'praising', 'staffed', 'pinned', '1012', 'dud', 'contains', 'execellent', 'breached', '1060', 'welcoming', '380', 'beneficiaries', 'comunity', 'universal', 'guides', 'bestno', 'geezer', 'downsides', 'breezy', 'celsiusso', 'rotten', 'bag', 'vet', 'ebay', 'documentations', 'forum', 'neededbest', '0348name', 'foreseeable', 'jamaicaexchange', 'storytoday', 'reordering', 'expert', 'despicable', 'instrest', 'montalvo', 'capitl', 'bake', 'arguments', '109', 'tungate', 'russian', 'coinssince', 'pebble', 'fitness', 'currrnt', 'autopaychime', '145', 'attends', 'undate', 'compounded', '4202021', 'expectationsclinton', 'upgreat', 'conscious', 'febmar', 'bery', 'readers', 'colombiai', '28955', 'spectacul', 'sundays', 'trythe', 'believer', 'retaining', 'ibc', 'thkd', 'harris', '34277', 'celpay', 'staffhonest', 'ethos', 'player', 'anythingspot', 'slam', 'coorprate', 'protest', 'tradfi', 'lay', 'stephenkingjrr', 'merun', 'ubderstand', 'speculation', 'happenedu', 'youall', 'celsiusi', 'problemsfast', 'efficientsafest', 'fifixes', 'milk', 'srew', 'detrimental', 'slammed', 'engages', 'og', 'greatthank', 'relationshipcrooks', 'westrn', 'dreaming', 'timeotherwise', 'kicking', 'chart', 'expereince', 'receivedthats', 'generator', 'resolvedi', 'fsst', 'wsetern', 'farkeep', 'restored', 'receivedthank', 'separation', 'knowthis', 'rewardsi', 'sendi', 'highyield', 'flood', 'fulfilled', 'workso', 'chimeits', 'grandma', 'periodically', 'perceived', 'thou', 'stills', 'syper', 'sensitiveconfidential', 'servicr', 'reversible', 'reasons1', 'upps', 'legitimacy', 'illegaly', '1148', 'daysmy', 'scenes', 'arriving', 'foresee', 'political', 'screamed', '8200', 'distributors', 'tweets', 'aesthetics', '152', 'migrate', '70k', 'sen', 'monegram', '2276', 'whitelist', 'yeild', '808', 'homeforcrypto', 'cellular', 'ridiculas', 'wins', 'skyrocketed', 'moble', 'disconcerting', 'jailed', 'cab', '030', 'eady', 'exspect', 'sheet', 'kno', 'vert', 'treasurey', 'yoursand', 'sorely', 'mindset', 'anf', '514', 'earlythe', 'moneyalll', 'temecula', 'spring', 'regretted', 'promocode', 'unsuspend', 'worldand', 'transcations', 'enhanced', 'transcationsi', 'professionaly', 'skam', 'mechat', '558', '658', 'negotiate', 'robotically', '422', 'itbut', 'whyhorrible', 'jokeonly', 'novemeber', '11112022', 'riding', 'accessibilitythe', 'directloce', 'duel', 'totalling', 'unemoyment', 'fam', 'businessi', '355', 'utopia', 'whoevers', 'complicating', 'daysover', 'prolonged', 'unresolvedunable', 'dilemmanot', 'emerging', 'storesi', 'crept', 'discomfortwrong', 'mi', 'foance', 'errori', 'bruh', 'correctionthe', 'glitchthis', 'abnormality', 'freshmannope', 'worldremit', 'membersi', 'paired', 'remark', 'winter', 'fn', 'gouging', 'motor', 'xtra', 'chimemy', 'jobvery', 'delaware', 'usp', 'youreginald', 'deserved', 'complying', '200300', 'existonly', 'statesis', 'hugh', 'depositthank', 'transation', 'valueing', 'nations', 'itevery', 'systemas', 'homei', 'babies', 'ford', 'familywith', 'ridiculousthe', 'jus', 'noticable', '99cents', 'celsiasn', 'fess', 'mend', 'salamat', '3717748', 'notated', 'personl', 'itone', '799', 'servicedisputed', 'comfrtof', 'excellentlove', 'lively', 'arounds', 'impacting', 'likewise', 'lefti', 'diming', '197000', 'intercede', 'vetted', 'attribute', 'botched', '140000i', 'ties', '528', 'asaaaaaa', 'dollor', 'qualities', 'famiky', 'abrams', 'alexis', 'underrated', 'crimes', 'habit', '1400mo', 'ngn', 'thereyou', 'a__so', 'qa', 'trought', 'striving', 'fobbed', 'fradulent', 'changeour', 'expose', 'booked', 'chhhhhime', 'innovating', 'unbeatable', 'upi', 'phantastic', 'denver', 'improveeven', 'articulate', 'dollors', 'gread', 'timehighly', '6oclock', 'bunion', 'cycles', '18k', 'cliente', 'platformapp', 'calmly', 'clauses', 'moneyalso', 'endorse', 'siteapp', 'breaches', 'usefulthank', '90k', 'silent', 'basicly', 'nevermind', 'spendingand', 'funniest', 'hilarious', 'underdeveloped', 'geat', 'greenport', 'mistakebecause', 'dwindled', 'deteriorate', 'uncomparable', 'serviceswestern', 'accuses', 'refusal', 'smooches', '128', 'exuse', 'answeredwhat', 'bibles', 'despues', 'alberts', 'cro', 'accountant', 'translate', 'idol', 'havedo', 'yearsi', 'slooooow', 'youdont', 'horizen', 'scored', 'wasif', 'casi', 'celisius', 'stronger', 'graphics', 'crossover', 'strip', 'dob', 'forgets', 'attack', 'surrounding', 'argo', 'rub', 'eddie', 'meals', 'riceveid', 'lyft', 'ubering', '1710', 'serviceincredible', '23am', 'rides', 'wonky', 'reinvestigate', 'licenses', 'regulation', 'licensed', 'curve', 'theives', 'commissions', 'weekissue', 'unreceived', 'sowhat', 'bureaucracy', 'variance', 'farce', 'depositchimes', 'disregarding', 'becuase', 'arnt', 'publish', 'depositour', 'bells', 'ringing', '1233am', '730pm', 'laterthis', 'weeksmy', 'corresponded', '4448', '38500', 'fluctuates', 'nothingalso', 'https', '385', 'programming', 'repeatly', 'exchanging', 'deptwhat', 'cheaply', '1993i', 'plataform', 'reconfirm', 'donald', 'curved', 'tires', 'reinitiate', 'spacers', 'adapters', 'mg', 'tows', 'sceptic', 'ducks', 'jipped', 'goodi', 'snag', 'rims', 'lug', 'himmed', 'ordering', 'jack', 'warming', 'totals', 'happensim', 'iteven', 'trump', 'garage', 'wowwwww', 'usethe', 'anderstand', 'disputedsubmitted', 'elseware', '8333', 'didi', 'thenthey', 'bronze', 'empowering', '63', 'connects', 'backend', 'orderonly', 'necessitymy', 'stubborn', 'waller', 'usingg', 'similarly', 'situated', 'stamp', 'abit', 'thoughts', 'arcrue', 'confortable', 'sparkflare', 'hasslefull', 'outweighed', 'trad', 'underwhelming', 'loosely', 'slashed', 'firms', 'poas', 'creditdebit', '252021', '1200oo', 'shaking', 'amazedcredit', 'timecons', 'bestworst', 'unverified', 'synthetix', 'disqualified', 'strenuous', 'whitelisting', '525', 'niiice', '653659', 'abnormal', 'installing', 'comparisons', 'cels', 'chrisrbritt', 'stats', 'zach', '222021', 'veneer', 'trx', '5i', 'comparatively', '15pts', '401k', 'goneif', 'envoice', 'hitches', 'cmon', 'liethey', 'craze', 'sympa', 'staten', 'bentworth', 'congrats', 'activation', 'ray', 'foreigner', 'taxpayer', 'itin', 'altcoins', 'amenity', 'reaction', 'emclosing', 'flybynighter', 'moderators', 'institutional', 'appalled', 'dismissive', 'responsethis', 'disadvantage', 'avd', 'trustee', 'nonpending', 'bankless', 'headed', '238', '14335', 'dafted', 'robbers', 'exposure', 'depositadditionally', 'hoursi', 'overloaded', 'ineligible', 'kloviactools', 'cybersecurity', 'ecosystem', 'metwhile', 'hasslei', 'liaison', 'reinstalled', 'upvotes', 'networki', '48weeks', 'calender', 'detract', 'accommodate', 'examples', '55163', 'thebancorp', 'applicable', 'busd', 'adress', 'dabbles', 'icon', 'dispensaries', '24h', 'stain', 'depositedit', 'tuned', 'banksteer', 'offso', 'worsemy', 'scammish', 'toggle', 'suppost', 'cryptoi', 'opener', 'appealed', 'fork', 'lent', 'rehypothecation', 'responsethen', 'squat', 'diddly', 'uniformly', 'stolentheir', 'tolerated', 'largest', 'shake', 'ranging', 'sicking', 'completew', 'float', 'afloat', 'cheery', '187226', '571', 'eliminates', 'ice', 'carrying', 'cashdeposit', 'yielding', 'peanuts', 'openness', '10839', 'fireblocks', 'wa', 'usersi', 'courts', 'linkor', 'ticketdue', 'simplistic', 'announcements', 'soon955', 'diy', 'cheat', 'obligation', 'coward', 'carenif', 'liabilities', 'esy', 'pmyall', 'now955', 'ethically', 'aus', 'toe', 'geek', '4637', 'transperacy', 'stumbled', 'replacing', 'accountseems', 'graph', 'metalic', 'walleti', 'units', 'nascent', 'toss', 'daysi', 'winners', 'browsers', 'despiau', '2008', 'bedste', 'staring', 'lala', 'axl', 'hacks', 'fxxk', 'convincing', 'thur', 'fxxs', 'interviews', 'bullxxxx', 'candidly', 'monthwhat', 'boachase', 'billsi', 'shining', 'faste', 'cheats', 'workyou', 'patrons', 'caseso', '278', 'wild', 'series', 'unapologetic', 'audit', 'chainalysis', 'shadows', 'dramatic', 'jist', 'pesky', 'recomended', 'sounding', '313', 'chevk', 'parking', 'role', 'phonenow', 'metallic', 'altruistic', 'apys', 'punk', 'gravel', 'tail', 'developers', 'edges', '4300', 'mistakenly', 'annoyance', 'interrupts', 'attemped', 'transaction5', 'overallthe', 'glamorous', 'glitsy', 'fixedchanged', 'designthis', 'potencial', 'mondayi', 'trusts', 'receiveda', 'inventor', 'bootleg', 'uphold', 'hodler', '07142021', 'grasp', 'pace', '11000', 'russia', 'maximise', 'allocation', 'pea', 've', 'evolve', 'coinspot', 'openly', 'transparent4', 'timeduane', 'unlikely', 'unity', 'likelihood', 'pist', 'enoughhorribly', 'hopped', 'assess', 'complication', 'movie', '1btc', 'disappearing', 'speek', 'doomed', 'skimming', '6700', '365', 'passwordi', 'fuck1ng', 'languagethis', 'cardalso', 'massive', 'kronos', 'timethe', 'tele', 'centralised', 'updatei', 'trustworthiness', 'fe', 'methird', 'copypaste', 'portalchime', 'nordpass', 'helpchimecom', 'pleasesecond', 'agoblue', 'stahp', 'fa', 'issuesevery', 'wordokay', 'suitable', 'donot', 'evercustomer', '416we', 'wayapart', 'asapi', '512', 'persistedhi', 'explicit', 'zerotolerance', 'upside', 'passwordthey', 'fucki1ng', 'sakes', 'udsc', 'responseafter', 'favourable', 'bullsh1t', 'ceslsius', 'acknowledgement', 'cryptoland', 'ivan', 'snapshot', 'imply', 'linkthis', 'todayim', 'changeive', 'anna', 'audited', 'jeremythis', 'competetive', 'squeal', 'sorryunfortunately', 'kali', 'guestcustomer', 'savingscons', '194', '21499', 'frome', 'instituon', 'concert', '121922', 'selfish', 'indents', 'responsebiggest', 'distributing', 'accidents', 'representativesdave', 'josh', 'candy', 'appoverall', 'supporter', 'quota', 'itve', 'tooive', 'motherif', 'teambut', 'reasonive', 'moneyfinancial', '20x', '4396', 'idont', 'hemorrhaging', 'commiting', 'receivedthis', 'referenced', 'abovebased', 'closedyou', '417', '94104', 'barbara', 'artiest', 'timothy', 'hgkh', 'ihcjdjdfjdmdjfhdkfjfjskdjjdjdjzdjdbdndbcbb', 'artiestshe', 'minutesive', 'helpwhich', 'showamazing', 'tellse', 'msartiest', 'mmhv', 'daytoday', 'repaired', 'supportatchimecom', 'paychecktopaycheck', 'yhe', 'divit', 'lewis', 'thereoverall', 'shadium', 'combativeso', 'truthand', 'casethey', 'thistheir', 'holy', '2049', 'scamset', 'parthas', 'juan', 'toolsyouve', 'ohiothey', 'infux', 'reissues', 'saddened', '9500', 'platic', '3way', 'descion', 'lt', 'chap', 'fuxking', 'shxt', 'legs', 'doesim', 'creditand', 'comesits', 'rawk', '500its', '35fees', 'cardthat', 'aroundgreat', 'troubleshooted', 'accountall', 'macys', 'byeeebueee', '952', 'truththey', 'punished', 'plagued', '25000250002500024200', '1005', '1004', '12222', 'usagewhat', 'frantically', '936', 'accy', 'statusthank', '2027', 'thative', 'fridaythe', 'mobilefocused', 'tenants', 'excitedly', '4091', '35444', 'oversea', 'neglectedthen', 'unassailable', 'awaited', 'mfs', '139999', '232am', 'fixedincome', '301am', '2030', 'anoth', '50mins', 'harm', 'parroting', 'extorting', 'wholehowever', 'earlyas', 'issuethey', 'trasfers', 'mortified', 'banksso', 'intriguing', 'john', 'tran', 'bulder', 'somones', 'seethat', '5450891i', 'peoplemy', 'reimbursing', 'improperly', '562', '562and', 'gtfohthis', 'unionkelly', 'bureus', 'switches', 'transactionsps', 'lifethere', 'heroin', 'systemthank', 'addict', 'sugarcoat', 'chimecom', 'cancled', 'convos', 'improffessional', 'pox', 'againa', 'nicklay', 'downthank', 'agonizing', 'fusing', 'retains', 'reliablecouldnt', 'servicethankyou', 'witt', 'dome', 'negativres', 'fuxer', 'doged', 'agaist', 'fckng', 'fcg', 'documentsonce', 'tooawful', 'clientsbullet', 'colombiaonce', 'companyyou', 'monitored', 'thathidden', 'responseplease', 'reregister', 'workgood', 'frictionless', 'transactio', 'sspot', 'releable', 'accountwie', 'buffering', 'master', 'awnd', 'brinks', 'usegreat', '270000', 'mistrust', 'lautet', 'deceitful', 'pointsi', 'slader', 'divulge', 'itcomplete', 'pledge', 'unfolding', 'execure', 'fiendscolleagues', 'swindle', 'collaborations', 'oneoff', 'deutschland', 'wukundensupports', 'des', 'emailadresse', 'disclaimers', 'mumbo', 'jumboand', 'rain', 'appcompany', 'wouldtransaction', 'storm', '21days', '3hr', 'unspecified', 'fizzle', 'emidiatey', 'wordssentences', '146', 'misleadingfalse', 'lackadaisical', 'cleaning', 'feedefinitely', 'systemviva', 'uncumbersome', 'outflow', 'counsel', 'acctthis', 'jazzed', 'rushcarduni', 'transfersaccept', 'dued', '2448hrs', '2448hr', 'servicesthis', 'depleted', 'takenthe', 'latina', '232022', '3102022', '2months', 'enviar', 'inflow', '2023', '0310', 'problemhighly', 'themself', 'solicitor', 'outta', 'lola', '4985', '4654', 'bagent', '1054', 'massey', 'practicing', 'methodcompany', 'tricking', 'clientsnot', 'summat', 'keen', 'dedication', 'conection', 'grandchildren', 'noti', 'usemoney', 'walletand', 'gos', 'todayhope', 'emazing', 'advetisement', 'goodmake', 'jayne', '74', 'fc', 'isento', 'havethey', 'claims2', 'nontraditional', 'nonbanker', 'forewarneddo', 'methank', 'arrivedproblem', 'pdfs', 'fivestar', 'timeframes', 'realworld', '8yearold', 'sendfifth', 'issueif', 'squad', 'imbecile', 'sourced', 'actualizing', 'horrifying', '865497', 'loretta', 'horton', '61500', 'symptoms', 'reviewbut', 'writes', 'roommates', 'elsei', 'processesi', 'bounces', 'detour', '1159', 'frombut', 'jerked', 'lifelinemy', 'chimestick', 'creek', 'paddle', 'seas', 'cardholder', 'theif', 'tocover', 'streetaddresses', 'complian', 'avs', 'auththeres', 'anindication', 'disputedtransaction', '44309', 'incompatible', 'amounting', 'on20220904', 'followingcard', 'screening', 'falsifying', '3412we', 'postalzip', 'formats', '15484', 'banner', 'fluently', 'teamsystem', 'skimmed', '722pm', '718pm', 'worsr', '701pm', 'pll', 'saidheres', 'stoken', 'reduces', 'captured', 'cime', 'noraccount', 'reviewsi', 'relies', 'jr', 'answersno', 'accountabilityno', 'againedit', 'customersno', 'pettiness', 'uselessness', 'cements', 'eitherno', 'typing', 'infrequent', 'againstill', 'ahh', 'mighty', 'sophisticated', 'bw', 'gun', 'antagonized', 'accountcustomer', 'bankcorpe', 'grap', 'rope', 'inexistant', 'bsck', 'messenged', 'yester', '741', 'amounted', 'interacting', 'dots', 'personbut', 'surrounded', '273', 'callin', 'nightmarethey', 'outmatched', 'bosquez', 'circumstantial', 'declaring', 'refuted', 'chargers', 'indecipherably', 'reciting', 'mindlessly', 'woefully', 'infraction', 'wildly', 'hime', 'cranny', 'expedious', 'nook', 'segundo', 'adhering', 'enquiring', 'jhene', 'negated', 'aiko', 'nicholas', 'purport', 'bothering', '1169', 'explination', 'deniedno', 'tiresome', 'inhelpful', 'baru', 'feinging', 'commiefornia', 'instituted', 'latethey', 'incompetences', '20220907', 'arbitration', 'monthslike', '7pm', '4am', 'goodman', 'coincidence', 'saul', 'standpoint', '605pm', 'digress', 'backandforth', 'aaa', 'budged', 'moneylion', 'apologystating', 'reevaluate', 'louis', 'splendidly', 'airbnb', '503', 'patriciadaniels', 'consumerfinancegovyou', 'ftcgovand', 'iccc', 'ic3goveach', 'backill', 'patriciadaniels0887i', '1750', 'tends', 'telemarketers', 'renting', 'templateso', 'wanttell', 'negotiated', 'carrier', 'brainless', 'cardholders', 'unblocked', 'lairs', 'coma', 'unknowing', 'gravy', 'changethe', 'enjoyedbut', '544', 'waves', 'hardworking', 'everlasting', 'invoked', 'gaint', 'binder', 'emotions', 'encapsulate', 'humiliated', '3537', 'liscence', 'doi', 'unlawfully', 'tommarrow', 'ducking', 'hillscan', 'emailif', 'computeranother', 'waitwere', 'caching', 'thisthank', 'accounta', 'catastrophic', 'inappropriately', 'experiencethanks', 'miraculously', 'helpwithmybankgovnext', 'selfs', 'moneyupdate', 'wrongful', 'chama', 'wowcardholders', 'rebuttled', 'unintentive', 'intellect', 'sentences', 'wrongly', '1d', 'pedicure', 'rescheduled', 'wordforword', '35314369001', 'reschedule', 'view2be', 'danielsclaim', '5092213claim', 'cookie', '13318947', 'settled_at', '13318948', '01432910', '20220909', '_at', '990', 'tryna', '18400we', 'following10', 'matcheshave', 'elseguess', 'includedthe', 'dogotta', 'bargain', 'contested', 'customerpromised', 'arcani', 'unaccessible', '933amthen', 'verbatim', 'avtually', 'themupdate', 'handel', 'ces', '3diffrent', '72622', 'appalling', 'motorcycle', 'eternity', 'theey', 'ashtray', 'coil', 'crying', '541pm', 'verdict', '147pm', 'comvery', 'witheld', 'killedthis', 'reynolds', 'unlit', '100pm', '151', 'burn', '157', 'shoulda', 'dontae', 'hutchinson', '229', '237', 'sideyeah', 'dobt', 'wudiga', 'limitationcash', 'historybecause', 'unemployement', 'feetbut', 'rupee', 'depleated', 'casemy', '8099', 'inboxdollars', 'solvedbut', 'chimeat', 'dictionary', 'forthwith', 'ditched', 'akward', 'thropugh', 'soeoen', 'paymentsso', 'brubank', 'ina', 'payrollpaycheck', 'pyment', 'directdepostit', 'easygreat', 'creditget', 'earlyand', '83', 'ove', 'solidified', 'stares', 'neutralize', 'moneyquick', 'siteonce', 'galicia', '2or3', 'cardpassword', 'editdifficult', '70000', 'awaybut', 'expecially', 'infact', 'crashinginfct', 'laternot', 'association', 'upsold', 'coulbe', 'animals', 'craps', 'bottomline', 'youi', 'usefuland', 'swing', 'dashes', 'it3years', 'architecture', 'hournothing', 'daysnot', 'accountwhat', 'elsewherei', 'inmediate', 'decentinstead', 'phonecall', 'authorise', 'lucas', 'goodplease', 'isnegative', 'itpeople', 'monygram', 'goodthis', 'fifa', 'opition', 'deliverd', 'transfences', 'reoccurring', 'matrixthe', 'agan', 'disupute', 'iphonei', 'themplease', 'andsent', 'checkouti', 'pointsive', 'endneed', 'doings', 'perfectwhen', 'bankyou', '11821', '11921', 'bancorpchime', 'teceive', 'aawesome', 'transecting', 'tieup', 'thrustworthy', 'navigations', 'thanku', 'difficultiesso', 'theior', 'shtuff', 'shipmoney', 'timesway', 'occurredafter', 'knowchime', 'scrolling', 'unionunion', 'reimbursted', 'constanly', 'conjunction', 'settles', 'livesmy', 'noisesall', 'cyberjaya', 'govtissued', 'claimant', 'checkcertified', 'optin', 'reliever', 'unintelligible', 'rescevied', 'jabbering', 'businessadditionally', 'takeneeded', '7business', 'tipping', 'joplin', 'bic', '322', '111421saturday', 'zeroliability', 'vending', 'juts', 'barrow', '714', 'fraudelent', 'reviewingfrankly', 'completewhen', '312', 'corespondent', 'chalked', '870', 'snafu', 'delis', 'webiste', 'outwont', 'workingwhat', 'moneylast', 'branchesagents', 'wu2', 'waver', 'l2654', 'amsterdamprimera', 'netherlands', 'disregarded', 'nontransaction', 'primera', 'was3months', '4weeks', 'systemeasy', 'meso', 'christmasi', 'lockedthey', 'bolivian', 'ew', 'promocoupon', 'reiterated', 'supereasy', 'insted', 'immovable', 'lovef', 'acccout', 'pies', 'kirkwood', 'newhappy', 'sam', 'fillipines', 'didwould', 'weekevery', 'comunicate', 'conferenced', 'all3', 'stared', 'complaintsyet', 'japan', 'gilding', 'mock', 'efficientbut', 'friendlyhappy', 'cambodia', 'antwan', 'shifted', 'impede', 'grammar', 'troublei', 'willis', 'servicewhen', 'chile', 'lee', 'ber', 'muchthey', 'spellingand', '5no', 'redemtption', 'mymoney', 'aaaaaaaaaaaaaaaaaaaaaaaaaaaaaaaaaaaaa', 'camcelled', 'plugged', 'rrewards', 'oportunities', 'mtcn1094382869', 'punctuation', '4798151267', 'shmb', 'homeowner', 'ulities', 'borotherinlaw', 'oher', '12232022mtcn069', '9417', 'weekamazing', 'percs', '4806024233', 'vhime', 'considerated', 'servicesj', '100dollar', 'eligibility', 'prayers', 'fastso', 'alotlike', 'grilling', 'halfway', 'argentinian', 'dumbfounded', 'serviceeasier', '66995526974', 'manneri', 'commissary', 'leary', 'refreshes', 'foryour', 'hatched', 'simplistictrustworthyaccurateresponsivestar', 'sayonara', 'mofos', 'goddam', 'wading', 'expenditure', 'messagewere', 'attachments', 'informationso', 'helpfuldebbie', 'lessen', 'lts', '1211', 'yard', 'detailsinformation', 'sectors', 'patrick', 'aplied', 'jonas', 'honey', 'itdifficult', 'incintives', 'brooklyn', 'dayvery', 'santas', 'emitted', 'co2', 'bulls', 'woeful', 'cess', 'as9100iso9001', 'busness', 'thmage', 'deactavated', 'companey', 'thid', 'commodities', 'improvedthank', '324', 'broadway', 'approaches', 'needful', 'enid', 'zealand', '73701', 'badredeem', 'bokers', 'oldestgrandson', 'mychime', 'stl', 'amazingand', 'togetherin', 'guise', 'eficiencia', 'promot', 'zoraida', 'diabetic', 'arthritis', 'toes', 'grip', 'specification', 'resourse', 'pieace', 'grey', 'reconciling', 'personallyi', 'eitherbeen', 'surgeryi', 'directing', '8700', 'recommende', 'rfamily', 'issuance', 'funky', '10100', 'transfergreat', 'rituals', 'anywherei', 'religious', 'benin', 'securethank', 'gifttype', 'clues', '2012', 'waas', 'monthlythank', 'experinece', 'imperative', 'processyou', 'inclining', 'disclosedof', 'brazilian', 'criteriaplease', 'epperiened', 'peopleand', 'dissappear', 'backah', 'dissapearedgive', 'unfortunatly', 'accountto', 'easierbut', 'usted', 'anythingfor', 'buds', 'paginas', 'honestidad', 'buildup', 'hearted', 'las', 'translating', 'encontrar', 'prontitud', 'twelve', 'inthese', 'rong', 'swiftness', 'nochime', 'agoso', 'unjustly', 'ppls', 'oxygen', 'uothank', '34hrs', 'yeaa', 'downers', 'easyly', 'relaxing', 'messagewu', 'besureyouknowtheperson', 'hussle', 'headache16', 'familyand', 'rupiah', 'diehlman', 'inbetween', 'itnina', 'tha', '7394', 'substance', 'relation', '300000', 'differ', 'preparation', '4100', 'cyberspace', 'reasaon', 'transf', 'vegas', 'nulling', 'ethnicity', 'inplease', 'instarem', 'placid', 'proble', 'grieve', 'religion', 'violation', 'david', '5g', 'tags', '30days', 'grbg', 'goodno', 'chips', 'wasits', 'thingi', 'quickwhich', 'chimeboooo', 'sidenote', 'watchout', 'subway', 'ft', 'transf55', 'dgue', '3yrs', 'foreveror', '24yo', 'cradi', 'uniongood', 'interrogating', 'mitch', 'interrogation', 'againand', 'despot', 'establishes', 'joinedlots', 'submittingthe', 'yearsgawd', 'prev4', 'progtrammingmuch', 'tread', 'lightly', 'pharmacys', 'theoretical', 'mane', 'wf', 'furniture', 'thwn', 'evercannot', 'needmy', 'freethanks', 'xe', 'sidehustle', 'opportune', 'menow', 'rejectedi', 'brickandmortar', 'nimble', 'ineffective', 'accountscustomer', 'completelywhat', 'jackpot', 'nre', 'teenage', 'philipinesmy', 'eclipse', 'snowing', 'blockfior', 'gonenever', 'knewwhere', 'paidknow', 'positioned', 'subcategory', 'experiencefrom', 'eitherchime', 'perfection', 'gwb', 'compliantsuggestion', 'responseworst', '1usd', 'disreputable', 'mself', 'recognise', 'baht', 'runaroundthere', 'companychime', '80000000', 'betterthats', 'sheeeeeesh', '43000', 'servicejust', 'iban', '43002', 'quickreliable', 'fraudwhen', 'teamchime', 'increments', 'yourself8442446363', 'pointsno', 'regulating', 'withen', 'missionary', 'principals', 'fifty', 'necks', 'overbearing', 'priceappreciatethanks', 'rudofo', 'personthere', 'fiji', 'themsame', 'vacationing', 'transferwise', 'transparrant', 'immediatly', 'goat', 'numbercancelled', 'accountworrying', 'neo', '11yrs', 'renewal', '486', '205', 'malabon', 'fads', 'problemclick', 'placechime', 'thebank', 'peaks', 'xhusnand', 'diesnt', 'alongside', 'doneit', 'captain', '292022', 'dishearted', 'parte', 'origin', 'grandbabies', 'fenna', 'eleven', 'morterbanks', '3xperience', 'aninperson', 'upthey', 'direcy', 'optionof', 'paraguay', 'farthanks', 'charge69', 'card80', 'solutionyou', 'solutionsi', 'robberyi', 'r7008', 'resembles', 'targets', 'wishes', 'informationwe', 'mywu', 'gcrwesternunion', 'missionaries', 'emergencyit', 'nil', 'banksterhonestly', 'compares', 'accountget', 'emailsto', 'contactwith', 'samea', 'households', 'companycorporation', 'paytm', 'alla', 'succeded', 'methodical', 'butwe', 'uunion', 'dingbat', 'youhoping', 'onethe', 'mechanical', 'unrealistic', 'seriousif', 'underprivileged', 'steaks', 'strickened', 'beforehi', 'ketiurah', 'evasive', 'administrator', 'bankstrading', 'buysell', 'stocketf', 'insignificant', 'tradefree', 'mutliple', 'dismissing', 'excites', 'savin', 'shanagins', 'insites', 'sitch', 'havei', 'navigatei', 'card2', 'remainthe', 'tuck', 'infostock', 'extrasense', 'instantconfirmation', 'beginsvery', 'wisely', 'appgood', 'ropes', 'hectic', 'gwen', 'automates', 'automate', 'ensures', 'gratifying', 'learners', 'investingi', 'fulfilling', 'frivolous', 'carries', 'll', 'nagivating', 'frontits', '1219', 'optionoverall', 'freely', 'savingi', 'comfy', 'sightings', 'ireally', 'stocksfunds', 'pe', 'fasterinstant', 'beeninformative', 'growl', 'quickbooksquicken', 'autodeposit', 'incremental', 'growbtw', 'mcdonalds', 'contributes', 'podcasts', 'winding', 'bolt', 'foray', 'hurdlr', 'stas', 'everybodythe', 'reinvestment', 'hereby', 'nuisance', 'landscaper', 'hurdlrwhich', 'transportation', 'externaly', 'industryand', 'rideshare', 'pivotal', 'joins', 'refering', 'facebrookover', 'srvices', 'tutorials', 'stasheasy', 'iffy', 'ruuun', 'carvana', 'initiating', 'tipsupdated', 'ticker', 'smugly', '5127679163', '340000', 'bonkers', 'buttered', 'sipc', 'garbagethey', 'investmentsthey', 'toscancelling', 'callemailits', 'harvest', '9mo', 'abbvie', 'newly', 'oversee', 'missingi', 'weeksafter', 'reveal', 'stashafter', 'aws', 'rewardoverall', 'vulnerable', 'weekthe', 'toobut', 'safeguarded', 'worriedwow', 'problemsupdate', 'thanked', 'pagei', 'manymyself', 'stockpile', 'eitherso', 'whateveri', '910141623', 'interactivity', 'shout', 'switchthe', 'cononce', 'youand', 'informationbad', 'cardplus', 'itstill', 'stashkeep', 'administrators', '3300', 'investingstash', 'dissapointing', 'meh', 'everythign', 'comarision', 'compaines', 'binifts', 'piranha', 'recognizes', 'wfc', 'scamed', 'schwalb', 'rewithdrawals', 'beggining', 'ab', 'session', '520', 'ashi', 'onlineapp', 'obsticales', 'linkedthe', 'phonespeaking', 'yellbefore', 'sketchiest', 'mutimillion', 'pandimic', 'zeroed', 'tostock', 'reinforce', 'futuret', '3266', 'fierce', 'outfast', 'persistent', 'reasoni', 'applicationapproval', 'clickclickclick', 'bookthank', 'inflated', '15mn', 'conso', 'prefilling', 'agenda', 'procedes', 'benchmark', 'uncontracted', 'issueat', 'starttofinish', 'wentthank', 'phonesuper', 'sofisimple', 'circumstancesthe', 'bankratecom', 'dls', 'zombies', 'thoughtful', 'couldnt1', 'supervisor3', 'loanless', 'helpfulsofi', 'accountless', '690725', 'dti', 'abreast', 'wclear', 'paymentterm', 'rushing', '15min', 'sifi', 'slider', 'k1', 'procure', 'wreps', 'arm', 'leg', 'wasam', 'relax', 'queries', 'dodge', 'friendlyi', 'allotted', 'impressively', 'uper', 'sofiyou', 'themthank', '6yrs', 'lean', 'wellinformed', 'taxable', '476', 'productengineering', 'beneath', 'messsofis', 'monthlywhen', 'assuring', 'reamortization', 'unravel', 'customerfollow', 'cxtime', 'preference', 'outit', 'exclusively', 'surprized', 'applyand', 'trough', 'shorttime', 'categories', 'suited', 'phonevery', 'houstonjacksonville', 'favs', 'sighted', 'pun', 'heshe', 'removedthank', 'procon', 'fromcon', 'classification', 'pointers', 'orderstash', 'embolden', 'appsuper', 'stashkinda', 'wednesday2019', 'homies', 'aftersuch', 'beginneralong', 'portfoliothis', 'portfoliothen', 'wilderness', 'nifty', 'coorect', 'stashvery', 'tidbits', 'guardrail', 'faldo', 'appservice', 'wm', 'communitycheersjared', 'swiping', 'stockswould', 'dayswing', 'smartest', 'impaired', 'iphone8', 'ios13the', 'dxternal', 'adhere', 'duplicated', 'understandvery', 'divested', 'usr', 'as5', 'implies', 'throughly', 'waives', 'investmentsgood', 'accountnotsomuch', 'accountstash', 'answerthe', 'appits', 'openedscrew', 'outstay', 'thye', 'blessedthe', 'igreat', 'dataquick', 'familiarizing', 'mh', 'overhear', 'caredesire', 'saveeven', 'stocksnegative', 'unprepared', 'stashback', 'littlei', 'customized', 'kickbacks', 'legitdidnt', 'm1', 'fractionally', 'satan', 'ly', 'fished', 'starship', 'tolerance', 'dame', 'tradingi', 'modelstruly', 'laziness', 'tranfere', '222', 'hostile', '683', '869', '0440', 'pauloa', 'confuese', 'korea', 'safeguards', '91022', '2years', 'paymentsin', 'removingthey', 'chargewhy', 'wtaf', 'thisif', 'insincere', 'extend', 'dmned', 'africa', 'disagreement', 'muchi', 'c131', 'c13599', 'ifsc', 'tomato', 'floods', 'servicethank', 'bin', 'carddebit', 'edge', 'sword', 'gr8', 'exelent', 'drink', 'satisified', 'dicey', 'predict', 'salvador', 'questionthen', 'thievesi', 'companyive', '435', 'terribledisputed', 'onerecently', 'madoff', 'tale', '925', 'appit', 'grounds', 'amc', 'itim', 'stashcom', '2055164', 'maroons', 'unopened', 'thatthey', 'unsettling', 'classaction', 'piled', 'investigatedi', 'thisdont', 'andsaving', 'fridaygifting', 'noisy', 'wellestablished', 'stockanyone', 'thie', 'helpfulsomebody', 'buys', 'sells', 'agodo', 'xfinity', 'unsuspecting', 'mount', 'closedsupport', 'costeffective', 'cvv', 'impotent', 'cumbersome', 'facilitate', 'upstanding', 'apprecieates', 'effecient', '3days', 'transfert', 'rapide', 'arbitrarily', 'wherever', 'alter', 'callbacks', 'incompetents', 'reapplied', 'developing', 'travelling', 'warranted', 'countrys', 'overcharge', 'travesty', 'omgoodness', 'confort', 'bugging', 'annoyances', 'fairdollar', 'verbal', 'prescription', 'esay', 'destinations', 'robber', '79', 'venezuela', 'agohe', '758', 'pastor', 'moneywhat', 'tweeting', 'journeys', 'wc', '930', '167865615', 'censoring', 'opid', 'shiy', 'chrome', 'mambo', 'ratethank', 'appscrewed', 'cancelation', 'sierre', 'aplus', 'excellenceloving', 'fbi', 'thatyou', 'pressing', 'usles', '928', 'leone', 'inferior', 'homepage', 'starve', 'reboot', 'longtime', '632', 'computerized', 'wumoney', 'fori', 'apathy', 'saddens', 'ideas', 'unioni', 'vancouver', 'pints', 'samara', '100usd', '1950', 'earner', 'stashrequired', 'smelling', 'wing', 'startedbut', 'themselvesbut', 'bernhardt', 'sitevery', 'totalall', 'affidavit', 'issueswhy', 'easythey', 'unsettled', 'aibot', '07192022', 'toni', 'acat', '0808', 'themthey', 'horriblecheatscustomer', 'kitploitnet', 'disallowed', 'knowone', '2factor', 'slayer', 'wellington', 'abby', 'ah', '6mthsrun', 'similiar', 'stimilus', 'monts', 'mommy', 'taxs', 'fr9m', '1384', 'combed', 'angd', 'missplaced', 'stashapex', 'accit', '20172018', 'dictate', 'buncha', '5thover', 'folk', 'prospectus', 'webbecause', 'firsti', 'sensitivepersonal', 'unrestricted', 'corresponding', 'stashed', 'maddeningly', 'resolveround', 'resisting', 'timeswell', 'sonewhere', 'dosent', 'mindless', 'thieving', 'upcharged', 'erm', 'emil', 'spammer', 'capitol', '4900', 'audience', 'adequately', 'nag', 'deletedin', 'clearinghouse', 'barracuda', 'tiers', 'cop', 'icloud', 'mandatory', 'ooo', 'budy', 'sample', 'pci', 'carousele', 'joinbad', 'mountains', 'outs', 'answerdo', 'coned', 'evry', 'wherein', 'grandfathering', 'customersdebit', 'shouting', 'scammera', 'negitive', 'trueborgcmthey', '78', 'predators', 'ooooooo', 'buuddy', 'appbut', 'eitherironically', 'depressed', 'chonically', 'serviceunless', 'boxi', 'valley', 'streams', 'stashi', 'onlinestash', 'ticking', '100ish', 'intervention', 'saidwe', 'mandated', 'bum', 'azz', 'nazty', 'bums', 'moneyaccount', '1911share', 'sharedont', 'churned', 'servi', 'forcefully', 'nvidia', 'hahahhahah', 'permitting', 'closednow', 'thererun', 'unneccesary', 'arbismartbot', 'privilege', '6533', 'vm', '6890', '4747', 'ccd', 'krieg', 'multiply', 'cleans', 'peoplethey', 'repeatedlyno', 'calledgot', 'rejoin', 'synthetically', 'queens', '668', '4706038978', 'intends', 'gitches', 'scamsters', 'forim', 'onstash', 'respondthis', 'pocketing', 'afterwords', 'herse', 'restrict', 'cnat', 'dlpeople', 'frustrationuse', 'helpfuli', 'procrastination', 'consultant', 'pl', 'foolish', 'perfectional', 'dirt', 'medication', 'feesfree', 'discriminates', 'ssnitin', 'vari', 'anger', 'risked', 'enjoyment', 'extraordinarily', 'advancements', 'otp', 'improvedive', 'praying', 'themgreat', 'adore', 'vato', 'custome', 'issuethe', 'grants', 'ssemless', 'predicament', 'confronted', 'cue', 'marriott', 'hotwire', 'wrap', 'calming', 'damages', 'bodies', 'closures', '12121', '121521', 'varomoney', 'belongs', 'feedbacks', '10stst', 'offensive', 'carol', '420', 'withvaro', 'ape', 'everrr', 'dozen', 'lifelong', 'branching', 'ty', 'spirit', 'ands', 'buts', 'easyto', 'pacify', 'rightful', 'invention', 'easer', '90s', 'hela', 'backand', 'problema', 'useeasy', 'upive', '415', 'tou', 'dump', 'relink', '37', 'surpassed', '22021', 'outdoes', 'breaker', 'experiecnce', '287', 'musk', 'gates', 'gore', 'everthing', 'yada', 'reasonings', 'val', '935k', 'attendants', 'navientsallie', '700m', 'greet', 'tidious', 'edu', '515', 'groups', 'responsiveness', 'tshirts', 'customeroriented', 'branding', 'messy', 'problemfree', 'excelllent', 'deferred', 'contributions', 'rescued', 'commitments', 'referafriend', 'gatherings', '411', 'phase', 'amt', 'pointing', 'compliments', 'libor', 'genius', 'downright', 'intake', 'lengths', 'processwould', 'imo', 'achieving', 'evidently', 'farvery', '45min', 'helpwithmybank', '2600', '298', '396', 'witness', 'occ', 'lier', '430pm', 'sooni', 'inspector', '18008276526', 'aggravated', '24hr', 'goof', 'bragged', 'besti', 'goso', 'da', 'royally', 'alabama', 'stands', 'scott', 'ugh', 'butt', 'compliment', 'mailer', 'nod', 'interstate', 'tablet', 'allocate', 'soul', 'thereby', 'noon', 'refied', 'tens', 'slump', 'kitchen', 'intentions', 'ethic', 'expierience', 'waa', 'raeford', 'instincts', 'arlington', 'saga', '1511', 'walnut', 'bbv', 'promissory', '1287', 'destitute', '339', 'intakes', '1999', 'spectrum', 'samei', 'myriad', 'slowthey', 'animal', 'potty', 'clerks', 'executor', 'hayslip', 'kaylah', 'placeyou', 'kirk', '115k', 'redone', 'chinsiest', 'severed', 'port', 'mega', 'migration', 'strangely', 'beleive', 'disconnects', 'odometer', 'angela', 'inherited', 'carmen', 'pins', 'directors', '533', '847', 'f_', '_', 'repetitively', 'demchak', 'immobile', '42nd', 'novel', 'kokomo', '1231', '6500', 'draconian', '200000', 'reflecting', 'lake', 'landlords', 'bbvapnc', 'payoffs', 'footprint', 'scums', 'foreclose', 'retract', 'handed', 'courtesies', '18007622035', 'pathetically', 'pcn', 'lafayette', 'forprofit', 'belligerent', 'command', 'pn', 'cord', 'arrested', 'frost', 'truist', 'dude', 'fedex', 'referre', 'destiny', 'posing', 'backyard', 'assistan', 'redeposited', 'frm', 'useconnects', 'continual', 'iove', 'fastn', 'ko', 'mafia', 'naver', 'bamkinh', 'personi', 'lomg', 'custumer', 'harry', 'plz', 'incurring', 'misplace', 'convents', 'egregious', 'amen', 'amazeballs', 'accuse', 'wen', 'conveinent', 'taylor', 'voiced', 'que', 'amazingness', 'awesomely', 'foundation', 'positively', 'disneyland', 'paris', 'impressedglad', 'unprofessionalthey', 'allegations', 'pmc', '1went', 'nw', 'rehab', 'insulin', 'cashcheck', 'absconded', 'fictitious', 'insists', 'irritate', 'chanticos', 'worsted', 'ayers', 'quarters', 'bankever', 'buyout', 'aboutas', 'curt', 'bright', 'remitted', 'infallible', 'organize', 'ita', 'evaluated', 'accountwere', 'finalplease', 'nothone', 'hailey', 'sellersburg', 'leslie', 'trashy', 'invoices', 'punctual', 'northones', 'routine', 'modified', '5year', 'adamson', 'coordinated', 'deceived', 'ludicrous', 'goo', 'officeroriginator', 'fortynine', '330pm', '331', 'fo', 'cooloff', 'representing', 'override', '16245', 'sack', 'sob', 'marketed', 'renege', 'object', 'paperless', 'exploding', 'dummy', 'baiting', 'individually', 'archaic', 'superfinance', 'climbing', 'stroke', 'wheelchair', 'gaps', 'manger', 'cashout', 'simulate', 'voila', 'shortened', 'correcting', 'calculation', 'sophi', 'unknowingly', 'pooper', 'dishonesty', 'punish', 'screeching', '234', 'bam', 'null', 'physicianindependent', 'salt', 'patriot', 'receptive', 'halt', 'prohibited', 'livid', 'applicant', '35k', 'smarter', 'raw', 'annually', 'sixty', 'solicitation', 'participation', 'sooooo', 'shoulder', 'gary', 'eggs', 'weak', 'snailmail', 'thataction', 'wo', 'defended', 'confrontational', 'looters', 'gesture', 'loudly', 'untransparent', 'misguided', 'finacial', 'reap', 'quanitra', 'ratios', 'swag', 'stanford', 'simpe', '9622', 'mastercard', '2011', 'processi', 'assessment', 'claw', 'realm', 'unworthy', 'tearlessly', 'upstart', 'prayed', 'shield', 'exwife', 'vast', 'coborrower', 'usc', '760', 'hh', 'jiust', 'sheeps', 'earners', 'pressured', 'booo', '6figure', 'domestically', 'reupload', 'prides', 'wowthe', 'becu', 'pertinent', 'acquiring', 'implied', 'wowand', 'yelling', 'phishing', 'ridiculousness', 'timeshare', 'renovation', 'inundated', 'seminars', 'serviceawesome', 'customerneeded', 'butthe', 'knocked', 'participated', 'afterward', 'withthe', 'breakdown', 'easythe', 'superlative', '1support', 'allinone', 'scarred', 'bestegg', 'inciteful', 'sizable', 'mu', 'dumped', 'sofifails', 'forgiveness', 'hosted', 'oak', 'harass', '680', 'goldman', 'sachs', 'unauthorised', '910', 'postmark', 'judged', 'prize', 'aggressively', 'mailings', 'attain', 'accommodating', 'refreshingly', 'deceive', 'youth', 'harvey', 'noncommunicative', 'arose', 'higly', 'technological', 'nights', 'realistically', 'painlessly', 'sf', 'anticipation', 'experiencewould', 'ordinarily', 'customeri', 'riddance', 'housing', 'baitandswitch', 'alive', '48hrs', 'familyfriends', '3er', 'clicking', 'director', '110000', 'context', 'easyim', 'eft', 'sofiexcellent', 'discourage', 'expanding', 'brittany', 'epic', 'erase', 'battling', 'simplestquickest', 'pitch', 'stringent', 'vietnam', 'twenties', 'unneeded', 'simpleto', 'carelessly', 'coast', 'extending', 'exclusive', 'skeleton', 'illegitimate', 'expansion', 'hoodie', 'rapport', 'reflection', 'nicole', 'enthused', 'exemplary', 'logo', 'cooperative', 'selfservice', 'ini', 'creeped', 'amazingseriously', 'rebuilding', 'regurgitate', 'personified', 'instrustions', 'knowledgable', 'stunned', 'hats', 'salesy', 'advisers', 'experiencehighly', 'resigned', 'aldi', 'chargeoff', 'attorneys', 'bypass', 'hasselfree', 'applyprocessing', 'cylinders', 'resubmitting', 'itdont', 'spike', '485', 'tortured', '1099s', 'drafted', 'arrangements', 'undervalued', 'shakes', 'graciously', 'restructure', 'betterment', 'strung', 'autoinvest', 'featuring', 'nextgeneration', 'snarky', 'avenue', 'mohelas', 'relating', 'gauntlet', 'capitalizing', 'hardships', 'coapplicant', 'expiring', 'yvette', 'rectifying', 'semester', 'abig', 'unlink', 'jointly', 'males', '949', 'verifies', 'presently', 'plague', 'sellers', 'simplify', 'camper', 'begining', '200k', '737', '115', 'wwwsofi', 'sever', 'j', 'proprietary', 'nationwide', '130k', 'bath', 'nurse', 'objectives', '8880', 'withsuper', 'planners', 'pride', 'ellen', 'sof', 'midapplying', 'nerdwallet', 'equation', 'processno', 'scenarios', '1218', 'exaggerating', 'katie', 'dial', 'climbed', 'outrages', 'allegedly', 'financelending', 'litigation', 'onestop', 'p2p', 'sofimy', 'deb', 'forgive', 'childs', 'slowed', 'morgage', 'guaranty', 'unacceptableshe', 'recommended100', 'noise', 'lucksomeone', 'eververy', '6900', 'separated', 'itits', 'edwards', 'leah', '112020', 'wellit', 'dependability', 'persuaded', 'thingwe', 'smdh', 'appropriately', 'reconsiders', 'gilliam', 'accounr', 'listes', 'midst', 'inhouse', 'reccomending', 'optimal', 'hourslove', 'processso', 'fastmoney', 'rulled', 'jordan', 'soap', 'shampoo', 'shortoverdrawn', 'rui', 'unacceptable4', 'accpunt', 'redesigned', 'bucksthis', 'barnhart', '6times', 'saftety', 'fastthanks', 'moneysending', 'familythey', 'sane', 'frames', 'treatments', 'alsi', 'primeway', 'adavance', 'idpeople', 'companny', 'lax', 'dodgy', 'hinder', 'wasect', 'aroundsuper', 'nowno', 'tgats', 'wash', 'midyear', 'raving', 'unimaginable', 'a1', 'workvery', 'bust', 'charmed', 'featuresi', 'meive', 'jot', 'timeing', 'wana', 'rewardsm', 'everthey', 'ssc', 'extremley', 'insistant', '10240', 'perpetrated', 'aplication', '48000', 'bike', '2022money', 'innetwork', 'activityas', '012721', 'disconnection', 'outofnetwork', 'webster', 'ifwhy', 'momentarily', 'dominican', 'undertaking', 'ynab', 'mintcom', 'guerra', 'chargesuses', 'accountchime', 'vards', 'thst', 'spotmr', 'paydate', 'yeti', 'aesthetic', 'phoneable', 'freebest', 'spotother', 'showa', 'thoughtsno', 'purely', 'lat', '10star', 'deposoted', 'facilitating', 'investigators', 'ichime', 'thanksgeze', 'circling', 'x2', 'hurried', 'support_at_chimecom', 'debut', 'moore', 'thievery', 'appthey', 'wre', 'renamed', 'expexperience', '315', 'moneyno', 'convenientgo', 'mxico', 'feego', 'senseless', 'cease', 'serviceswhen', 'waitlist', 'collaborators', 'repetitive', 'confidant', 'belonged', 'recievers', 'govt', 'strengthen', 'glacier', 'hassled', 'cfpa', 'showes', 'yethas', 'pointssays', 'loststolen', 'toolsapps', 'wahington', 'mrgeorge', 'disappointedmy', 'cardsand', 'anybodyno', 'tacked', 'fckin', 'reffered', 'outweighs', '9520', 'settingssincerelythe', 'twodays', 'moneythis', '3211742', '2bank', 'withing', 'situationsthey', 'telma', 'madagascar', 'waaayyyyy', 'liesss', 'abiding', 'policiesthey', 'washingtonlol', 'sothere', '2xdays', 'noiiz', 'appview', 'liarsdont', 'submits', 'foolmeonce', 'yalls', 'imm', 'ymr_reli', 'closedpaused', 'motherf', 'alzheimers', 'hourslol', 'recognizedcompany', 'accuracys', 'noooooo', 'pal', 'wearing', 'ears', 'themaccount', 'updatehi', 'doneyou', 'ridiculousthen', 'austin', 'chimepoor', 'advisedo', 'fx', 'hubbys', 'spinning', 'exam', 'moneychime', 'evictrd', '1445', 'looping', 'ifc', '909pm3rd', 'mfkers', 'checka', 'somuch', 'daysagain', 'roadreeeebaaaaaaaaaaaack', 'teamso', 'allot', 'forevvvveeeeeerrrrrr', 'eternally', 'trrransfer', 'dollarthey', 'servicesbest', 'shipper', 'expierance', 'achieved', 'localnational', 'nee', 'chair', 'performed', 'transferi', 'anythingi', 'suckers', 'easyive', 'cock', 'vicinity', 'livelihood', 'serviceexcellent', 'therfore', 'carat', 'askedbut', 'wdirect', 'gamble', 'wuvery', 'clearmy', 'champ', 'waiving', 'invalidated', 'expediting', 'oversees', 'agoif', 'fruad', 'testament', 'requestsend', 'ssni', 'aswell', 'melove', 'existant', 'transparencylove', 'resultas', 'tp', 'youbeen', 'complaintcase', 'creepy', 'serves', 'theshe', 'quickeasy', 'deducts', 'go2bank', 'addressive', 'peopleworkhardfortheir', 'wayyyyyyyy', 'seservice', '376', 'banksmore', 'ministry', 'occurredwhat', 'memorized', 'biased', 'earrly', 'chimand', 'cardsrecommend', 'fridayor', 'cleaners', 'unattended', 'amateur', 'williamthe', 'willloading', 'delicately', 'fondled', 'depositedbut', 'kenny', 'mines', 'servicedesk', 'backanybody', 'alarmed', 'dialysis', 'nana', 'erect', 'lessened', 'lousythey', 'juvenile', 'dope', 'featureits', 'thenround', 'chem', 'loops', 'etcin', 'reliableeasy', 'clutchbigger', 'clutch', 'iy', 'wiping', 'nefarious', 'moneyinforms', 'elsethey', 'unathorized', 'sayingmy', '12819', '630pm', '11272019', 'withcontacts', 'sonic', 'carhop', 'displeasedmaking', 'shaken', 'yayy', 'gum', 'cardbank', 'issuesthen', 'anymoremy', 'builderthis', 'accountit', 'ashame', 'cardhowever', 'wiggle', 'reassurance', 'representativeive', 'hadno', 'comrnormanellsworth', 'noting', 'donethe', 'faud', 'caresto', 'isp', 'stolenlies', 'best2chime', 'itfast', '1chime', 'sponsoring', 'peopleno', 'depositfast', 'timecard', '77092', 'bolin', 'comdata', 'earlyalerts', 'nothingwrong', '3601', 'meat', 'madeloans', 'feei', 'grabs', 'mornings', 'ceased', 'feethey', 'notthank', 'hadwhere', 'chimebankcom', 'iswas', 'canceledmind', 'sauce', 'furiously', 'ruxyleyin', 'awsom', 'tham', 'unapproved', 'anytine', 'recruit', 'awesomeawesomeawesome', 'vestment', 'infuriated', 'exisits', 'undefensible', 'companysite', 'cos', '330', 'releadr', 'advertisements', 'looove', 'thr', 'chaseterrible', 'farunlike', 'monster', 'workedchime', 'phrases', 'disabilty', 'restoring', 'disappointedwhile', 'optimistic', 'pleas', 'covery', 'woyld', 'w0', 'neaver', 'usung', 'oftentimes', 'waterloo', 'standalone', 'bullshi', 'screenshotted', 'greatlove', 'wouth', 'comissions', 'hindsight', 'yayahoo', 'reroute', 'iowai', 'bunps', 'iowa', 'toldme', 'anywaythings', 'trustpilotcom', 'therefirst', 'subscribe', 'retrieved', 'mediately', 'unprofessionalsm', '27555and', 'gambles', 'terriblei', 'chevron', 'chimethanks', 'curse', 'che', '30865', 'thefudge', 'relocated', 'guessits', 'purchaseschime', 'liment', 'haave', 'rdturned', 'identityas', 'summited', 'walmarts', 'nonething', 'unacceptablethis', 'titiaum', 'viewed', 'charget', 'vroom', 'insolvent', 'methanks', 'earlierim', 'accures', 'refarding', 'troubled', 'reslove', '2hours', 'ituntil', 'todaytheir', 'solreally', 'againtotally', 'wknt', 'moneynever', 'africans', 'reaponses', 'nah', 'cashi', 'teansfering', 'againwho', 'unbeknownst', '8yr', 'ceoso', 'calli', 'receivedi', 'rver', 'navi', 'gate', 'haul', 'earththey', 'amazinh', 'deposted', 'handier', '23666', 'woo', '8249', 'fatal', 'chimeno', 'couldntfind', '59am', 'uh', 'hampton', 'paymentnow', 'warningdo', 'chancesjean', 'canvin', 'ppland', 'servicehappiness', 'bankcard', 'helpme', 'farms', 'patronize', 'fecking', 'nb', 'art', 'chipping', 'upgrades', 'meal', 'authoritieshonest', 'whileto', 'chimeing', 'setback', 'chatbot', 'flower', 'wand', '1132021', 'situtation', '4212020', 'perry', 'optionit', 'frauding', '354', 'birthdate', '691', 'binanceus', 'substandard', 'definently', 'tooth', 'irony', '16000i', '685', 'fond', 'lostcant', 'somethingfor', 'banksgood', 'earlieri', 'earlierthis', 'reapplyed', 'costomer', 'postwouldnt', 'forbescom', 'customersupdate', 'dice', 'chimeee', 'bankingit', 'seveneleven', 'delined', 'anding', 'outofservice', 'atmdebit', 'woah', 'fallout', 'strikes', 'shortcoming', 'fardoing', 'disabeled', 'backtotally', 'walmartwent', 'kw', 'interruptions', 'dissatisfying', '10162019', 'toddler', 'billpaying', 'butafter', 'puy', 'reviee', 'avalible', 'penis', 'alfalfa', 'fieldthis', 'referd', 'abc', 'motar', 'taffi', 'buildings', 'yasss', 'loveeee', 'nigers', 'tamper', 'nowwell', 'shredding', 'xd', 'ensuring', 'pregnant', 'fines', '2hrs', 'utah', '290000', 'relized', 'handout', 'nother', 'daysissue', 'seeits', 'piling', 'riddled', 'databasesto', 'lostinconvenient', '1232020', '2x', 'frugal', 'kg', 'checkif', '11272020', 'cutoff', 'aggregated', 'updatesif', 'avery', 'originators', '283', 'ontario', 'reviewreview', 'exaggerated', 'stephanie', 'emaildo', 'wwo', 'chiles', 'ofupdate', '7999', '122016', 'chimechecking', 'resolvedand', 'ghost', 'greaaaaaat', 'egyptian', 'fuckkind', 'chime1', 'fundskind', 'friendly2', 'cairo', 'thenno', 'subtract', 'db', '24hrlive', 'pissd', 'chimebankc', 'kfi', 'janice', 'comedy', 'richkstofen', 'jones', '9688', 'flames', 'dumpsey', 'slapped', 'efficienti', 'woth', '25000', 'permanit', 'mario', '226', 'adv', 'takeo', 'ratei', 'whime', 'idr', '33054if', 'uhl', 'nikoley', 'sovled', 'heir', 'dust', 'chimereports', 'verizon', 'hastings', 'occurs', 'cardbut', 'leftover', 'cardmember', 'capitalone', 'amazingthankyou', 'stripes', '9556', 'hoursa', 'suggests', 'throwing', 'missedsearching', 'everbodys', 'itkeep', 'usimg', '630', 'sorrys', 'waved', 'advertisingbut', 'looovvveee', 'sentchime', 'kills', 'allergies', 'coughingwhat', 'speakthey', '11302020', '5h45', 'depositnot', '3400', 'hahah', 'shortage', 'muchwith', 'operaters', 'yuyuyyyyyyyyyes', 'detector', 'creative', 'declinedand', 'convenientno', 'pssed', 'outages', 'wasgreat', 'refrigerator', 'slum', 'isolated', 'it5star', 'slavery', 'durrall', 'friendlymarch', 'bearly', 'unlessuntil', '1026', '8442446363', 'bloody', '1320', 'strives', 'minds', 'contractor1099', 'selfemployed1099', '220', 'moneyshe', 'knowi', 'definietly', 'ingo', 'featureshe', 'malfunctioned', 'thirdhowever', 'meds', 'bombdigity', 'loveyou', 'anxious', 'caretaker', 'trueno', 'servicethey', 'point4', 'alledge', '1530', '4590', 'chas', 'sadcase', 'processhorribleplease', 'bsthey', 'wurewards', 'monthsits', 'regardsthe', 'melted', 'transactionwhich', 'qr', 'someof', 'touched', 'episodes', 'whilesimple', 'fallible', 'easey', 'dailyterrible', 'servive', 'witj', 'billes', 'overage', 'reassurances', 'emojis', '467321', 'flabbergasted', 'ammount', 'leas', '1124', 'flaggedadd', 'alsoyou', 'servicealso', 'ibwill', 'pizza', 'fearure', '7427', 'greaaatttt', 'ditch', 'badass', 'kicke', '1222020', 'timegreat', '1226pm', 'stitches', 'cardafter', 'heartbroken', 'accountif', 'ripp', 'orientated', 'upone', '2020once', 'payaccountability', 'showmy', 'photoi', 'eligibly', 'palmdale', 'goddamn', 'amonth', 'jags', 'depositedhad', 'methey', 'traumatic', 'disease', 'thirty', 'jdkdkndnnskwkwkekrkjtjf', 'emojiyour', 'friggin', 'connectivity', 'kimutu', 'servicegreat', 'operatives', 'intermittent', 'optionkeep', 'iean', 'compatible', 'fuds', 'afew', 'dotonly', 'blankedthese', 'appvery', 'comcast', 'tney', 'ion', '20099', 'onces', 'depositsbut', 'vey', 'functioned', '20dollar', 'recieving', 'smiles', 'airlines', 'greendotchime', 'delclined', 'aesthetically', '421', 'membersotherwise', 'wayi', 'checktobank', 'jurekfollowing', '4222020', '1024', 'vitro', 'servicetwo', 'loooooooooove', 'holmes', '783', 'notifyya', 'solicit', 'gova', 'biz', 'jesse', 'overdratft', 'tooken', 'anybof', 'roy', 'reiews', 'happiest', 'marvin', 'withwilliam', 'doen', 'appsnegatives', 'liyers', 'distancing', 'novembers', 'dj', 'appthanks', 'removal', 'outlandish', 'bestapp', 'golden', 'nickname', 'fry', 'trenkamp', 'immature', 'amp', 'jdkeoenfknn', 'walgreenscvs', 'dwayne', 'suspecting', 'werein', 'preposterous', 'youapt', '2139632', 'chkme', 'everythingand', 'mileupdate', 'tocontact', 'authorizeddevice', 'timealso', 'dipped', 'accountsthere', 'england', 'includingwithout', '32022', 'xoxo', 'jillions', 'crtseey', 'erithium', 'eitheri', 'congressional', 'isdoesnt', 'likemost', 'acount', '1500dollars', 'billionaireit', 'thayer', 'indelible', 'acount574hoo', 'andrepeated', 'numbing', 'verafied', 'bw85', 'themfireblocks', 'bail', 'decliningi', 'cryptocurrencyall', 'thow', 'muzak', 'endeavours', 'governing', 'ditect', 'varoscammers', 'argentine', 'daylin', 'rathank', 'cardcalled', 'pulit', 'anvaro', 'rehypothecated', 'differencecustomer', 'itworst', 'reeks', 'meb', 'herewith', 'impairoverburden', 'nowcan', 'ispluse', 'yoi', '5mo', 'togo', 'youamanda', 'discriminating', 'pasture', 'fined', 'tottaly', 'bloat', 'whatwith', 'freeso', 'thatget', 'jave', 'deposita', 'servicesy', '2022diy', 'cardits', 'feesand', 'owell', 'accolades', 'conpany', '1000real', 'partys', 'vb', 'varoing', 'batter', 'paymentwhy', 'ibest', 'builders', 'youpsi', 'faulted', 'iii', 'tg', 'mods', 'wolves', 'thierbut', 'moneeyy', 'lifei', 'moneyvaro', 'suicide', 'yourselfdo', 'collatoral', 'diffinately', 'platformmashinsky', 'hafta', 'estounding', 'backis', 'faultsone', 'repersrntive', 'poker', 'myhometown', 'surcure', 'accountcard', '081', 'visitsneed', 'popular', 'checkingdebitcredit', 'thay', 'sorrowfrozen', 'varojust', 'to50', 'awwesome', 'varothis', 'plugins', '17if', 'vans', 'fixespatches', 'communitycelsius', 'mmm', '103', 'varotovaro', 'stoled', 'checkload', 'denialwith', 'onthe', 'rejecteddespite', 'recommendvaro', 'recommendthanks', 'deductionsadditions', 'thirft', 'needsi', 'wapp', 'hashish', 'depositstry', 'servicefrom', 'besttop', 'dennise', 'ofupdates', 'thevaro', 'governed', 'collum', 'directs', 'varo3', 'strides', 'village', 'aslong', 'termsand', 'otherwise2', 'updatesvaro', 'varotastic', 'discontinue', 'autoresponse', 'allfunctionality', 'youfor', 'avoidance', 'reward11812467ad', 'tw', 'andyou', 'prioritize', 'usdtplease', 'byinstalling', 'getlilireferralr505sqj', 'trance', 'fetch', 'adverts', 'intothey', 'accountother', 'niceeee', 'niceand', 'andy', 'anywayplus', 'bastardtheyll', 'var', 'apartmen', 'threr', 'elevated', 'setforth', 'designs', 'notprime', 'ohnest', 'stressand', 'downloadinginstallation', 'evaporates', 'superhigh', 'painthey', 'femmebots', 'respondit', 'folderthey', 'junkmail', 'installation', 'imformationthey', 'trusteethe', '153i', 'depositsdirect', 'okmy', 'poorer', 'hardware', 'accountthat', 'eles', 'inportant', 'hourscelsius', 'accessibilityfunctions', 'acounti', 'hadwas', 'childsupport', 'pockets', 'coustomer', 'snake', 'resourced', 'plane', 'bullcyclethank', 'ythis', 'costume', 'unaccounted', 'chocolate', 'fledged', 'experiencefinally', 'exceptions', 'starscelsius', 'gose', 'biggeri', 'depositvaro', 'lodged', 'directdeposit', 'accountvery', 'scamif', 'does2', 'fastafter', 'aplicacin', 'ahmad', 'lends', 'aljamili', 'checkthe', 'cryptocurrenciesstable', 'backhe', 'companyvaro', 'prop', 'mayhem', 'apologizes', 'acknowledges', 'youmy', 'rationale', 'ensured', 'lightheartedly', 'boyfriends', 'ahmadaljamili777', 'rehmel', 'aproval', 'dependableetc', 'operandi', 'utilities', 'aprofessional', 'teamyour', 'atmsso', 'restrictionsthe', 'chghfdhhhdhchhf', 'hunderd', 'scarcity', 'modus', 'poorfair', 'ahc', 'fargodont', 'supportto', 'themsince', 'interactingalso', 'weeklyi', 'horns', 'havnt', 'sudenly', 'reurned', 'googlehe', 'unconscionable', 'holidaysi', 'solo', 'wrong2nd', 'colleges', 'unlinked', 'sentry', 'bruce', 'themist', 'apt', '07th', 'varoland', 'waitingi', '247that', 'beside', 'timestill', 'configured', 'spectacular', 'toplease', 'goodbeats', 'readbecause', 'nothingthanks', 'continuesregardslance', 'problemdue', 'aprgood', 'ineptness', 'windowi', 'british', 'zerofee', 'hoax', 'expat', 'hadive', 'gratefully', 'ard', 'sonething', 'mirror', 'supportless', 'friendscolleagues', 'moneynothing', 'anyoneat', 'swinging', 'account3rd', 'decentralised', 'borderlessi', 'ousted', 'itf', 'ratingrecommending', 'timein', 'clientsand', 'experiencemoney', 'cooperate', 'answersi', 'sanction', 'handlethe', 'minimumwait', 'reconnect', 'lights', 'guidlines', 'deposists', 'moneyhate', 'beareau', 'suggestedi', 'theftfraud', 'sickened', 'nissues', 'uncompensated', 'reservei', 'notwe', 'moneywe', 'usthen', 'depositwe', 'launching', 'misses', 'fastthe', 'fence', 'feehungry', 'problemsgreat', 'representativeshelpful', 'bankgreat', 'prints', 'rebrand', 'thatthanks', 'pampering', '935', 'stylish', 'weeksi', 'bankmissed', 'probation', 'dough', 'suffocating', '8400', 'argumentative', 'proofofcommunity', 'sucksi', 'moneyif', 'bankwe', 'recovering', 'solvedvery', 'barley', 'makeing', 'visionary', 'btc50', 'highyields', 'uselink', '90i', '8n', '7605jjhhgg', 'bck', 'guysoriginal', 'stomach', 'workplace', 'enticing', 'fruition', 'varoand', '8plus', 'dealwhat', 'fronting', 'withdrawls', 'onealllivesmatter', 'muzakthus', 'updatesthis', 'mondaytuesday', 'uniquely', '6090', 'eip2', 'servicecannot', 'ne', 'depositsfast', 'eip3', 'throgh', 'exhausted', '040', 'topped', 'eighther', 'sanity', 'yetlolif', '3090', 'worriedcustomer', 'props', 'lolthey', 'forgetfulness', 'lolrewards', 'boilerplate', 'onpoint', 'existsso', 'theirself', 'snappers', 'reacting', 'exceedingly', 'beyind', 'marginally', 'goooooooooooooooooooooooooooood', 'friendlier', 'arpanet', 'vear', 'birthplace', 'voyager', 'msn', 'beter', 'execellentgreat', 'cryptotocrypto', 'themthat', 'wagon', 'investmentsi', 'scamalertslive', 'ucla', '1979', 'tester', 'mindful', 'joblisa', 'pwto', '7706exp', 'autofill', '4749', 'hears', '6801', 'googlealexa', 'seach', '4240', '3472581384last', 'moralesphone', 'quicky', 'moises', 'caro', 'coders', 'uodatev1212020', 'crowd', 'unnerving', 'updatescant', 'sumthing', 'screenother', 'threatens', 'comming', 'excalated', 'gen', 'survice', 'webmaster', 'feeless', 'seo', 'pairs', 'bsbs', '80s', 'soooal', 'internetzuckerbergelon', 'pseudo', 'ignoredmeanwhile', 'bankspredstory', 'luckedit', 'wvaro', 'lolxd', 'spicoli', 'surreal', 'andysixx', 'sirmaam', 'alleviated', 'programmer', 'serviceand', 'lunchtime', 'convenientive', 'qualifys', 'oss', 'realizes', 'atmi', 'engr', 'topgun', 'dee', 'disrupting', 'mefrom', 'miramar', 'seniors', 'verbose', 'starswill', 'sk8punk', 'problemvery', 'herest', 'structured', 'peak', 'encountering', 'twitteri', '625please', 'dds', 'ky', 'varoanthony', 'bankblessing', 'yearago', 'quicklynow', 'translation', 'addressthe', 'obsessive', 'batterydied', 'fame', 'zavoralfoxsatisfied', 'sorrow', 'invasion', 'workarounds', 'advd', 'percenter', 'banksease', 'celius', 'appsand', 'armscustomer', 'accountawesomemobile', 'accountsmy', 'twoday', 'checkingg', 'laspast', 'supportthe', 'frustratingi', 'smoovecant', 'wi', 'ezequielchapa36', 'refreshextend', 'dread', 'racial', 'gmailcom', 'alleging', 'recorder', 'hexadecimal', 'slash', 'atall', 'itthe', 'feeif', 'sutton', 'bafoons', 'moneyband', 'getvmy', 'unicode', 'purposesdirect', 'sadyall', 'starim', 'autofillpasswords', 'onrecommend', 'dentures', 'aspecti', 'decommissioned', 'buytransfer', 'unethically', 'falloutboy', 'loll', 'lastpass', 'opportunistic', 'varoamazing', 'thaw', 'tripping', 'workingcorrect', 'activatr', 'geny', 'onther', 'sciptkiddies', 'silenceno', 'somekind', 'saunders', 'nuggets', 'inception', 'coronaviruscovid', 'selfinsurance', 'dca', 'transfershandy', 'mortarthis', 'hourminimum', 'serviceyou', 'againall', 'contactless', 'vertical', 'onetook', 'allopened', 'productservice', 'bank8', 'legend', 'verygood', 'tru', 'trustcelsius', 'elon', 'hastlefree', 'herereddit_comrcelsiusnetworkcommentsn5zneais_customer_support_on_celsius_any_better_now_orgx4b3oputm_sourceshareutm_mediumweb2xcontext3', 'muchnot', 'versatility', 'fourtunesofi', 'stakes', 'interestdebt', 'financail', 'processapproval', 'handshake', 'pricingrates', 'bilingual', 'shortening', 'donei', 'respondtakes', 'gasp', 'approvedlook', 'presses', 'processsofo', 'rec', 'companyno', 'supportbad', 'throughsuspended', 'account5', 'progresshold', 'hostagevery', 'experiencestay', 'awaysent', 'bsst', '2021still', 'toothank', 'imperfect', 'transpartent', 'largely', 'nonfinancial', 'altbanking', 'extraneous', 'funs', 'conify', 'bewe', 'lowerd', 'answerparts', 'cosignersnotifications', 'fourteen', '14000', 'fox', 'allocates', 'definately', 'inspiring', 'ambitious', 'guests', 'venues', 'comrefer527219', 'moreloan', 'shuffle', '348250', 'shark', 'dailystatus', 'collaterals', 'cult', 'refined', 'kansas', 'tooli', 'clientcompany', 'plaza', 'loned', 'truely', 'bitly', '3potftd', 'refinstudent', 'youvr', 'evendors', 'paymentsjust', 'repaidi', 'remote', 'admins', 'jointloans', 'joekim', 'cradle', 'joinloans', 'tapes', 'jargons', 'highrate', 'preloan', 'creadit', 'favorites', 'dignified', 'evident', 'throughthanks', 'dined', 'array', 'miscommunications', 'grave', 'bucket', 'np', 'waspaid', 'thoughtnot', 'arrises', 'servicessincerelya', 'servicequick', 'resolutions', 'swung', 'bordered', 'avant', 'easygiving', 'companiesit', '10000000', 'reorganize', 'progressre', 'coolthe', 'cleaner', 'cryptocoins', 'reputationservices', 'contests', 'expectationsi', 'resurface', 'attentiveness', 'shepherded', 'smith', 'considating', 'mego', 'clientcompanyexperience', 'showup', 'heels', 'accountthey', 'dispointing', 'informations', 'passportcopie', 'lithiua', 'payment5', 'payment4', 'there3', 'questionsi', 'luckupdate', 'in2', 'resourses', 'sofi1', 'sofitwo', 'type8', 'endthe', 'fist', 'coolest', 'meetups', 'loanwhy', 'whyask', 'abundance', 'diversity', 'fearing', 'humor', 'teacher', 'alltogether', 'again6', 'bank9', 'integrate', 'web30', '134points', 'cryptofiat', 'accountgood', 'misspelled', 'sone', 'geolocation', 'traveller', 'toill', 'buo', 'withbut', 'tether', 'cirque', '18773778276', 'date10', 'promts', 'graet', 'fiddly', 'wronged', 'themoney', 'forgetting', 'serviceslogging', 'biometrics', 'stepsare', 'continueas', 'understanding11', 'hangsno', 'perfect2nd', 'hypersecure', 'cants', 'graveyard', 'pessimistic', 'replythis', 'scoffed', 'oweit', 'tasted', 'owei', 'waseasy', 'thisother', '3000000', 'oppose', 'answeraddressing', 'mouse', 'easyeffective', 'conversationhad', 'wyre', 'consise', 'booze', 'advantageous', 'prrsonal', 'dinging', 'homepainful', 'appreciating', 'equated', 'ethi', 'beuoracracy', 'aprove', 'hurdle', 'replyso', 'closei', 'etherscan', 'bestas', 'markettheir', 'costtheir', 'upbeat', 'emailim', 'nonstressful', 'waitingchatbot', 'compnay', 'thanking', 'mitzy', '600s', 'pugh', 'rejena', 'worstits', 'hash', 'goodie', 'wrapped', 'unsubd', 'subsidized', 'familylike', 'forbes', 'scaling', 'rage', 'q2', 'render', 'midtwenties', 'needswhile', 'fundingseamless', 'scumi', 'trezor', 'concernsmy', 'bitfinex', 'testdrive', 'thrives', 'empower', 'oppressed', 'plebs', 'simpel', 'sufficethanks', 'jasmin', 'optionthis', 'height', 'afternooni', 'bonusescommissions', 'admired', 'huttongood', 'thereattn', 'secretary', 'whitch', 'approvalwhy', 'entertaining', 'traduction', 'concernafter', '310670', '01162021', 'followsbegingreetings', '0385', 'crediblecom', 'agobeginive', 'nextcrypto', 'backlog', 'wordbe', 'substantiate', 'incrementally', 'prequalifcation', 'ratiomake', 'wantyour', 'everyoneyou', '4i', '253', 'industrywhere', 'whyblockfi', '8163', 'trustless', '7093', 'loanfinance', 'parfrom', 'heldbasically', 'transparencyexplanations', 'appeasy', 'helpfuldocumentation', 'applycustomer', 'commoners', 'besteasy', 'leverage', 'competing', 'networkthe', 'incomethey', 'yearsthey', 'clumsy', 'loansthough', 'amwas', 'obtaing', '20thim', '1099div', 'moneymy', 'subjects', 'griggs', 'accocunt', 'posture', 'putted', 'cypto', 'incomeonly', 'nononsense', 'improvment', 'ffk', 'wandering', 'viola', 'ware', 'interfaces', 'geico', 'aproved', 'easyquickly', 'snafus', 'lenderswould', 'kvaska', 'passiveincome', '75k', 'disappointedi', 'breed', 'regaining', 'sofiwealth', 'premier', 'blooded', 'passportwould', 'memberwould', 'yourespectfullyantonio', 'lansendendthus', 'suspiciousrespectfullyantonio', 'lans', 'transparencyhelp', 'emotionally', 'budding', 'appliedi', 'insurmountable', 'congratulated', 'consultation', 'waystarting', 'merits', 'instituting', 'autos', 'internallyeither', 'automobile', 'mangers', 'blemish', '144k', 'moreat', 'yourselfother', 'modeling', 'stari', 'esignature', 'financecompany', 'tron', 'completedi', 'encoutered', 'breathing', 'ke', 'unplanned', 'difficultly', 'logouts', 'mistakestill', 'uncluttered', '090', 'lace', 'fastl', 'pats', '141', 'risen', 'bachelors', 'loansthank', 'timesi', 'createdtheir', 'wowso', 'respondingit', 'numberoverall', 'inclusiveness', 'lowfee', 'halffrom', '2m', 'manages', 'views', 'shari', 'pursues', 'freshman', 'fiances', 'misconceptions', 'throughdefinitely', 'swears', 'jumps', 'sofine', 'applaud', 'coincidentally', 'fluctuations', 'definitive', 'efficacy', 'altering', 'welcom', 'dov', 'cripto', 'mortgagehighly', 'ward', 'linda', 'bean', 'plusthank', 'daysno', 'outstandingthe', 'quicklya', 'butbif', 'thatsofikeep', 'serviceits', '4872', 'processgood', 'companygreat', 'privaterelay', 'judgment', 'mover', 'index', 'absolutly', 'personalities', 'autowithdrawal', 'curteous', 'tshirti', 'preliminarily', 'reget', 'returningnot', 'customersflawless', 'mlo', 'topnotched', 'disagree', '790', 'uninformativerequest', 'smoothcustomer', 'comptetitive', 'acccomadating', 'farill', 'rentsmortgages', 'ratesthanks', 'usurious', 'processwith', 'mbas', 'transmitter', 'recursively', 'okedthey', 'eb', 'transmits', 'locationif', 'okwe', 'pointwe', 'offeringbut', 'transmitting', 'riskbut', 'shoe', 'networth', 'boring', 'customersuntil', 'authorised', 'legalese', 'buried', 'moneyeasy', 'approvalquick', 'ratesfast', 'appliedfor', 'footings', 'classing', 'simplex', 'unnecessaryverifying', 'thiscustomers', 'fintechs', 'yearend', 'flooding', '112921', 'aspectjust', 'responsibilitydo', 'clunkiest', 'denomination', 'updatedchanged', 'answerotherwise', 'fig', 'traci', 'misrepresentation', 'plausible', 'retrospect', 'controling', '113021', 'databased', 'cont', 'usepretty', 'alston', 'partners3', 'denise', 'sight4', 'imess', 'liget', 'carefree', 'cocky', 'spreadsheets', 'sync', 'disappointedsame', 'mill', 'easytoread', 'opinionthe', 'luster', 'snatched', 'ambiguous', 'hosts', 'redditcomthe', 'fundamentals', 'transferringthe', 'safeway', 'influx', 'changeyou', 'sitei', 'reviewat', 'appalso', 'cardwould', '190', '12112021', 'transparently', 'banknetwork', '304862', '121421', '35323', 'recreations', '269539', 'moip', 'personand', 'discontent', 'varothe', 'ret', 'theoretically', '12312020', 'testi', 'balanceis', 'ideado', 'ideahow', 'smhi', 'celno', 'idealike', 'bmodeli', 'goodbyeyou', 'cryptoplease', 'wrongvaro', 'inlaw', '4821', 'sercurity', 'therapy', 'hdvy', 'bandaged', 'detailsalso', 'surgery', '1031', '107', 'transcation', '91', '529', 'certainty', 'yieldfarming', 'sloppy', 'gemi', 'snatch', 'streetbrick', 'bada', 'statementsthe', 'youmost', 'paymentyou', 'itpayments', 'onoff', 'registeringattractive', 'coinstokens', 'accri', 'glimpse', 'boovaroboo', 'newi', 'wwwvaromoney', 'inattentive', 'tennessee', 'interfering', 'refferal', 'shed', 'r01', '20220321', 'kevina', 'thishey', '51021', 'californian', 'comdocumentsokay', 'haply', 'roberts', '24hs', 'bests', 'platformfyi', 'bern', 'staple', 'wrk', 'wld', 'knw', 'ayyyyyyyyyyyyyyyyyyyyyyy', 'powered', 'highapy', 'woohoo', '2133185212', 'poured', 'questionthanks', 'resubmitted', 'problemi', 'prominent', 'guarded', 'inaccuratei', 'bestbbbbbbnnnnnn', 'bypassed', 'prd', 'networkearnrewardsonyourcrypto', 'thembad', 'namebrand', 'storeswhich', '449570', 'srill', 'weeklong', '52weeks', 'knownothings', 'deactivations', 'serviceps', 'nownever', '80477thats', 'excusetheir', 'addressi', 'plethora', 'suppprt', '3167', '6333', 'wolf', 'helpthis', 'inputting', 'nameif', 'subsidiary', 'dontits', 'effiency', 'teamslastly', 'fullest', 'listens', 'monthand', 'collapses', 'seal', 'viral', 'poilet', 'staffas', 'divide', 'timelike', 'bret', 'ifs', 'legibilityvery', 'greyed', 'faintipad', 'ported', 'blogs', '403742', 'elsedefinitely', 'usedeasy', 'gteat', 'marie', 'jocelyn', 'transitionso', 'coke', 'maint', 'freeof', 'heve', 'commodore', 'bsif', 'alas', 'friendy', 'summons', 'varro', 'ussually', 'handbag', '3lbs', 'acccount', 'legibility', 'mortor', '10interest', 'issuesvaro', 'conviniant', 'deters', 'cashgot', 'communicationi', 'drawen', 'cheque', 'ida', '3000000they', 'hadthe', 'walletthe', 'helpsweepstakesseem', 'fantasticadvances', 'modest', 'portfoliowill', 'thatplease', 'tradersthank', 'insinuated', 'laundry', 'tossed', 'punitive', 'adversely', 'blurted', 'hungup', 'inforcement', 'neglectedmy', 'optoin', 'thepurplepeople', 'teamvaropurpleproducts', 'purpleproducts', 'arounf', 'gentlemen', 'thirst', '406235', 'quench', 'deserts', 'lockingbut', 'fluff', 'aml', 'pomp', 'bettersafer', 'awfulnonexistent', 'swiftwire', 'chexsystems', 'throne', 'liarthanks', '47', 'scami', 'packages', 'rulesthats', 'ukraines', 'donating', 'altcoin', 'trusttwo', 'hardway', 'excluding', 'unlockedin', 'queen', 'invests', 'communityweekly', 'settling', 'worseill', 'anwsers', 'senice', '255', 'decined', 'init', 'stretched', 'issuegood', 'companythank', 'morewith', 'caseys', 'havewith', 'bankingthey', 'cashive', 'lucki', 'rejectionsnow', 'robo', 'intercedeive', 'bsim', 'vibe', 'twilight', 'butttttttt', 'unmonitored', 'yeahno', 'thennnn', 'expel', '7064412866', 'trending', 'uskeep', '507', 'hereif', 'accountsi', 'minimumsthis', 'technique', 'actionsthey', '855', 'replay', 'was2', '355753im', 'responsebasically', 'attemp', 'platformi', 'smoothy', '10am', 'methe', 'deficefi', '2022with', 'buchanan', 'oklahoma', 'litlle', 'easytounderstand', 'tempting', 'equalling', 'walling', '210000', '26000', 'plante', 'preset', '17064412866', 'placeits', 'arouse', 'players', 'sizeable', 'beginnings', 'scrappy', 'frendly', 'btte', 'formula', 'classified', 'gals', 'blindfolded', 'ratingi', 'imposter', 'appallingeg', 'itif', 'windowshaving', 'postmaster', 'platformwould', 'lbc', 'promiserun', 'goodhowever', 'monitorthe', 'btcgoing', 'airplane', 'pepsi', 'motel', 'appeals', 'misunderstood', '546', 'slows', 'inexplicable', 'examining', 'krypto', 'orgit', 'argumentive', '29th2022', 'allthis', 'responsesocial', 'phoneemails', '11thonline', 'teh', 'rally', 'obama', 'gtreat', 'trulytrust', 'bankalmost', 'jobjust', 'sixtythree', 'colored', 'preeeeety', 'seconds351', 'onesentence', 'secondstoring', 'minutesthere', 'dealbefore', 'stargratefully', 'recognition', 'guysand', 'changeable', '23minother', 'accomplishing', 'jessica', 'veliz', 'incidentals', 'inn', 'responsivenesswould', 'misinfo', 'redeems', 'hoursif', '3050', 'manual', 'heavily', 'dreamed', 'cite', 'ofwe', 'charitable', 'askawful', 'un_block', 'lazily', 'minnimum', 'violates', 'ver', 'unethicalillegal', 'closurehow', 'objective', 'samethe', 'yoursjust', 'scansyou', 'retina', 'cryptosthe', 'nothingbut', '200i', 'brokeive', 'vara', 'lunacy', 'angrybetrayed', 'accountim', 'feb12', 'feb25', 'repi', 'daya', 'anyoneupdate', 'arrivedmy', 'demographic', '3yearsi', 'instantlymy', 'gibberish', 'siphoned', 'childish', 'varovaro', 'axos', 'freak', 'stressing', 'solvable', 'optionrevisedthey', '454', 'mechanics', 'whitelists', 'optionsnot', 'numbersthis', 'imhupighly', 'ol', 'larceny', 'cid', 'metropcs', 'tranaction', 'issuhe', 'bitxx', 'hockiea', '10000month', '7500wk', '406', '5000day', 'stear', 'connectedthank', 'hijacking', 'malarkey', 'depot', 'elements', 'herefake', 'scammersi', 'uglyto', 'ssigod', '68775', '135050', 'ratesthe', 'thisupdate', 'forfeiting', 'itsomewhere', 'inone', 'copied', '689', '649', 'ranges', 'duns', 'understaffed', 'knowledgechallenged', 'recentlylightning', 'alliant', 'weeksif', 'putin', 'preferences', 'celsiusthis', 'bombard', 'incomprehensible', 'nonurgent', 'upthe', 'websiteapp', 'question2', 'lasts', 'paltry', 'deflationary3', 'whywhen', 'foreveri', 'datathey', 'floating', 'incapable', 'withboth', 'dissappears3045', 'ccscorrections', 'postings', 'negotiating', 'lyingthese', 'firefox', 'pompano', 'gooddo', 'bankcarmen', 'swallowed', 'assistive', 'consultent', 'lined', 'beeterrible', 'smarts', 'kristin', 'doubling', 'upstay', 'bleep', 'informationthis', 'critically', 'flashlight', 'butts', 'inexcusablepnc', 'barraged', 'behave', 'outraged', 'likefind', 'alonedont', 'whyit', 'diffently', 'yous', 'monthfor', '200but', 'peanutslike', 'timejust', 'enquiries', 'withnothing', 'phoneyou', 'kn', 'atmsto', 'wkeverything', 'wklyl', 'herring', 'minei', 'businessat', 'businessif', 'straighti', 'zeroand', 'shotty', 'pncdo', 'appointmentall', 'relly', 'itallowing', 'yoursleave', 'volatility', 'practiceclosed', 'postpandemic', 'cannibalized', 'discovering', 'elsefind', 'allbonatech', 'abounds', 'voicing', 'middendorf', 'lori', 'findthey', 'satisfactioni', 'technicial', 'resolutionthis', 'tittle', 'repocess', '37007', '1212016', '041522', 'bankbbva', 'dmvrecently', '03142022', '380as', '02112022', '40695', 'amountlast', 'celsiuspayday', 'inordinate', '1996', 'ummm', 'fulfil', 'fantastically', 'sent5', 'quiting', 'attorneythey', 'hospitals', 'enemymy', 'lockin', 'practicespnc', 'misrepresent', 'pointsbbva', 'herereview', 'postedavailable', '2358', '2002', 'werehad', 'vulturesi', 'everhope', 'bled', 'pncworst', 'snowstorm', 'backorderfast', 'approximate', 'backorder', 'goodwilled', 'haidari', '9510', 'stonewall', 'industries', 'hijacked', 'endlessly', 'pronto', 'doofus', 'backandforths', 'durable', 'wears', 'traitor', 'congressmen', 'insurrectionisttraitor', 'traitors', 'pledging', 'terrorists', 'congresspeople', 'insurrectionists', 'inheritance', 'protip', 'overflowing', '60days', '6years', 'detestable', 'losers', 'hid', 'bankconsumer', 'ticketarrogance', '13000', 'farrah', 'thatgreat', 'appnow', 'tragedies', 'unannounced', 'reckless', 'contradicted', 'interference', 'locker', 'uninstalling', 'merchyants', '4200', 'whattheir', 'debbie', 'sortedi', 'mistakeit', 'topic', 'unattractive', 'uninterested', 'twin', 'assessed', 'obstruction', 'secondsminutes', 'weeksmonths', 'piggy', 'switcharoo', 'bbvatheir', 'threading', 'mediocrity', '1125', 'phoneemail', 'questionsissues', 'unmotivated', '78251', '021022', '020922', 'helpthe', 'employess', 'alamo', 'tatiana', '9400', 'suddennovember', 'xxxxx', 'kim', 'spammed', 'everpnc', 'ecpect', 'compas', 'giggling', 'bep20', 'ingrad', '1009', '322022', 'yearsthis', 'chains', 'nothing4', 'copyandpaste', 'considers', 'zeroesecurity', 'knowpoint', 'bamk', 'tear', 'adres', 'begger', 'shoud', 'jobsite', 'belongings', 'packed', 'battery', 'conserve', 'adamant', 'pleading', 'longings', 'subside', 'confiscated', 'cincinnati', '530pm', 'possessions', 'impounded', 'raining', 'lodgings', 'casting', 'pardon', 'louder', 'donemaybe', 'notin', 'resolveddraw', 'poorive', 'reverting', 'facetoface', 'drinking', 'cashers', 'monthon', 'cashapparently', 'orderswhich', 'meleaving', 'everfroze', 'gunshot', 'twig', 'thickness', 'hunter', 'misseddoes', 'life5hats', 'drastic', 'starvation', 'youmondaydaylight', 'vehiclehungry', 'cope', 'brokehomelss', 'naps', 'haveits', 'bash', 'hopping', 'dumpster', 'crytpos', 'river', '147125', 'jefferson', 'kelsie', 'dolly', 'truckafter', '960', '950', 'makibg', 'septic', 'palmetto', 'failures', 'defeat', 'flip', 'faudulent', 'youach', 'billi', 'didint', '34497', 'pawn', 'beginers', 'securly', 'disturbing', 'sensitivity', 'cultural', 'outlined', 'maloney', 'amountsall', 'surrogate', 'defilippo', 'warehouse', '958', 'angelas', '508', 'outbound', 'carolina', 'enacted', 'accountfeatures', 'embrassmentbecause', 'todayi', 'materialby', 'compensated', 'restocking', 'storenot', 'admits', 'labored', 'compensates', 'unfroze', 'accountpnc', 'daysthanks', 'discontinuing', 'bsthe', 'antagonistic', 'attitudeyeah', 'imposedno', 'ithe', 'bitcoinavoid', 'transactioni', 'reception', 'managerdirectors', 'channels', 'leasing', 'assign', 'cops', 'updeposit', 'simplebbva', '4913', 'accountwell', 'coasti', 'overzealous', 'fraught', 'cary', 'waverly', 'ct', 'advent', 'quits', '06', '2step', 'posters', 'flaming', 'clearverify', 'supposedthe', 'xall', 'gor', 'unsealed', 'mamger', '483', '1143', 'reportin', 'feb2022', 'frustrates', 'inconsistencies', 'cancelledthe', 'bankdr', 'surmise', 'messagescalls', 'woodway', 'institutionlike', 'incomeemails', 'themhighest', 'criminally', 'napkin', 'onlineon', 'calleven', 'anyonewho', 'reasonsupport', 'accountmoney', '309avoid', 'customertheir', 'mathand', 'isdoesbasically', 'everythingnot', 'depths', 'coinsbiggest', 'sink', 'worstyet', '5ams', '06212022sent', '1and', 'absurdity', 'akin', '866', 'bankmichelle', '2022455pmpnc', 'vent', 'acros', '_legalassetc0nsult__i', 'mindthanks', 'apprentice', 'nonamerican', 'entertain', 'defeated', 'appetite', 'amaazed', 'arrogance', 'lapsed', 'eithercomplete', 'debbi', 'downthey', 'envelope', 'unmarked', 'wonderfuli', 'changesupdates', 'steve', 'screwup', 'robotmy', 'warningmy', '622', 'warningthis', 'issuehowever', 'niki', 'stall', 'roadblock', 'restarts', 'poop', 'vaginal', 'restrooms', 'withpnc', 'emaila', 'problemsi', 'troubleshoot', 'hates', '2657i', 'unenthusiastic', 'correctlynaturally', 'questionsall', 'yank', 'apponline', 'everybodyin', 'letterspnc', 'remarked', 'foreclosure', 'noteloan', 'reinstatement', 'totaled', '1228', 'verythe', 'incarnation', 'lineage', 'mentally', 'logon', 'messes', 'gradually', 'sadi', 'thisim', 'rudei', 'bordering', 'fluke', 'mepnc', '1290', 'embrace', 'mcmillian', 'britney', 'highlight', 'bracnh', 'changeupdate', 'pines', 'southern', 'kin', 'alike', 'dubious', 'rename', 'indicative', '1970s', 'wpnb', 'untilunless', 'succession', 'blunder', 'prevents', 'overriding', 'disregards', '40tyi', 'educations', 'finei', 'clientsi', 'yearspnc', 'forex', 'relationshiplol', 'offwow', 'experiencethey', 'businei', 'experiencesafter', 'stockholders', 'locals', 'touching', 'marginal', 'oppressive', 'megabank', 'corporatefriendly', 'customerfriendly', 'integra', 'equibank', 'greedmongars', 'monthavoid', 'peopleit', 'devicesi', 'bluffton', 'buell', 'trying1999', 'bookkeeping', '603pm', '20min', '1hour', 'ikeesha', 'pres', 'chrman', 'seriouslywill', 'adp', 'compassbbva', 'mintues', 'pna', 'disappointwant', 'btceth', 'miserablecant', 'hind', 'fourmonth', 'pnconce', 'eperience', 'curstomer', 'cusomer', 'underpaid', '4679997', 'incompetenti', 'costomers', 'companyhuge', 'pricegoughes', 'accont', 'helpreceived', 'irresponsibility', 'reappears', 'winds', 'overdraftsfees', 'dangerously', 'confuse', 'bigtime', 'itleo', 'scallywags', 'moneysignature', 'stipend', 'granite', 'hickory', 'beating', 'surety', 'guardian', 'appointed', 'greengate', 'greensburg', '537pm', 'yelled', 'alexandria', 'overdoing', 'stationed', '10282021', 'mocking', '2380', '350000', 'dlls', '33461', 'springs', '3320', 'nationality', 'depart', 'phised', 'cookiecutter', 'conditioning', 'bein', 'escorted', 'mask', 'markers', 'escorts', 'demeaning', 'behemoths', 'competence', 'uncles', 'hamstrung', 'firstly', 'formonly', 'formthey', 'minutesi', '1500in', '6535', 'on2nd', '33467', 'repothers', 'defensive', 'interupted', 'interrupt', 'convo', 'ladys', 'enquire', 'virginia', 'chesapeake', 'preserve', 'cells', 'chump', 'degrees', 'temper', 'beginnerfriendly', 'cardless', 'nonchalant', 'herejust', 'amigos', 'mexicans', 'hispanics', 'targeting', 'nevertheless', 'vulgar', 'fifi', 'hold3rd', 'feautures', 'italy', 'catching', '12314', '12303', 'account2', 'conversation1', '1200my', 'whycasey', 'pnci', 'introduces', 'meansi', 'charges100600i', 'of22621', '123120', 'tattoos', 'chicago100500i', '123020', 'storyon', 'wasis', '22621', 'relocating', 'exec', 'tolerating', '3hour', 'leonard', 'fort', 'missouri', 'exact5', 'depositcasey', 'sakeuse', 'assists', 'modicum', 'rightthe', '3d', 'ramps', 'dystrophy', 'muscular', 'servicespnc', 'degrading', 'middleofnowhere', 'refundable', 'midatlantic', 'customer02122021', 'reginahappy', 'looser', 'citizensdont', 'todaydo', 'janfeb', 'ge', 'hardshipsomeone', 'granddaughters', 'disputeand', 'soneone', 'corperate', 'balence', 'transparancy', 'authenticity', 'dealer', 'netowrkhodl', 'husbandmy', '90th', 'longknown', 'fyidont', 'overheard', 'commiserating', 'handset', 'walkin', 'aprili', 'scrolled', 'mooorrree', 'alliance', 'unholy', '3500', 'continuestoday', 'area12821', 'incredulously', 'updateafter', 'emphasise', 'starsedited', '1030am', 'themprior', 'scraped', '1billion', 'correctlyi', 'righti', 'hq', 'cognitive', 'sharpieprincipal', 'entrance', 'execs', 'poorpnc', 'upthought', 'mightily', 'freemarkisha', 'backya', 'equipment', 'theftanyway', 'relatablemanagement', 'ghetto', 'egocentric', 'cora', 'wigs', 'joked', 'liesmanagers', 'pr', 'spun', 'restore', 'itas', 'bankpnc', 'elsewherethey', 'dasher', 'inches', 'virtues', 'extolling', 'onlyi', 'wrapping', 'qbs', 'dat', 'everdo', 'usersit', 'awayworst', 'linesall', 'nut', 'squirrels', 'adjective', 'mismanagement', 'awfulterrible', 'worstbank', 'placenice', 'malice', 'crumble', 'chew', 'merging', 'hierarchy', 'highs', 'lows', 'loooong', 'customerswhen', 'outlandishly', 'thenfew', 'boasted', 'circlesfirst', 'pncthey', 'seensigned', 'wipe', 'optionsso', 'sheesh', 'paymentsnow', 'youpay', 'backgroubd', 'sneak', 'hypocrites', 'upshiz', 'andover', 'shiz', 'shtty', 'beennegative', 'righr', 'nothin', 'tk', '174', 'sayin', 'gof', 'minutespnc', 'citymy', 'needsthis', 'accountdont', 'tracked', 'subpoenaed', 'facet', 'untimely', 'custmor', 'outcomes', 'linkages', 'powerless', 'jokelost', '10pmreally', '1022', 'misappropriating', 'dealership', 'sheer', 'elseunacceptableboth', '846', 'pmthats', 'moths', 'laterestoy', 'aprilseptember', 'decepcionado', 'etcetcfinally', 'answeri', 'downi', 'aos', 'como', 'reallyall', 'trusti', 'suspenden', 'cuenta', 'pido', 'explicaciones', 'involuntary', 'desastretengo', 'bouncing', 'clientswho', 'anothermuch', 'debaclei', 'nicked', 'antique', 'northeast', 'eternal', '888', '6200', 'amounta', 'excusethe', 'peon', 'pl6340', 'nightmares', 'lates', '102221pnc', 'abusing', 'atencion', 'eith', 'suntrusti', 'muy', 'mala', 'politebbva', 'embellishingact', 'horribble', 'alloow', 'goverment', 'wordss', 'dontdo', 'abierto', 'het', 'connectedi', '002', 'transferredseriously', 'answerthis', 'references', 'accents', 'forgo', 'monfri', 'maka', 'twit', 'disorganized', 'disarray', 'champion', 'levelmortgage', 'betting', 'meim', 'monthevery', 'cues', 'racket', 'stricter', 'spanglish', 'detailing', 'complexi', 'mills', 'unfreezing', 'rankings', 'creeps', 'queues', 'rahim', 'badclick', 'responden', 'desbloquearon', 'aquisition', 'cuent', 'meses', 'sucksdisaster', 'guarantycompassbbvapnc', 'withrun', 'vain', '15mo', 'redial', 'tragedy', 'trucking', 'alexmachinski', '10800', '7800', 'spaces', 'phonetoo', 'minutesnever', 'bankingon', 'nightmareno', 'customerstransition', 'p1', 'citizenadditionally', 'lisa', 'facilities', 'purchasefirst', 'uet', 'varothey', 'bulid', 'ladt', 'stupidvisor', 'unlocks', 'spoof', 'curves', 'truthfully', 'habe', 'shill', 'dohappily', 'varietal', 'unknow', 'sufficiently', 'delish', 'cardl', 'sais', 'breeches', 'rateshard', 'awesomeyou', 'etchappy', 'injoy', 'callthank', 'upclearly', 'hodden', 'gr3at', 'blissful', 'servicebreath', 'babybaps', 'luciano', 'itbasically', 'coachella', 'stuffand', 'idiiots', 'bbhyyt', 'vg', 'gv', 'vcxgvcdsgghfcf', 'vcxg', 'rationing', 'argued', 'bold', 'resets', 'apycons', 'thempros', 'mustwanted', 'monody', 'accountdefinitely', 'sacings', 'wouever', 'cones', 'traditionals', 'whistles', 'untraditional', 'compremised', 'earningsits', 'pertain', 'politicians', 'appoint', 'toonothing', 'mide', 'scriptedcuz', 'oposed', 'relate', 'automted', 'adam', 'eva', 'daysnights', 'availablity', 'famtastic', 'criminel', 'savingsi', 'overpayed', 'titcomb', 'aavibgs', 'alao', 'relevent', 'esp', 'autosave', 'ethier', 'consolation', 'hicks', 'teri', 'slimeydirty', 'traditionaly', 'priceless', 'purchaseswere', 'relationsthanks', 'instruction', 'mibile', 'infinite', 'minimums', 'perect', 'dissimilar', 'strrs', 'earthbased', 'aliens', '595', 'lunatics', 'places00', 'elusive', 'solves', 'bis', 'anotherand', 'crested', 'odds', 'stalling', 'gee', 'informationpasswords', 'mates', 'dowithout', 'balancesi', 'doublecheck', 'thingaccount', 'newcomer', 'missourithey', 'hillbilly', 'redneck', 'pizzas', 'kep', 'july322', 'wad', 'shocker', '23k', 'enforced', '164', '5day', 'x3', 'meetup', 'gauged', 'ldn', 'ingreat', 'pho', 'toy', 'achievable', 'perpetrators', 'jokeive', 'contravention', 'versatile', 'humphrey', '015', 'deliverere', 'meagre', 'recommandation', 'illiterate', 'generosity', 'ornext', 'atmwhy', 'greedon', 'reactivation', 'anywaythey', '1226', 'deliveryill', '12120', 'toas', 'reasonso', 'crock', 'feeding', 'ittip', 'hospitalizations', 'sonly', 'shamed', 'comapany', 'aa', 'individualized', 'cardpersonal', 'depositno', 'accountearly', 'recommendations', 'themif', 'bankng', 'negating', 'frozenclosed', 'brainchild', 'charachterspps', 'cashridiculously', 'whatsoeverjust', 'accountagain', 'explanationstating', 'reasonedit', 'horriblehere', 'monthscustomer', 'badthey', 'unusualmy', 'reviewlook', '496828', 'fundsrefunds', 'poisoning', 'cooked', 'covid1', 'decentralized', 'depended', 'concealed', 'wast', 'onetheres', 'csreps', 'waswere', 'helpgood', 'gonethen', 'goodnesstruth', 'elistists', 'wealthfront', 'oneps', 'needto', 'bitcoinit', 'teambeautiful', 'jess', 'pcimagine', 'd4aft', 'surrealthere', 'funnyminded', 'normalcy', 'hoursso', 'apprehensive', 'occasional', 'withdrawbut', 'withdrawlike', 'purchasestransactions', 'cantthey', 'sellor', 'address1star', 'money2', 'varo1', 'nolow', 'secrets', 'to3', 'sometines', 'carnal', 'sentiment', 'teresa', 'johnny', 'amount1', 'usean', 'platformdefinitely', 'inventing', 'forfeit', 'timeim', 'haveent', 'monthsthen', 'representativesthe', 'apppleasant', 'locationseasy', 'lineseasy', 'spendingno', 'againi', 'younotifications', 'appsservices', 'moneysend', 'feeshelp', 'digitalsurge', 'swyftx', 'med', 'wendell', 'besthighly', 'familythank', 'improvement1', 'unexceptable', 'hppe', 'hound', 'tallies', 'csv', 'pinpassword', 'atmz', 'powervaro', 'rewrote', 'whilenow', 'mezmerizeheres', 'tearjay', 'wellsearch', 'mariah', 'generational', 'dupri', 'jermain', 'mezmerize', 'empire', 'appcelsiusnetwork', 'zendesk', 'ticketafter', 'groundbreaking', '12oclock', 'moneybob', 'misuse', 'themterrible', 'upthat', 'varobut', 'fixit', 'backtracking', 'fumbling', 'cardonline', 'revolutionize', 'hasslepayments', 'commute', 'varoas', 'indicator', 'functionalities', 'longi', 'machineif', 'listenif', 'daynever', 'corners', 'bh', 'gg', 'bvccnvcnb', 'licking', '183', 'somethmes', 'covit', 'woodbury', 'themwe', 'extends', 'invariably', 'sentanytime', 'tales', 'contradicting', 'moneythe', 'motivate', 'partnering', 'serbian', 'celsius4', 'staked', 'dynamically', 'spurlock', 'anticipate', 'amy', 'fron', 'pluss', 'motive', 'bailout', 'week2', 'accountand', 'pua', 'fet', 'melol', 'binance', 'thang', 'diggin', '3040', 'evan', 'place3', 'examine', 'diego', 'tiffany', 'satafide', 'musthave', 'sket', 'shouldi', 'ting', 'hidding', 'perfecto', 'grrrrrrrrrrreeeeeaaaaatttttt', 'cancelledvaro', 'inhow', 'itfirst', 'exasperating', 'beet', 'dayscant', 'bothers', 'chsb', 'foo', 'pasa', 'metamask', 'ftx', 'lists', 'ow', 'condition', 'troubling', 'mobiletheir', 'veiw', '1851562fd7', '13401460a5interesting', 'impressedmobile', 'sensibly', 'rewardsthank', 'greeaaaaat', 'var0', 'kun', 'accountrouting', 'accountdebit', 'paystud', 'balancesavings', 'transfersno', 'placesez', 'messagefacebook', 'starsfree', 'convenienteasy', 'phoenix', 'petcentage', 'possiblei', 'yhanks', 'aes9me', 'responsewe', 'receivedepositadd', 'airgreat', 'issuesanytime', 'malfunctions', 'everytimealso', 'gaurenteeing', 'accountdo', 'overi', 'issueas', 'appmy', 'encripted', 'peeps', 'bottompromo', 'byvfarvrge', 'carp', 'hospitality', 'simplethere', 'damnnow', 'neighbors', 'thei', 'eu', 'unauthorize', 'mandates', 'territories', 'xsrdnstolen', 'aproblem', 'statementsaccessible', 'feessimplified', 'paydayno', 'texture', 'allyou', 'benefitted', 'gad', 'benefical', 'kr', 'baro', 'punktum', 'har', 'brugt', 'crazyvaro', 'tact', 'ethicalcorp', 'experie', 'varonot', 'halfhour', 'daysconceptidea', 'starter', 'desposit', 'jenkins', 'layed', 'appearance', 'insay', 'jumbo', 'throughi', 'varocard', 'overdaft', 'globally', 'resourcesi', 'experienceand', 'coloring', 'filipino', 'compassionate', 'jackie', 'evergrade', 'garbageim', 'lacked', 'reimbursementcredit', 'falsegood', '10to15', 'nofees', 'daysweeks', 'bard', 'fung', 'maggots', 'cking', 'christi', 'corpus', 'fng', 'complicit', 'duress', 'peach', 'scamit', 'moat', 'ittaking', 'infested', 'impossiblefor', 'answeraccount', 'alligator', 'hardheaded', 'addressesi', 'frustratedall', 'daysthe', 'sucks1', 'lobbying', 'time2', 'tiff', 'pathetic3', 'queer', 'banch', 'securist', 'asles', 'fundstheyre', 'machinskyfor', '6000000', 'jush', 'childthanks', 'images', 'passwordnot', 'deptboth', 'heartbreak', 'prostate', 'duplicating', 'yuk', 'iterations', 'accountrun', 'moneyhorrible', 'throught', 'institutes', 'bbca', 'answersupdate', 'suuuuuuuuuuck', 'schemes', 'snuck', 'tenfold', 'millionaire', 'fpnc', 'configuration', 'playstations', 'allen', 'erroneously', 'curnow', 'humbled', 'egotistical', 'competitioni', 'buttheads', '10s', 'specialty', 'backtheft', 'agoseveral', 'affair', 'vandalia', 'westendorf', 'emilee', 'homewrecker', '53', 'morningmonday', 'earnin', '004', 'raises', 'wrre', 'verifie', 'racking', '69', '35806', 'huntsville', '111', 'toplevel', 'sony', 'finanicing', '2faworse', 'cryptorelated', 'cryptofor', '773', 'abetter', 'eagle', 'willbest', 'pickerington', 'killeen', 'donaldson', 'pamela', 'bankruptcy_______________does', '1980s', 'lore', 'dashing', 'canes', 'cfo', 'rascals', 'reginal', 'moto', 'israel', 'ncb', 'everlyndhurst', 'sex', 'chargesin', 'vonda', 'insulted', '127', 'recovery', 'pncmichelle', 'glitchyi', 'condolences', 'okeechobee', 'autopays', 'hackettstownnj', 'rt57', 'wizard', 'plunging', 'placeplease', '261', 'mishandled', 'cardoso', 'fabio', '460', 'siting', 'andhonestly', 'minuets', 'tant', 'retrded', 'fuking', 'reveiws', 'prideful', 'scampaid', 'akter', 'loomis', 'synthesized', 'heaps', '80safter', 'rudeness', 'kettering', 'dawn', 'skokie', 'kankakee', 'edinburgh', 'frb', 'suspects', 'yearmy', 'chargeits', '16350', 'systema', 'degradation', 'beoyond', 'disturbed', '92222', 'appraiser', '9082022', 'journalists', 'tubers', 'omitted', '7152022', 'maine', 'untrusting', 'bvaa', 'julihka', 'influencers', '84', 'tryed', 'trazasion', 'stilling', 'scoot', 'edd', 'illiterates', 'packstion', 'sandey', 'clark', 'keven', 'tues', 'hodlenaut', 'theory', 'expenditures', 'allinstead', 'pusheswords', 'ik', 'hatee', 'highschool', 'lags', 'uselessdo', 'traceability', 'decimate', 'mall', 'trotter', '930pm', 'wilder', 'unjustified', 'dhakaaccount', 'retireval', 'instay', 'bangladeshcity', '20502040205889914country', 'bangladeshaccount', 'islami', '100000taka', 'proficient', 'mobileal', 'nit', 'experiencedo', '589', 'espaol', 'tienen', 'realmente', 'balanced', 'publicidad', 'por', 'engaar', 'dejen', 'se', 'hispanos', 'pncpara', 'siding', 'everdont', 'amaze', 'conclude', '5901university', 'crowed', 'deafening', 'schumers', 'senator', 'crawl', 'heat', 'flea', 'diapers', 'stripe', 'theremoving', 'etiquettei', 'ethan', 'iamsaraartist', 'citibankto', 'stonewalling', '04252021', '3700', 'iwill', 'dropshipping', 'amazons', 'viewable', 'creditable', 'reviewsomeone', 'now0', 'ema', '1162021', 'bluevine', 'racketeta', 'thishello', 'raves', 'causedif', 'extravagant', 'respondi', 'reviewthis', 'nonexistentthey', 'vanished', 'pointthey', 'themit', 'commenting', 'commented', '15month', 'northoneupdate', 'entrepreneurs', 'walkthrough', 'organiztion', 'fat', 'themedit', 'polygon', 'hinted', 'nonprofitwithout', 'accountbanking', 'nonstop', 'apologised', 'takethis', 'teambanking', 'websiteplease', '905', 'avanti', 'cigarette', 'genericsbut', 'fridaytwo', 'affording', 'banksunday', 'banksaturday', 'followsfriday', '510my', 'longrun', 'whyto', 'yuge', 'outi', 'neccessary', 'slept', 'birds', 'automized', 'emailsthey', 'augustine', 'trc20', 'cheeper', 'mcdonough', '937', '837pm', '830pm', 'generousonce', 'lakeland', '5500', 'supportticket', 'geniusthey', 'addressdont', 'dares', 'vulnerability', 'reasonthey', 'lifethey', 'tums', 'adversarial', 'unscrupulous', 'cat', 'unsupported', 'incorporation', 'accidental', '450000', 'couch', 'regained', 'applicationcrazy', 'grain', 'bia', 'dilemma', 'vinebranch', 'northonescamcom', 'insanity', 'themby', 'scattered', 'retrievable', 'permissionthere', 'thisthey', 'cheaters', 'bewareopened', '827', 'acknowledging', 'chute', 'coinssure', 'disconnecting', 'marina', 'happent', 'titlelien', 'pat', 'weekendthey', 'brach', 'pnce', 'unhold', 'iff', 'onwow', 'phoneonly', 'recouped', 'waswebsite', 'curveball', 'unstoppable', 'higheri', 'teen', 'reversing', 'impolite', '510000', 'normi', 'annoyingto', 'speake', 'oxon', 'allupdate', 'respectpnc', 'pajamas', 'mathematical', 'dormant', 'sleazy', 'coowner', 'soc', 'misleadingly', 'payableupondeath', '10050', 'cointhey', 'callous', 'feebut', '117', '10944', 'bankby', 'demeanor', 'sadness', 'contend', 'impossiblei', 'persistenttrying', 'plateform', 'pry', 'basisthey', 'carei', 'reprehensibly', 'verificationeverysingle', 'buthave', 'marketaccount', 'caned', 'signupreferral', 'termsconditions', 'eitherupdate', 'iamdone', 'hosting', 'alias', '2059253', '332', 'daysthey', 'recant', 'excellentwaiting', 'emailmy', 'expensivei', 'responseall', 'amusing', 'responsestay', 'shamefuledit', 'accusatory', 'disdain', 'madeup', 'answerwhen', 'pig', 'guinea', 'inconsequential', 'premade', 'celsiusmy', 'swagbucks', 'redefining', 'marketerfreelancer', 'xxxxxx', 'personalsensitive', 'representive', '11122021', 'starupdate', 'marketers', 'unregulated', 'bonusreferral', 'applogin', 'firedthe', 'partakes', 'rereview', 'informationnorthone', '6422', 'companyupdate', 'practicesbased', 'deck', 'toothandnail', '53122', 'hereupdate', 'statistics', 'paulie', '111721', 'checkupdate', 'ecstatic', 'remarkable', 'wine', 'thembottom', 'withsofi', 'huhbreaking', 'equifax', '814', '37000', 'someplace', '350k', 'listi', 'notificationsit', '59', 'valuing', 'qjuick', 'elsethank', 'waaaaaayyyy', 'themjust', 'selective', 'intire', 'serivce', 'haste', 'phonenot', '723', 'easygoing', 'inference', 'conditional', '092022', 'againthank', 'endure', 'requestand', 'greateverything', 'merrill', 'developer', 'affiliate', 'structural', 'mistreated', 'assests', 'liari', 'ultipro', 'inbthe', '1681m', 'f15', '1602', '1692a', 'act15', 'tila', 'helpsofi', 'cheesebags', 'demon', 'ivf', 'trueit', '82622', 'darren', 'emphatically', 'distraught', 'processsd', 'compliedresponse', 'amountthanks', 'janus', '82922', 'hogwash', '2yr', 'loanshark', 'intelligently', 'debate', 'phonecrazy', 'splitsoverall', 'insulation', '300month', '135', '20s', 'latereven', 'housei', 'walls', 'outer', 'reinsulate', 'cardsdebt', 'productslate', 'rigamarole', 'whoa', 'efficienteasy', 'softwares', 'ech', 'becus', 'farupdate', 'nonsofi', '91322', 'fillings', 'peter', 'processcomputer', 'gentle', 'itonly', 'peope', 'cardsalot', 'fundedwas', 'andanswer', 'andpainless', 'injured', 'excepting', 'homerun', 'entrepenur', 'navegate', 'instrumental', 'loanssofi', 'approvedin', 'dayseasy', 'lifeforce', 'itquick', 'debtt', 'bathroom', 'beautifully', 'smoth', 'inorder', 'paul', 'lynch', 'henderson', 'tag', 'substanuate', 'whenif', 'dobwhat', 'inly', 'payable', 'breathe', 'appsill', 'procedureexceptional', 'groupvery', 'eliminating', 'emaili', 'institutue', '4day', 'abbott', 'workwith', 'nonevery', 'hr3909', 'autopayi', 'cordialthe', 'needthanks', 'upjust', 'tkt', 'mapped', 'tb', 'attacking', 'blips', 'completive', 'projectthe', 'aggresivly', 'debtincome', '2024', 'newsletters', 'newsletter', 'productive', 'standings', 'furnish', 'pandemicso', 'fri', 'helpline', 'experiencethe', 'finnish', 'occasionsi', 'cosigning', 'accountsure', 'waythey', 'installment', 'timeefficient', 'htexas', 'nancy', 'regardsmichael', 'thanksbest', 'solicitations', 'applicationwent', 'sayfinally', 'ratiodid', 'speil', 'supportcustomer', 'immersed', 'tn', 'mentality', 'obvioisly', 'servicesupdate', 'wasteful', 'booyah', 'rightwish', 'bankaccount', 'nonnative', 'routed', 'deadend', 'fills', 'walled', 'personin', 'medallion', 'tohave', 'or2', 'by1', 'nonfail', 'scraping', 'nameaddressdobss', 'shtf', 'nicechapter', 'score812', 'bankingcheckingbill', 'fragmented', '67000', 'disapproval', 'chinai', 'preapplication', 'repeatedone', 'issuedthree', 'fraudulantcompanies', 'punted', 'accountsofi', 'ineptitude', 'ineptmy', 'orginal', 'bankscards', 'transferable', 'unexplainable', 'savingchecking', 'streamlines', 'disasterfind', 'reviewin', 'dealthen', 'attitudesfast', 'berated', 'teamed', 'unprecedented', 'brutal', 'defermentwhich', 'discharged', 'hike', 'radar', 'busses', 'gripped', 'presumably', '289', 'muchmuch', 'applicationthe', 'elapsed', 'easyslightly', 'floored', '1214', '1210', 'appication', 'significance', 'diff', 'pestering', 'loanthat', 'historically', 'lumpy', 'suv', 'lesss', 'happythank', 'fundedif', 'combo', 'processfunded', 'wack', '620', 'refreshed', 'philipiness', 'systemupdate', 'intrested', 'overwhelmingscary', '170257208november', 'proposed', '32k', 'processoverall', 'sogood', 'sime', 'easyvery', 'woderfulanswered', 'woderfulansweres', 'ofprocessing', 'knowable', 'wnt', 'slip', 'basing', 'crunch', 'hounding', 'askingbest', 'otis', 'iris', 'reacted', 'hazzle', 'extension', 'loanrestructioning', '113022', '112722', 'yesterdayy', 'misdirection', '2022still', '2022western', 'proficiency', 'lifesaving', 'rpido', 'del', 'efficieny', 'greatlylooking', 'melt', 'revise', 'sendings', 'preentered', 'scervice', 'wuwhen', 'pickupi', 'detailsthe', 'moneyback', 'compliactions', 'whale', 'peopleb', 'scenarioshame', 'm0neygram', 'everyting', 'moneynot', 'ts', '246', '523', '8678', 'disgustingly', 'fcil', 'comunication', 'themdecember', 'awesone', 'themwestern', 'moneydecember', 'caredecember', '2022almost', 'sahar', 'elhassan', 'youssif', 'allthank', 'anyhow', 'defraud', 'headline', 'appcreditdebit', 'dictatorial', 'instantaneously', 'noncommensurate', 'agentsupermarket', 'onward', 'recpoiant', '2022because', '9293755482i', '8120290649', 'bitmust', 'systemincreases', 'typerepeat', 'competitiveness', 'communicator', 'associatessofi', 'treading', '140000', 'phishes', 'hellothe', 'anastasia', 'accountwow', 'fillout', 'electronicallythis', 'websitewithin', 'easilyi', 'enableme', 'rut', 'cripple', 'skeptics', 'lone', 'clothingsave', 'nay', 'actuality', 'customerfirst', 'thereso', 'protests', 'remodelling', 'nearperfect', 'nightmarei', 'clusterf', 'colossal', 'strike', 'comanies', '4400', 'approvedand', 'punishing', 'lendingworking', 'saidpredatory', 'fon', 'ref25661620', 'francesa', 'alexander', 'esigned', 'stock2', 'billsfroze', 'keepers', 'assignment', 'jared', 'contradicts', 'housewoonow', 'ancient', 'medieval', 'taptopay', 'capone', 'unified', 'prospect', 'defeats', 'forcelogged', 'selfserving', 'disqualification', 'shambles', '716', 'eeasy', 'belter', 'ssdi', 'quicklyand', 'prescreened', 'monthsif', 'inspection', 'deviated', 'analysts', 'amiable', 'flexibles', 'loanwe', 'judgemental', 'accountexperince', 'loath', 'everythingnothing', 'webull', 'gamechanging', 'overdelivered', 'ineligibilityif', 'mentions', 'rescinded', 'loanto', 'hotline', 'utilitize', 'moneythank', 'weekfound', '14xx', 'pancreatic', 'woumd', 'navaigate', 'excusedsince', 'unprofessionalism', 'headacke', 'cardsvery', 'solvedi', 'navigatetake', 'accurateresolved', 'optionsquotes', 'reversedshe', 'mgr', 'reapect', 'companylightstream', 'respones', '6am', 'breezeboth', 'awe', 'initiatebut', 'itmultiple', 'anythingafter', 'communicationssofi', 'toldthe', 'lapsedso', '1117', 'higherstay', 'liw', 'mohelha', 'surge', 'midjuly', 'announcing', 'gensler', 'surveillance', 'deficient', 'blitz', 'glitz', 'puzzle', 'workaround', 'revocable', 'wills', 'bowel', 'babynot', 'newborn', 'jeff', 'succeeded', 'turbotax', 'delaysshe', 'pleaded', 'jobnow', 'juxtaposition', 'therein', '2minute', 'tfa', 'banksofi', 'gaming', 'unamerican', 'captures', 'perps', '2025512100', 'neighbor', 'ythey', 'coverit', 'futurei', 'relationsresponse', 'resolveaction', 'immediatelyresponse', 'meaction', 'forwards', 'onresponse', 'directlyaction', 'redditresponse', 'longresponse', 'providedaction', 'itresponse', 'whyresponse', 'congressman', 'fiserv', 'application45', 'mutiple', 'unsolved', 'reportive', 'issues1', 'butz', 'unfounded', 'sanctioned', 'excusesbanking', 'outofoffice', 'reconsideration', 'valuemy', '975', 'it1', 'easieri', 'mergedmixed', 'bankmay', 'cutesy', 'periodsofi', 'unemploymenti', 'customersofi', 'empowered', 'soared', 'spewing', 'sofiso', 'extensions', 'glutton', 'bureaucratic', 'dystopian', 'touting', '0riginali', 'abundantly', 'daysif', 'answerhorrible', 'bland', 'yell', '8000', 'understandablepredatory', '609', '96', 'delaysi', 'recalls', '335', 'ipod', 'chargei', 'nowwhere', 'curiosity', 'merrimanout', 'bend', 'lesshonestly', '162', 'boils', 'unemployed', 'daysthis', 'slowness', 'belt', 'ofafter', 'hadentered', 'searches', 'meand', '5242022just', '8332807634update', 'noticeagain', 'sched', 'dustin', 'didthursday', 'selfemployment', 'outthe', 'tooso', 'employedkeep', 'peaceful', 'kong', 'hong', 'clerkship', 'rotate', 'producing', 'physician', 'noteworthy', 'callssunnary', 'instructed3', 'bee', 'whyhave', 'revictimized', 'ffs', '836', 'advertisers', 'spammmers', 'issuesofi', 'excitedi', 'upof', 'dynamite', 'napoleon', 'accountlong', 'saidverbatim', 'slacker', 'bored', '10000hkd', 'blm', 'winnersi', 'petitions', 'immigrated', 'sytem', 'compter', 'vonage', 'interpretation', 'tenured', 'ys', '823', 'absurdmy', 'asleep', 'cardsloanin', 'communicationto', 'stature', 'woul', 'minimally', 'appraise', 'quickat', 'backdate', '12ksave', 'patch', 'laurel', 'icu', 'amateurs', 'chairsthey', 'musical', 'noservice', 'sitesthe', 'accountslong', '645pm', 'richardwe', 'engineers', 'ons', 'memorial', 'namely', 'remedied', 'itwhat', 'minefield', 'idiots', 'illogical', 'thinkig', 'defentinly', 'appoved', 'curtsey', 'advocacy', 'stuggling', 'claming', 'hostility', 'entitlement', 'fyisofi', 'exsist', 'theifs', 'deletedsofi', 'ivested', 'shortthey', 'familywe', 'pt', 'relationstip', 'liehere', 'ypu', 'staffm', 'fuzzy', 'jeez', 'scab', '5100', 'flyer', 'fuzzies', 'partnerships', 'r1754000', 'reservedw444959', '94105', 'ussofi', 'preferenceslegal', 'usyou', 'lawsofi', 'finras', 'herethis', '123121', 'timedate', 'bank1', 'finrasipc', 'usmobile', '10k1', 'comreferralprogramgreat', 'nowtotally', 'worsethese', 'exclusion', '8k', 'requirementssofi', 'sobased', 'lowerinterest', 'highi', 'boarding', 'industrysincerelyray', 'possibleregards', 'isva', 'questionsconcerns', 'milestone', 'movers', 'processin', 'therewhen', 'originator', 'norms', 'processdefinitely', 'sofiprofessional', 'certification', 'descrepency', 'helpfulso', 'tease', 'prequalify', 'rug', 'yanking', 'wham', 'debtors', 'loansofi', 'immenselythe', 'swagfortunately', 'connections', 'sally', 'indicators', 'aboveaverage', 'mystudent', 'complaintmy', 'planner', 'ahd', 'defaulting', 'paperelectronic', 'equities', 'brokerages', 'tasked', 'endpoint', 'optionstheir', 'assigns', 'contemplated', 'flashy', 'leniency', 'majorso', 'annoyancesecond', 'differentiate', 'manipulative', 'horriblepainfully', 'sallimae', 'cure', 'correspondences', 'whet', 'intendedthis', 'directlyas', 'closingprocessing', 'roadblocks', 'morales84', 'satifisted', 'accountsfintech', 'banking3', 'awful2', 'oddly', 'fyiweb', 'scra', 'duty', 'morningim', 'politics', 'rebooting', 'arkansas', 'awareness', 'wellthoughtout', 'wellcoordinated', 'pleasedthis', 'aisle', 'unitl', 'scorelove', 'midway', 'noticeswhich', 'nolater', 'incorporates', 'securityfraud', 'peanut', 'elevate', 'dodos', 'auditedlocked', 'efficientwould', 'overalllow', 'facilitates', 'endeavor', 'reciprocated', 'presidents', 'forwardthinking', 'wholeheartly', 'supportered', 'fin', 'finncial', 'knowledgeablegreat', 'outoutside', 'aloan', 'deniedi', 'thro', 'paymentwhen', 'efficientthank', 'erased', 'biew', 'errored', 'jellylove', 'roofing', 'widow', 'reviewi', 'bite', 'energetically', 'enthusiastically', 'escaped', 'documentsin', 'titled', 'railsi', 'underway', 'eagerly', 'applicationshere', 'definitelly', 'me3', 'loan2', 'persoal', 'jon', 'withi', 'keeper', 'foothold', 'reapplication', 'awaythanks', 'dupped', 'spell', 'melissa', 'conflicted', 'nite', 'plump', 'easythx', 'jours', 'bombshell', 'messageswhen', 'allog', '50100000', 'shoplike', 'vc', 'stunts', 'bang', 'greasethe', 'squeaky', 'discriminatory', 'deflecting', 'notion', 'shifting', 'bluffing', 'appphone', 'uninstallreinstall', 'qualtrics', 'aagin', 'thisthis', 'depsite', 'gimmick', 'nonbank', 'boatload', 'glorified', 'blow', 'gunna', 'honesti', 'refinancerelated', 'plummet', 'hollow', 'balancesince', 'numberexcellent', 'chargedi', 'allotment', 'inquiryi', 'unhelpfil', 'morrison', 'tommy', 'easyespecially', 'eithernow', 'invites', 'van', 'bonusmatching', 'steward', 'wiselythank', 'dwindle', 'climb', 'courage', 'mustered', 'packagingoffer', 'packaging', 'fancy', 'mailers', 'barrage', 'pit', 'mantra', 'plummeted', 'thingsso', 'gotcha', 'metwhich', 'threeday', 'paperworkit', 'outofpocket', 'forwardand', 'aftermath', 'pleasedo', 'repository', 'aaaa', 'lastminute', 'signor', 'coborower', 'overruns', 'grader', 'tradingview', 'charting', 'preferential', 'lettervery', 'instantaneous', 'peezy', 'sofiisawsome', '85000', 'discouraged', '402', 'wantand', 'meyou', 'uswith', 'scarily', 'customersespecially', 'reviewupdate', 'hackedthe', 'mewestern', 'nps', 'feview', 'websitesince', 'cedula', 'refresh', 'alien', 'computor', 'slowthank', 'agothe', 'timeby', 'youplease', 'dreadfulwestern', 'natalija', 'regs', 'scammedwhich', 'nber', 'weekalice', 'ranksfast', 'bd', 'wuit', 'phoneif', 'relativesi', 'geeze', 'servicesthank', 'finfd', 'frightened', 'transger', 'bankpartnerreceivers', 'citythe', 'abbreviations', 'neve', 'remity', 'doesnot', 'christians', 'takee', 'throughwhy', 'wheneever', 'molasses', '12days', 'comeback', 'operateas', 'greatlyi', 'yrsi', 'littered', 'themes', 'conveyed', 'distrust', 'unionive', 'supervisorthey', 'appreciatei', 'template', 'briefly', 'elsewhen', 'likedear', 'confiablesuper', 'sugerido', 'hornak', 'unionclemencia', 'kiosks', 'forinternational', 'cumputer', 'transferredto', 'worki', 'transferto', 'comfortablesafe', 'manners', 'alex217', 'silvia822', 'zip', 'trains', '1845356634', 'colombian', 'cancelledno', 'minutetried', 'efectivo', 'gusta', 'dfor', '1110', 'safethanks', '3009', 'countrieswent', 'spiral', 'imposing', 'glich', 'pointskeep', 'decorative', 'rewardno', 'themmmm', 'emai', 'harship', 'gasoline', 'reclicks', 'sequence', 'cofidence', 'friendits', 'cofidencees', 'costumerthanks', 'westerns', 'templewu', 'buddhist', 'carpenter', 'guatemala', 'infopls', 'facil', 'nowfive', 'intimidating', 'fastno', '2399', 'troublefree', '400usd', 'santos', '1209', 'feesevery', 'prompting', 'awards', 'promorewards', 'ricait', 'pickedup', '590', 'correctwhy', 'codeevery', 'transmittal', 'irksome', 'ctrlaltdelete', 'disc', '300pesos', 'narrsisstc', 'reasonablevery', 'villages', 'morr', 'waster', 'amunt', 'shoddy', '28922', 'larry', 'yellow', 'fastsecure', 'cdn', 'ukrainethank', 'ukrainiansi', 'badwestern', 'volunteers', 'interruption', 'expirationplease', 'butterworth', 'penang', 'customersevery', 'confirmations', 'timeswu', 'fmaily', 'neededif', 'recipientscancelget', 'tovery', 'terribleonly', 'colon', 'int', 'thi', 'ay', 'transacyion', 'unrewarding', 'goodthank', 'ukrainains', 'ianyone', 'accountnow', 'expressing', 'sentwu', 'army', 'sendand', 'upplease', 'souza', 'fairer', 'systemseither', 'interestingly', 'fastuse', 'eltayebguelph', 'justicethank', 'canada4379293701', 'looses', 'prorated', 'nicebig', 'lowerin', 'deliveries', '1400usd', '1000usd', '200mxp', '2049mxp', 'abbreviation', 'transactionterrible', 'discountthe', 'crossing', 'motherinlaw', '18663268689', 'photocopy', 'reattempt', 'dcl', 'mamede', 'talaat', 'serverso', 'wvu', 'faili', 'vconfusing', 'linux', 'woodlawn', 'reverts', 'relaiablity', 'enjoyng', 'bestestest', 'md', 'guelph', 'silk', 'redue', '1428', 'rerouting', 'surendra', 'pleases', 'dropdown', 'experienceattempting', '5can', 'oaxaca', 'revisit', '170254634', 'fixedi', 'issues241022', 'chronological', 'basisthank', '1409', '597', 'ignorable', 'chaching', 'correctional', 'transactionstransfers', 'taps', '10312022', 'fee1', 'spooky', 'meeverhi', 'meever', 'ndays', 'lifesavers', 'ican', 'debarvinreview', 'frecuent', 'timrly', 'reliableive', '149', '131', 'southeast', 'pointsother', 'forsending', 'kiev', 'pickle', 'ludania', 'mando', 'bybank', 'pickups', 'recommendable', 'banktobank', 'hilda', 'canceled586', 'opcion', 'instantlythank', 'familia', 'recipiant', 'farthey', 'servie', 'simpleusing', 'thisive', 'myy', 'seldon', 'selon', 'attaching', 'no1', 'nigerian', 'merida', 'nic', 'guarenas', 'awfull', 'midgets', 'senting', 'disingenuous', 'problemsthank', 'fastnever', 'flores', '41', 'voices', '059', 'scientist', 'guest', 'quik', 'convertingway', 'eurodollar', 'wp', 'hickups', 'prblems', 'thetransfer', 'badwu', 'pointsso', 'termianl', 'retype', 'forefeited', 'limitsdo', 'invisible', 'ngambi', 'didier', 'jobdr', 'madekeep', 'whois', 'moreeven', 'oldwu', 'usedwill', 'themredeeming', 'redeemablenot', 'rocket', 'graders', 'everlearn', 'bumping', 'okokokokokokok', 'okokokokok', 'dit', 'trsfer', '8xs', 'unexceptionable', 'dayi', 'comprehending', 'aires', 'buenos', 'decently', '496', 'bladder', '1499', 'apocot', 'supporthelp', 'unchanged', 'resumption', 'detected', 'operative', 'transactiontransaction', 'undefined', 'hunger', 'balked', 'niece', '9497', '086', '277', 'infos', 'greek', 'christian', 'jews', 'rascist', 'investigatingi', 'allsent', '08092022', '28082022', 'admire', 'oncethank', 'overseasit', 'chargeslittle', 'waseca', 'fastwestern', 'applay', 'employeein', 'systeminfrastructure', 'hsbc', 'grandkids', 'exceptionaly', 'aaaaaaaaaaaaaaa', 'expedites', 'serval', 'exploited', 'stocked', 'specifying', 'reassure', 'idme', 'isready', 'couse', 'purporting', 'middling', 'boygirl', 'falsehood', 'optiona', 'bankget', 'clamp', 'tme', 'compliancein', 'madewestern', '2110', 'slipedit', 'tsb', 'uncommunicative', 'mishap', 'fastersafer', 'scuris', 'dplacement', 'sans', 'facile', 'sr', 'negligible', '142', 'efective', 'ck', 'cirera', '4481768', 'korunas', 'burglarious', 'neonazi', 'republican', '26th', 'thatjust', 'withwhen', 'youno', 'someonei', 'african', 'merit', 'ref', 'proofi', 'ireland', 'needthank', 'doingi', 'offender', '1023', 'incomingfloating', 'differant', 'recken', 'discountpromo', '3542', '389', '5997918', '386', 'czech', 'imposed', 'jovianey', 'thefts', 'aubrey', 'diaz', 'moy', 'communist', 'prohibitive', 'peru', 'transferthis', 'erniecleveland', 'raeon', 'youernest', 'personthank', 'thereboth', 'formany', 'fastwire', 'gcash', '15usd', '150usd', 'pinoy', 'experiencesbut', 'prob', 'coupler', 'excelentthanks', 'recredited', 'acclaimed', 'itthanks', 'useit', 'governments', 'missions', 'refundedi', 'european', 'greatcost', 'fairsimple', 'siteit', 'phillipines', 'releaseit', 'yesterdays', 'pronunciation', 'yrsa', 'unionwhere', 'freezeseven', 'retry', 'servicewellgoodluck', 'zara', 'snippy', 'dumbdumber', '10year', 'dubai', 'happenedreally', 'timetried', 'conformation', 'emailtraveled', '25km', 'transactionjust', 'behan', 'bg', '1111', 'gratefull', 'disappearedjust', 'memory', 'khalil', '7nsurprise', 'nreliable', 'urgencywe', 'drill', 'explicitly', 'professor', 'callsnonetheless', 'semiprogrammed', 'herselfwhen', 'bulgarian', 'thoughthowever', 'german', 'lithuanian', 'formally', 'transferso', 'wrongthe', 'varna', 'bulgariawhat', 'frankfurt', 'whatsapp', 'daysso', 'knowsso', 'competences', 'chutes', 'lawabiding', 'misspelt', 'accuratre', 'gutted', 'everlosing', 'misplacing', 'wenr', 'seniority', 'capturing', 'redflag', 'keyword', 'allowancetuition', 'instantaneouslycompare', 'signingup', 'ratesnever', 'island', 'qucik', 'measuresso', 'aredeem', 'responsedefinitely', 'begged', 'receiverthough', 'thrice', 'blabbering', '5073', '4486', 'stalls', 'timequick', 'safetly', 'emergencies', 'posttransaction', 'changeswebsite', 'earthquake', 'typhoons', 'cement', 'nextyou', 'inserts', 'excellenthowever', 'alipay', 'partnersthank', 'secondsvery', 'thers', 'transactioning', 'needsallways', 'reciper', 'sunil', '276', 'pointsyou', '489', '349', '2868', '509', '3211', 'crfedit', 'exuberant', 'incarceratedall', 'recent11', 'aunties', 'easytonavigate', 'flicker', 'reciver', 'ebsite', 'enquired', 'unionafter', 'unioncom', 'transfererror', 'latviawanted', 'westernunioncomon', 'problemsbut', 'yearsince', '04october', '17november', 'c9999', 'fixedcustomer', 'poorlycannot', 'worksgreat', 'efficientdespite', 'mindi', 'honouring', 'pursued', 'needlessly', 'encrypted', 'ph', 'itso', 'feefix', 'mostfast', 'massages', 'recordkeeping', 'simplevery', 'ministries', 'scrolls', 'beets', 'knowfineguysfreaking', 'enduser', 'testing', 'appbecause', 'kludgy', 'fer', 'redrawing', 'stolid', 'coded', 'hardened', 'stepoy', 'uplisten', 'geniuses', 'storeandforward', 'techniques', 'resonable', 'receiverthank', 'chewing', 'ruffling', 'deposityou', 'rocksince', '1851', 'orphanages', 'echange', 'pose', 'supportdorin', 'soooooooooooooo', 'deficit', 'companion', 'simpleeasy', 'reput', 'infor', '300usd', 'pretent', 'care28112022', 'anothor', 'confuses', 'theere', 'difficut', 'erroring', 'peesy', 'caliber', 'quicksafe', '11422', 'wunderfully', 'smione', 'prisoners', 'rasfer', '1116mind', 'mont', 'moneu', 'mtn', 'reliablethank', 'overseasin', 'flooded', 'informationif', 'pangea', 'workflow', 'qual', 'unrelaible', 'systemi', 'themwhat', 'mercy', 'envio', 'folds', 'purposefully', 'commissionssuch', 'timewestern', '213', '13395', 'kiosk', 'tracker', 'fundsi', 'beer', 'insact', 'fallowed', '87', 'mbps', 'unionthe', 'sitethank', 'unin', 'charactersxxxxxx', 'vimenca', 'seventy', 'shivam', 'lossit', 'accounteven', 'root', 'matching', 'headi', 'accountthen', 'checkedin', 'wuwesternunion', '920', 'codehacker', 'modifiedchanged', 'todaysept232022', 'happed', 'guysi', '372805643800', 'phillippiens', 'lti', 'respon', 'recognizable', 'undestend', 'clearhard', 'dupe', 'photographic', 'throughfollow', 'glatt', 'wuwesterunion', 'quikly', '3599', 'reclaim', 'seafarers', 'therevery', 'navigatethank', 'regulator', 'unionthanks', 'ratelove', 'serviceshassel', 'flast', 'hanged', '7922', 'austrian', 'await', 'locationalso', 'highif', 'mums', 'wch', 'cupboard', 'emoticons', 'servicecompliance', 'citing', 'easythanks', 'improvementthank', 'arabic', 'translated', 'hungerly', 'kenneth', 'moneytransfers', '76', 'glitchbug', 'unsubscribed', 'risks', 'glammama50', 'itook', 'plentiful', 'deserving', 'dictates', 'exercise', '929', 'portals', 'ij', 'dificult', 'unfixed', 'awarei', 'relatyionship', 'offended', 'towhy', 'cornered', 'coronavirus', 'naive', 'complainer', 'itterrible', 'men', 'checkmark', 'eveery', 'cardetc', 'mybank', 'cashwestern', 'cardlost', 'poland', 'receiver2', 'this1', 'reducedthats', 'visibly', 'inr', 'converter', '510am', 'stepslooking', 'validity', 'organising', 'overs', 'mywupoints', 'formatted', 'clarifying', 'pricesrest', '3045minutes', 'debted', 'penitentiary', 'weekand', 'supportat', 'youu', 'urgen', '4o', 'otionseverything', 'alotment', 'thruif', 'puerto', 'transitions', 'smallthanks', 'themkeith', 'diminish', 'indonesia', 'sheriffs', 'nothingthey', '10190', '12092022i', '12092022', 'satisficed', 'postdialup', 'terminal', 'latency', 'easyexcellent', 'rodgers', 'youpat', 'weekthank', 'sagar', 'underlying', 'effieicent', 'experiencefast', '30479', 'hungarian', 'hungary', 'feeedit', 'difficulti', '47664', 'rico', 'alisha', 'mexcio', 'travelled', 'frustratedupdate', 'doubledog', 'paz', 'mx', 'accessit', 'defferent', 'authorizationtransfered', 'pogress', 'gcr', 'swanson', 'susan', 'usanee', 'aw06', 'despirte', '9490624672', '91622', '2156863744the', 'complicateddate', 'ripoffdeleting', 'heldwhat', 'refundtranfere', 'moneywestern', 'pointskeeps', 'consumed', 'daylight', 'investigationsi', 'specialise', 'nicer', 'transactionthank', 'preauthorization', 'navigatewell', 'sakethe', 'casa', 'salir', 'sin', 'gracias', 'gratitud', 'cycling', '92322', 'han', 'appfor', '243', '3399', 'drc', 'useeverything', '53409262022', '169', '448', 'ghoshwu', 'numbersaniruddha', 'deaf', 'alleviate', 'ecuadorguayaquil', 'pichincha', 'internacional', 'happythanks', 'extortionatethere', 'londonthat', 'eurochange', 'putney', '84916', '107182', 'maximising', 'pound', 'upheld', 'sa', 'responseyour', 'butthey', 'pacifico', 'westurn', 'situationi', 'returncancellation', 'reciever', 'xxxxxxx', 'urgentwere', '9am', 'morningi', 'trastedthasnk', 'errorfree', 'bolivariano', 'ignorancehate', 'dictators', 'nonreason', 'trials', 'forif', 'requiredny', 'crummy', 'smallest', 'wonderfull', '180000', 'outits', 'sayingi', 'innumerable', 'mashinksy', '18gmt', 'maam', 'speech', 'them2', '1x', 'flustered', 'profit3', 'helpfulapart', 'membersdont', 'selectedan', 'riskfree', 'encounteredone', 'thoroughness', 'aprs', 'investmentsapp', 'familiarity', 'timesthe', 'mishandling', 'estone', 'countingvery', 'manure', 'filters', 'exaclty', 'mechanized', 'elegant', 'crypotcurrency', 'bones', 'withevery', 'unproductive', 'allfor', 'unfulfilled', 'defamation', 'centthe', 'merrit', 'walletcopy', 'ouilain', 'totaly', 'transferyou', 'fridayif', 'minutesskeptics', 'arbitrageurs', 'pledges', 'sophie', 'heri', 'securehighly', 'diverse', 'beacon', 'enron', 'aig', 'conclusions', 'exacerbate', 'graduates', 'brilliantly', 'yearsthe', '749', 'psses', 'baring', '900month', 'salaryuntil', '64000', 'graduating', 'slimy', '1132102c39', 'nr1', 'pursuit', 'amon', 'originate', 'onchain', 'endeavors', 'userface', 'staffcompany', 'interface110046b16a', 'fastfriendly', 'ambassador', '2001', 'evolves', 'bnktothefuturecom', 'issuewith', '30fixed', '4875', 'ticks', 'boxes1', '1990s', 'predicted', 'patented', 'pmijumbo', 'revolutionise', 'downno', 'copper', 'predicts', '1230pm', 'listediting', 'transcripts', 'licensing', 'servicesproducts', 'jurisdiction', 'compliant3', 'calendar', 'mistakeunfortunately', 'frontier', 'holing', 'affiliation', 'enoughim', 'incomethis', 'weeki', 'againold', 'srvice', 'mohelia', 'unnoticed', 'thmubs', 'doable', 'frequency', 'infothen', 'fashioned', 'weekunbank', 'individe', 'useonly', 'thatof', 'alt', 'rivals', 'radioyour', 'paradigm', 'unfavorable', 'inclusion', 'streamed', 'nerd', '1056', 'lectures', 'spender', 'realities', 'exponentially', 'mygreatlakes', 'quicklythe', 'noodles', 'loanthey', 'paymentthe', 'steach', 'communicates', 'plattforms', 'sigend', 'transferconvert', 'cryptoive', 'moremy', 'beginnersthey', 'timeand', 'conceptcelsius', 'feedbackby', 'unaffected', 'phish', 'emailsms', 'tacticsiwill', 'shafted', 'talkin', 'celsiusrates', 'flex', 'sooofine', 'betterworst', 'epayment', 'cdccompetition', 'greatnever', 'homework', 'educating', 'paxg', 'bio', 'propelling', 'customizable', 'freed', 'us3', 'jurisdictions', 'celsianscons', 'highlytouted', 'signin', 'fbgoogle', 'signins', 'cryptoonly', 'lastpassgenerated', 'shirts', 'copybest', 'completeevery', 'firstthanks', 'bankcant', 'offthis', 'creditthe', 'celsiusunbanking', 'litecoin', 'vote', 'summarize', '4506t', 'situationwe', 'creator', 'inefficiencyi', 'ratebest', '645', 'hugely', 'ramen', 'declare', 'teansferred', '0interest', 'thge', 'newcomers', 'usdollar', 'thius', 'preferral', 'easypeasydone', 'itcelsius', 'servicers', 'differential', 'banktransfer', '6hr', 'quicklyi', 'engendering', 'termsrates', 'explored', 'technologyin', 'pipeline', 'defithrough', 'experienceas', 'p2pi', 'loam', 'knowingly', 'setups', 'miscommunication', 'bankalways', 'unrealbut', 'communityperiod', 'cryptoyou', 'recenthavent', 'lowits', 'quicklyit', 'bigname', 'ricardo', 'tasha', 'keith', 'karmas', 'curveballs', 'steven', 'shane', 'nik', 'ratesa', 'shakie', 'aces', 'plead', 'intercepting', 'financecrypto', 'breaks', 'guard', 'autodeclined', 'deadlines', 'recruited', 'esign', 'lyon', 'anyonethe', 'refid', 'expectationsetting', 'smoothed', 'navigateterrific', 'refine', 'pillars', 'friom', 'julie', 'twist', 'celcian', 'tanner', 'homebuyer', 'dictated', 'lateri', 'beall', 'fruitful', 'democratising', 'properlythis', 'householdwe', 'competative', '16925621eb', 'innovations', 'inflected', 'famed', 'comshare1486432srccopy', 'parameters', 'increasingly', 'midoctober', 'moons', 'diversified', 'millionairesmondays', 'bonusso', 'ranted', 'supposecelsius', 'freelancers', 'chested', 'evaluating', 'coingecko', 'elgibility', 'pristine', 'poetically', 'finalizing', 'uedthe', 'cooli', 'washes', 'lian', 'hisorysallie', 'custmer', 'diploma', 'luke', 'loanskeep', 'straightforwarded', '696', 'cel5', 'account4', 'sliders', 'interestrate', 'wellkluck', 'experienceknow', 'holderscelsius', 'variables', 'lotand', 'yearsso', 'hires', 'revolutionizing', 'incidentally', '48hr', 'exited', 'aiming', 'daythey', 'creditcard', 'ratesif', 'atomic', 'intuitivewhile', '200usd', 'coumpond', 'fielded', 'sofa', 'licence', 'lockin2', 'predator', 'users3', 'usethey', 'stigma', 'rregner', 'goodvery', 'acceptancegood', 'traits', 'downtoearth', 'investingso', 'fairest', 'projectif', 'relieving', 'understandfingers', 'relativesthank', 'waybeen', 'loansstill', 'quicklymy', 'submitgot', 'simplynot', 'fundedi', 'linder', 'steamline', 'kelly', 'occsacion', 'stacy', 'companiestransparency', 'unequaled', 'industrygreatest', '805', 'historyvery', 'servicefocus', 'legwork', 'loaning', 'kluck', 'wellknown', 'thatvery', 'laborious', 'strenght', 'othersthe', 'trustthats', 'timecan', 'helpfu', 'issuesgreat', 'audits', 'spokedealt', 'arbitrage', 'oneself', 'inflations', 'weekhappy', 'compagny', 'friendlyno', 'documentswe', 'superquick', 'introducting', 'versionall', 'ground', 'textbook', 'wellpaying', 'youeva', 'subsection', 'earningbest', 'superminor', 'incomeemployment', '120kyr', 'ratein', 'economics', 'skyhigh', 'debtstudent', 'great720s', 'suprizes', 'matrix', 'codecelsius', 'horizonsthank', 'courses', 'lendermake', 'sofifrom', 'crop', 'flush', 'daysapplication', 'illerate', 'sensible', 'stepim', 'finishthe', 'peek', 'singapore', 'happierthe', 'deterrent', 'discusses', '1i', 'needsnot', 'seenive', 'interestrewards', 'resign', 'timeif', '625', 'loansthe', 'sacrificing', 'bankrupcty', 'ironically', 'renegotiate', 'excellenteasy', 'brighter', 'accesible', 'informedhighly', 'otherfast', 'upwouldnt', 'tolerant', 'grayscale', 'absurdly', 'prowess', 'quickthank', 'accompanied', 'approvalfunding', 'hitting', 'currencys', 'bits', 'finishunder', 'moonwelcome', 'celsiusthe', 'experiencethank', 'huhthe', 'itselfi', 'assembled', 'orpending', 'andextremely', 'financiers', 'likethere', 'lyou', 'tranactions', 'andthey', 'coinsand', 'interes', 'cryptic', 'agreeable', 'recommendfeatures', 'snx', 'ayr', 'bulletin', 'datearea', 'implementation', 'loansvery', 'fdhope', 'debtand', 'outings', 'knees', 'cows', 'accosting', 'onedocuments', 'mud', 'jumbled', 'xgames', 'togethers', 'getit', 'carreon', 'chargeyikesdavid', 'daysdo', 'moneygive', 'getlate', 'requireoverall', 'favourites', 'onerous', 'endofyear', 'bitcoins', '90could', 'wanttheir', 'ergonomy', 'badest', 'knowits', 'notfying', '214they', '210', '118', 'processbesides', 'intern', 'etcwhat', 'bees', 'everydayplease', 'presetting', 'pratic', 'evils', 'believeri', 'disinclined', 'reliance', 'couldntwont', 'mazing', 'afforded', 'enthusiasm', 'tecnical', 'suite', 'pressurethe', 'unforgettable', 'delightfulwhile', 'spin', 'multiphase', 'phases', 'superlatives', 'withnever', '60shave', 'transform', 'greatinvestment', 'familythe', 'mentoring', 'sphere', 'admiration', 'meeded', 'himoverall', 'unbankyourselfwes', 'manuel', 'seely', 'fricken', 'postclosing', 'glance', 'handful', 'babysit', 'websiteive', 'etcthis', 'edits', 'trajectory', 'actionable', 'korn', 'compelled', '30dos', '200dos', 'disjointed', 'reconsolidate', 'jet', 'problemsand', 'rocksthank', 'creditworthy', 'overcharging', 'jobthe', 'serial', 'penalities', 'diamondplatinum', 'withdrawaland', 'breadwinner', 'creatinginvesting', 'precession', 'ratest', 'depositspayments', 'gravitas', 'coins2', 'customersin', 'halabi', 'haircut', 'ingenious', 'tribune', 'minneapolis', 'leaping', 'aspects1', 'debtbesides', 'loanand', 'critical2', 'monthi', 'dissolution', 'holdback', 'illfated', 'respondingto', 'questions3', 'overcollateralized', 'cycled', 'starsand', '0r', 'sponsored', 'contributing', 'outperform', 'profitswe', 'obstacle', 'amasand', 'armed', 'enlightened', 'authenticationwith', 'yourselfthanks', 'encouragingafter', 'usekeep', 'discarding', 'rottensounding', 'anyonei', 'overallbesides', 'backthis', 'latiest', 'processon', 'comparables', 'amamater', 'to75', 'unsubsidized', 'pence', 'becarefull', 'ihad', 'toomany', 'overstate', 'sport5', 'uswe', 'snowboard', 'owner3', 'amazingwhyisofi', 'stil', 'yeahmight', 'coaches', 'grrrrrrrrr', 'tokensfor', 'dayswith', 'backofthenapkin', 'maths', 'of009', 'recommendationsi', 'miskeyed', 'clerical', 'baitandswitched', 'termsbut', 'wrangling', 'atempts', 'resetsi', 'kotsenburg', 'convertion', 'usdethbtc', 'sage', 'olympian', 'goodmy', 'persistence', '1292', 'days4', 'flipping', 'metseriously', 'possessing', 'crm', 'nounfortunately', 'bbiased', 'sofiwhen', 'skews', 'dependend', 'deperately', 'others6', 'financialservices', 'severel', 'decomplicate', 'membersresume', 'transpert', 'gymics', 'certify', 'thoughhaving', 'fivestars', 'blending', 'niche', 'rollsworking', 'bakesand', 'tout', 'bumps', 'stupidly', 'himi', 'gifting', 'anyting', 'easylegit', 'restructuring', 'renew', 'achmy', 'thoughtfully', 'pushy', 'frim', 'deliqiuent', 'loana', 'positiveexcellent', 'usersyou', 'throughwhich', 'applicationapprovalfunding', 'amazinghonestly', 'pricier', 'ruthless', 'perplexed', 'whim', 'bankingfinancial', 'shaved', 'feeswhat', 'discussions', 'exploded', 'marketcap', 'personallyhighly', 'loansfinances', 'positivethey', 'truesofi', 'customerjody', 'unconventional', 'library', 'feeds', 'oneunderstandably', 'discountsthanks', 'brew', 'nothingthe', 'lolu', 'niceinterest', 'likebutthe', 'fitcelsius', 'informedi', 'fineevery', 'furniturei', 'inflacion', 'appgreat', 'loanbought', 'yearand', 'sofilast', 'servicedacquired', 'transformation', 'noember', 'born', 'depositgreat', 'dads', 'wisdom', 'fromeasy', 'casts', 'cfps', 'backi', 'appquality', 'gd', 'stained', 'coinonce', 'rag', 'commensurate', 'happeningi', 'orgination', 'haw', 'hem', 'fromthe', 'farnb', 'overwhelmingly', 'unbankyourselfcelsius', 'itinterest', 'mondayhodlen', 'cryptouser', 'intrestit', 'rainbows', 'bankalso', 'unicorns', 'processgreat', 'colkateral', 'bankswould', 'memy', 'smeared', 'dental', 'geti', 'supportgood', 'approvedthis', 'loanseasy', 'experiencie', 'greats', 'anticustomer', 'avarage', 'socially', 'sciences', 'neededi', 'introvert', 'finder', 'experienceseriously', 'loosened', 'quickwitted', 'albeit', 'muss', 'especial', 'viewer', 'stableeuro', 'navientgreat', 'prefect', '75000', 'election', 'paving', '450k', 'loangreat', 'rapidwill', 'skim', 'astoundingly', 'piecemeal', 'therm', 'puttering', 'soup', 'cloud', 'reassigned', 'grest', 'succed', 'hoodiei', 'revitalised', 'returnsmy', 'hangups', 'annum', '726', 'modernized', 'withdrawmy', 'diamond', 'cryto', 'curriences', 'daysor', 'enrolls', 'runup', '45which', 'ifwhen', 'thatd', 'revived', 'nonintrusive', 'humancentered', 'hassofi', 'logistics', 'slwzys', 'withdrwal', 'sm', 'servicehighly', 'cubersome', 'startedit', 'cryptowas', 'networkthank', 'replyvery', 'partake', 'consolidationrefinancing', 'feesive', '1this', 'cryptocurrenciesi', 'fliers', 'juli', 'expectationsthe', '21apysometimes', 'reallyanother', 'intuitiverobust', 'celsiussimple', 'lite', 'communicationeasy', 'extremity', '4625', 'subtle', 'umbrella', 'bunding', 'depositcelsius', 'shave', 'nelnet', 'algo', 'bnb', 'reinforcement', 'band', 'kava', 'zen', 'hodleing', 'verirification', 'smoothsofi', 'pressureno', 'developments', 'incentivize', 'communityin', 'joiners', 'negotiations', 'passage', 'thousandpositives', 'commited', '10kthe', 'ruins', 'platformsincerely', 'crusade', 'mild', 'contries', 'resides', 'deter', 'collectioni', 'ththe', 'websiteprocess', 'appliedsofi', 'navagate', '15year', 'usershodl', 'dent', 'entrust', 'withthank', 'amazingwhen', 'todaycelsius', 'dayin', 'coinstoken', 'follower', 'hooray', 'hockey', 'membersthe', 'cryoto', 'silver', 'shuffles', 'fairness', '1520', 'celit', 'applike', 'unit', '2004', 'larkin', 'brenda', 'deffinetly', 'baker', 'uphowever', 'kevin', 'irons', 'upgradesmaintenance', 'looong', 'shabby', 'bumpy', 'recollection', 'branched', 'mohel', 'carve', 'carlos', '225apy', 'ssid', 'thinkstill', 'celsiusa', 'thusbut', 'anexcellent', 'aproverall', 'sofialso', 'productsi', 'lackingi', 'scares', 'partied', 'caviler', 'ocean', 'ironed', 'ridiculos', 'renewalalthough', 'automaticrenewal', 'yearsthank', 'trim', 'xfer', '100kmy', 'businessassets', 'outstandingyou', 'sayquickly', 'prerogative', 'depositorconsumer', 'helocs', 'inspirational', 'football', 'longtrusted', 'infects', 'balloon', 'repercussions', 'ideabusiness', 'modelcompany', 'qas', 'candid', 'prestige', 'compartmentalized', 'signals', 'nowhopefully', '3my', '1266', 'strongeri', 'creditnow', '969', 'transitionmy', '35kin', 'lowcost', 'autoinvests', 'blames', 'clutter', 'scrutiny', 'barfor', 'toaster', 'themhappy', 'lifestyle', 'consume', 'digging', 'subtracting', 'thereim', '18500', 'youlastly', 'autodraft', 'smoothie', 'celery', 'chopped', '1244i', 'lowi', 'sos', 'consulted', 'blanki', 'periodthe', 'abrupt', 'cliff', 'mortgagethe', 'consolidatereduce', 'yeargod', 'individualsmerry', 'savingsive', 'allapparently', 'accountat', 'noto', 'principlebased', 'parentplus', 'ratiothanks', 'incomewould', 'validjustified', 'itlessons', 'negotiable', 'reviewsunderwriters', '1275sofi', 'varied', 'lendersthe', '1269', 'standingin', 'teething', 'winnings', 'vitamix', 'approachable', 'noble', '70ft', 'bird', 'renderingtransfer', 'rendering', 'ratescons', 'r22', 'robinson', 'inclusionthe', 'greedful', '848', 'presidentceo', 'unmentioned', 'carving', 'freedoms', 'fewi', 'modelmy', 'sooneri', 'celsianunbankyourself', 'helloi', 'discoveringi', 'timeupdate', 'exodus', 'completedon', 'cancelclose', 'yawl', 'thrive', 'timekw', 'bedroom', 'ethicsthis', 'thiskeep', 'comsharemoney2735416', 'dealoften', 'bonusive', 'regretsbut', 'verifiedmoney', 'masses', 'moneyunless', 'needsmichael', 'combinationi', 'tal', 'professionala', 'shiny', 'seedidnt', 'awry', 'humiliation', 'separates', 'associating', 'emailhow', 'ks', 'thathigh', 'houseboat', 'nono', 'ember', 'excruciating', 'improper', 'profitsthen', 'disrupted', 'ughhh', 'relentlessly', '319778', 'walletthey', '1377684', 'goround', 'authenticationpin', 'ctt', 'teether', 'signon', 'withdrawalsoffshore', 'launderingcensorshipillegal', 'switchbriberyembezzlementmoney', 'mondayedit', 'advertisingbait', 'foreignersyield', 'tofalse', 'uncover', 'godaddy', 'finra', 'collar', 'embezzlement', 'cancelledwith', 'betterrefi', 'ratenot', 'polish', 'demonstrated', 'employeerepresentative', 'relogin', 'readonlyfor', 'pours', 'impairment', 'nonresponsiveness', 'url', 'comsharemoney2764131just', 'upwwwsofi', 'bonusthe', 'voayger', 'quicklyonce', 'millenials', 'fooling', 'eww', 'fooledbut', 'saverconsumerwhatever', 'invester', 'benjamin', 'glare', 'allround', 'xfiles', 'hustler', 'companieskeep', 'workjohn', '300kbut', 'fiscally', 'blended', 'closedas', 'apri', 'verity', 'worknumber', 'emailsignored', 'clarificationthis', 'infomember', 'uhhes', 'conditionally', 'butthat', 'lgbtq', 'bigoted', 'joking', 'nameless', 'userunfriendly', 'disney', '500mo', 'pleasantry', 'approaching', 'voicemaili', 'disservice', 'jeopardy', 'rushed', 'herself', 'tuttle', 'unvalued', 'marking', 'aurthor', '90000', 'verifiedunderwriting', '819', 'processors', '811', 'clocked', 'documentssometimes', 'ledgerits', 'decemeber', 'vowed', 'punching', 'origins', 'tuition', '132018', 'knowthe', 'condominium', 'thoughwere', 'scrambled', 'relocking', 'relock', 'experiencepeople', 'doordash', 'encouraging', 'bigots', 'amateurish', 'procrastinating', 'oni', 'kickerwhen', 'pfffft', 'haveso', '2875', 'candidate', 'manor', 'populated', 'exceo', 'undue', 'maze', 'deniedlol', 'nodecided', 'pointasked', 'lockproblem', 'escrowsofi', 'daysat', 'didthe', 'buttbad', 'monthsyou', 'bewareif', 'democracy', 'dictatorship', 'phds', 'teachers', 'ironic', 'jealous', 'mike', 'guinness', 'orand', '57000', '10k700', 'actors', 'prequal', '275', 'officesafter', 'nfl', 'cohort', 'largescale', 'progression', 'ofs', 'loansparent', 'raid', 'addl', 'buckled', 'helpforbearance', 'mortgagesoficom', 'raysykes', 'sykes', 'throughedit', 'providereventually', 'string', 'dodged', 'drops', 'procrastinate', 'jerking', 'text13323339271for', 'rateone', 'financinga', 'jconsult', 'extrapaper', 'experiencedont', 'creditkarma', 'surgeonthe', '815', 'lawfully', 'sidedo', 'letdown', 'pto', '16hrs', 'deposithas', 'databases', 'elfi', 'sofiafter', 'septemberi', 'serviceadvocacy', 'proactively', 'septemberonce', 'forgoed', 'shortlythe', 'happenedthey', 'sofimohela', 'accounteveryone', 'prayer', 'contractorwhy', '203k', 'punch', '4000000', '820830', '14000000', 'focusing', 'scabs', 'pleasedont', 'boiler', 'gump', 'boneheads', 'twicelook', 'lyle', 'emailzach', 'filedi', 'parisi', 'monaco', 'safe2nd', 'keyboard', 'centuries', 'exclusionary', 'overt', 'compelling', 'scoresi', 'timeso', 'meti', 'everythingwithin', '7001000', '85k', '752', 'backstory', 'proves', 'politically', 'plate', 'plansofi', 'bankbad', '1050', 'unproffesional', 'karlson', 'machinen', 'moneymaking', 'entact', 'pastagain', 'timenow', 'xyz', 'autotexts', '1014', '041420', 'decentcould', 'hiuge', 'unforgiving', '8300', '763', '1040s', 'documentsbut', 'properties', 'hypenot', 'insinuating', 'worsened', 'solicited', 'misfortunes', 'screener', 'ent', 'booker', 'techdriven', 'canthasnt', 'postpone', 'robits', 'sofioh', 'marcussoo', '674', 'interestim', 'rescind', 'resorted', 'resubmission', 'bombarding', 'dishonestly', 'activeinvest', 'matchdenied', 'torture', 'wholly', 'unreassuring', 'systemgenerated', 'neglects', 'commend', 'outbreak', 'cv19', 'deferral', 'viriys', 'levy', 'isaac', 'recalculation', 'overcoming', 'undefeated', 'communitytry', 'rudest', 'fortified', 'forge', 'waycelsius', 'pour', 'sweat', 'labour', 'everat', 'banksters', 'grinding', 'airthis', 'blessings', 'cashflow', 'don', 'wellps', 'inappropriate', 'rateterm', 'anyones', 'itfull', 'fantatstic', 'reviewplatinum', 'withthanks', 'easythis', 'smartly', 'situationedit', 'complicatedoverall', 'vanishes', '7ki', 'logic', '190k', 'preliminary', '48k', 'yearsthen', 'celsiushubcom', 'whitepaper', 'celsiusnetworkwpcontentuploads201804celsius_whitepapermarch21pdf', 'ious', 'cody', 'cloak', 'dagger', 'incorporated', 'ukbut', 'beginningsome', '1374', 'discernible', 'synonyms', 'offeringsi', 'loantovalue', 'enablement', '070', 'attest', '1166', 'doe', 'transpired', '65k', 'thisto', 'console', 'geographic', 'kit', 'undergraduate', 'undergrad', 'coapplicants', 'topnotchcons', 'uiux', 'interfere', 'accountthanks', 'fundedit', 'changednow', 'lockbox', 'hkd', 'unbankyouself', 'moderately', 'walletexchange', 'sensational', '617', 'coachsofi', 'jes', 'customerits', 'cheesy', 'agountil', 'doubtful', 'madeafter', 'tackling', 'systemwithin', 'nonsensical', 'inschool', 'graduation', 'reprieve', 'levers', 'pleasethe', 'rat', 'pursuing', 'elsewhereupdate', 'favours', 'wealthinvest', 'mate', 'allan', 'worktax', 'wayits', 'freedomhave', 'doubting', 'speculative', 'spans', 'veering', 'elsa', 'businessthank', 'tad', 'idiocy', 'paternal', 'somethingthanks', 'glade', 'deferring', 'accrues', '3144', 'yieldif', 'cred', 'offramp', 'dayive', 'soonadding', 'lendkey', 'changedin', 'eldest', 'splendid', 'communityno', 'aged', 'advertisingcatch', 'sustain', 'rateshowever', 'flawlessfull', 'recommendedthey', 'trapi', 'didhoping', '33b', 'applicationonce', 'compan', 'anymoreyou', 'sofiplease', 'attentivewhile', 'abandon', 'unicorn', 'manthis', 'clientadditionally', 'endi', 'trusttoken', 'exposing', 'taud', 'sincethen', 'applicationtry', 'marketsince', 'frictioni', 'sofiabsolutely', '080', 'flywheel', 'advertisedive', 'loansthey', 'communityi', 'absorbed', 'autocredit', 'theresponse', 'flying', 'monthits', '1000month', 'independenthodlbe', 'indispensable', 'startcelsius', 'autopayments', 'react', 'zulu', 'budgeted', 'offwe', 'thatone', 'networkif', '1215', '9998', 'fats', 'retroactive', 'prefilled', 'sofifor', '171633e7c3', '3000month', 'federally', 'blinking', 'lightsbut', 'bah', 'gracious', 'mailsometime', 'awaynot', 'published', 'sincerelyrick', 'fiasco', 'zeroso', 'fraternity', 'duke', 'timewithin', 'backdated', 'scoreand', 'reasonfirstly', 'burying', '9724', 'defied', 'defintely', 'tought', 'trustworthly', 'discovery', 'requiredno', 'weeklu', 'themonly', 'therefire', 'overlayed', 'paperpen', 'noob', 'survived', 'lightens', 'honour', '2324', 'quantity', 'thriving', 'faxes', 'prerequisites', 'followedup', 'post2008', 'tougher', 'loand', 'ere', 'interestbut', '13it', 'groceriesloved', 'conditioned', 'shutdown', 'lyingno', 'pretense', 'intuitiv', 'reviving', 'allhonestly', 'princple', 'repose', 'nowjames', 'kjnk5252', 'loyaltyi', '818', 'giveaways', 'degeneres', 'againthe', 'industrytry', 'unforgettably', 'nebulous', 'flop', 'likable', 'pressuring', 'refis', '835', 'approached', 'minemore', 'myselfkeep', 'momentapp', 'feesthe', 'wayloved', 'celebrating', 'personality', 'whatsoeveri', 'monday2', 'downturn', 'siusnetworkappli', 'nkt70oijj2abb', 'collateralised', 'purchasesi', 'contributed', 'messiness', 'utilising', 'otc', 'informative55', 'vibes', '100month', '325month', '92k', '807', 'datapoints', 'banksmajor', '14month', 'cryptogreat', 'communityzsoltt', 'luckive', 'ratesits', 'birthdays', 'reinvented', 'traderalso', 'pummeled', 'ratespros1', 'market3', 'deception', '0625', 'jacking', 'crystal', 'rachel', 'prequalifying', 'loansi', 'yahoocom', 'thanksjacksumetta', 'fiscal', 'withlightstream', 'couldn', 'vaultsthis', 'aliza', 'vaults3', 'purchases2', '15years', 'beeing', 'luring', 'follows1', 'ratethe', 'vaults', 'moneypak', 'subsequent', 'learningsi', 'goalsive', 'misread', 'mondaysnot', 'tokensi', 'questions5', 'allalso', '07', 'innacurate', 'loan6', 'funds7', 'weekcons1', 'stuckslow', 'roboadvisor', 'mature', 'allinclusive', 'textapp', 'reviewedadded', 'raking', 'cryptospace', 'truei', 'elimination', 'followups', 'sencierly', '750student', 'complement', '30517', 'supportrepresentatives', 'frogs', 'differentiates', 'witdrawal', 'switchingto', 'httpscel', 'sius', 'nk', 'lossso', '5000usd', 'homedays', 'teenagers', '465000', 'celsiuss', 'accountsince', 'stablecoinsthe', 'olive', '265000', 'entities', 'readerscelsius', 'firstthank', 'futuristic', 'confidencei', 'genious', 'onlineso', 'aquiredeverything', 'wrongapprove', 'triggering', 'robocalled', 'cryptoassets', 'meminor', 'idling', 'timers', 'suffice', 'offerive', 'redid', 'li', 'exposed', 'savingsone', 'debitcard', 'useas', 'consumes', 'daysfor', 'cornucopia', '1380', 'gemini', 'mondaybanks', 'personshe', 'forefront', 'teammark', 'aspectsmy', 'amazingthe', 'freeomg', 'executes', 'radically', 'experance', 'shareholders', 'impactful', 'assetsfor', 'pursuingour', 'nothingwe', 'announcement', 'mineseveral', 'depositwithdraw', 'feesyes', 'feesinterest', 'ratesofi', 'backwhen', 'sp500if', 'wellcelsius', '667', 'believes', 'woooowwww', 'healthy', 'onw', 'mohelaboth', '2149', 'tokensjust', 'feesbtw', '133600fba3', 'motion', 'motioni', 'seat', 'teammy', 'hodlingthis', 'futur', 'youalways', 'doind', 'fari', 'updatingps', 'monthyou', 'btcmonthly', 'recommoment', 'yahoos', 'witht', 'systematically', 'reviewfrom', 'cartel', 'viability', 'commonbond', 'laon', 'nothingcommonbondcom', 'organically', 'sutdent', 'coincash', 'goose', 'realizeing', 'servicesexchangeswallets', 'confidencethey', 'questionnaire', 'knit', 'ranking', 'stressless', 'discussing', 'hotmail', 'profitably', 'correlated', 'depththank', 'tokeni', 'operatethe', 'more2']\n"
          ]
        }
      ]
    },
    {
      "cell_type": "code",
      "source": [
        "\n",
        "similarity_score = glove_model.wv.similarity('to', 'the')\n",
        "print(f\"Similarity between 'word1' and 'word2': {similarity_score}\")\n"
      ],
      "metadata": {
        "colab": {
          "base_uri": "https://localhost:8080/",
          "height": 0
        },
        "id": "Fl90bQRagbVu",
        "outputId": "e0921896-edf7-4996-c1bf-9d75efbb36cb"
      },
      "execution_count": 118,
      "outputs": [
        {
          "output_type": "stream",
          "name": "stdout",
          "text": [
            "Similarity between 'word1' and 'word2': 0.5558966398239136\n"
          ]
        }
      ]
    },
    {
      "cell_type": "code",
      "source": [
        "!python -m spacy download en_core_web_sm\n"
      ],
      "metadata": {
        "colab": {
          "base_uri": "https://localhost:8080/",
          "height": 0
        },
        "id": "nVtL5o1hib-R",
        "outputId": "45ee0d2f-5296-4c29-e5da-560f8596a882"
      },
      "execution_count": 125,
      "outputs": [
        {
          "output_type": "stream",
          "name": "stdout",
          "text": [
            "2023-11-17 13:52:32.574024: E tensorflow/compiler/xla/stream_executor/cuda/cuda_dnn.cc:9342] Unable to register cuDNN factory: Attempting to register factory for plugin cuDNN when one has already been registered\n",
            "2023-11-17 13:52:32.574098: E tensorflow/compiler/xla/stream_executor/cuda/cuda_fft.cc:609] Unable to register cuFFT factory: Attempting to register factory for plugin cuFFT when one has already been registered\n",
            "2023-11-17 13:52:32.574154: E tensorflow/compiler/xla/stream_executor/cuda/cuda_blas.cc:1518] Unable to register cuBLAS factory: Attempting to register factory for plugin cuBLAS when one has already been registered\n",
            "2023-11-17 13:52:34.040246: W tensorflow/compiler/tf2tensorrt/utils/py_utils.cc:38] TF-TRT Warning: Could not find TensorRT\n",
            "Collecting en-core-web-sm==3.6.0\n",
            "  Downloading https://github.com/explosion/spacy-models/releases/download/en_core_web_sm-3.6.0/en_core_web_sm-3.6.0-py3-none-any.whl (12.8 MB)\n",
            "\u001b[2K     \u001b[90m━━━━━━━━━━━━━━━━━━━━━━━━━━━━━━━━━━━━━━━━\u001b[0m \u001b[32m12.8/12.8 MB\u001b[0m \u001b[31m35.6 MB/s\u001b[0m eta \u001b[36m0:00:00\u001b[0m\n",
            "\u001b[?25hRequirement already satisfied: spacy<3.7.0,>=3.6.0 in /usr/local/lib/python3.10/dist-packages (from en-core-web-sm==3.6.0) (3.6.1)\n",
            "Requirement already satisfied: spacy-legacy<3.1.0,>=3.0.11 in /usr/local/lib/python3.10/dist-packages (from spacy<3.7.0,>=3.6.0->en-core-web-sm==3.6.0) (3.0.12)\n",
            "Requirement already satisfied: spacy-loggers<2.0.0,>=1.0.0 in /usr/local/lib/python3.10/dist-packages (from spacy<3.7.0,>=3.6.0->en-core-web-sm==3.6.0) (1.0.5)\n",
            "Requirement already satisfied: murmurhash<1.1.0,>=0.28.0 in /usr/local/lib/python3.10/dist-packages (from spacy<3.7.0,>=3.6.0->en-core-web-sm==3.6.0) (1.0.10)\n",
            "Requirement already satisfied: cymem<2.1.0,>=2.0.2 in /usr/local/lib/python3.10/dist-packages (from spacy<3.7.0,>=3.6.0->en-core-web-sm==3.6.0) (2.0.8)\n",
            "Requirement already satisfied: preshed<3.1.0,>=3.0.2 in /usr/local/lib/python3.10/dist-packages (from spacy<3.7.0,>=3.6.0->en-core-web-sm==3.6.0) (3.0.9)\n",
            "Requirement already satisfied: thinc<8.2.0,>=8.1.8 in /usr/local/lib/python3.10/dist-packages (from spacy<3.7.0,>=3.6.0->en-core-web-sm==3.6.0) (8.1.12)\n",
            "Requirement already satisfied: wasabi<1.2.0,>=0.9.1 in /usr/local/lib/python3.10/dist-packages (from spacy<3.7.0,>=3.6.0->en-core-web-sm==3.6.0) (1.1.2)\n",
            "Requirement already satisfied: srsly<3.0.0,>=2.4.3 in /usr/local/lib/python3.10/dist-packages (from spacy<3.7.0,>=3.6.0->en-core-web-sm==3.6.0) (2.4.8)\n",
            "Requirement already satisfied: catalogue<2.1.0,>=2.0.6 in /usr/local/lib/python3.10/dist-packages (from spacy<3.7.0,>=3.6.0->en-core-web-sm==3.6.0) (2.0.10)\n",
            "Requirement already satisfied: typer<0.10.0,>=0.3.0 in /usr/local/lib/python3.10/dist-packages (from spacy<3.7.0,>=3.6.0->en-core-web-sm==3.6.0) (0.9.0)\n",
            "Requirement already satisfied: pathy>=0.10.0 in /usr/local/lib/python3.10/dist-packages (from spacy<3.7.0,>=3.6.0->en-core-web-sm==3.6.0) (0.10.3)\n",
            "Requirement already satisfied: smart-open<7.0.0,>=5.2.1 in /usr/local/lib/python3.10/dist-packages (from spacy<3.7.0,>=3.6.0->en-core-web-sm==3.6.0) (6.4.0)\n",
            "Requirement already satisfied: tqdm<5.0.0,>=4.38.0 in /usr/local/lib/python3.10/dist-packages (from spacy<3.7.0,>=3.6.0->en-core-web-sm==3.6.0) (4.66.1)\n",
            "Requirement already satisfied: numpy>=1.15.0 in /usr/local/lib/python3.10/dist-packages (from spacy<3.7.0,>=3.6.0->en-core-web-sm==3.6.0) (1.23.5)\n",
            "Requirement already satisfied: requests<3.0.0,>=2.13.0 in /usr/local/lib/python3.10/dist-packages (from spacy<3.7.0,>=3.6.0->en-core-web-sm==3.6.0) (2.31.0)\n",
            "Requirement already satisfied: pydantic!=1.8,!=1.8.1,<3.0.0,>=1.7.4 in /usr/local/lib/python3.10/dist-packages (from spacy<3.7.0,>=3.6.0->en-core-web-sm==3.6.0) (1.10.13)\n",
            "Requirement already satisfied: jinja2 in /usr/local/lib/python3.10/dist-packages (from spacy<3.7.0,>=3.6.0->en-core-web-sm==3.6.0) (3.1.2)\n",
            "Requirement already satisfied: setuptools in /usr/local/lib/python3.10/dist-packages (from spacy<3.7.0,>=3.6.0->en-core-web-sm==3.6.0) (67.7.2)\n",
            "Requirement already satisfied: packaging>=20.0 in /usr/local/lib/python3.10/dist-packages (from spacy<3.7.0,>=3.6.0->en-core-web-sm==3.6.0) (23.2)\n",
            "Requirement already satisfied: langcodes<4.0.0,>=3.2.0 in /usr/local/lib/python3.10/dist-packages (from spacy<3.7.0,>=3.6.0->en-core-web-sm==3.6.0) (3.3.0)\n",
            "Requirement already satisfied: typing-extensions>=4.2.0 in /usr/local/lib/python3.10/dist-packages (from pydantic!=1.8,!=1.8.1,<3.0.0,>=1.7.4->spacy<3.7.0,>=3.6.0->en-core-web-sm==3.6.0) (4.5.0)\n",
            "Requirement already satisfied: charset-normalizer<4,>=2 in /usr/local/lib/python3.10/dist-packages (from requests<3.0.0,>=2.13.0->spacy<3.7.0,>=3.6.0->en-core-web-sm==3.6.0) (3.3.2)\n",
            "Requirement already satisfied: idna<4,>=2.5 in /usr/local/lib/python3.10/dist-packages (from requests<3.0.0,>=2.13.0->spacy<3.7.0,>=3.6.0->en-core-web-sm==3.6.0) (3.4)\n",
            "Requirement already satisfied: urllib3<3,>=1.21.1 in /usr/local/lib/python3.10/dist-packages (from requests<3.0.0,>=2.13.0->spacy<3.7.0,>=3.6.0->en-core-web-sm==3.6.0) (2.0.7)\n",
            "Requirement already satisfied: certifi>=2017.4.17 in /usr/local/lib/python3.10/dist-packages (from requests<3.0.0,>=2.13.0->spacy<3.7.0,>=3.6.0->en-core-web-sm==3.6.0) (2023.7.22)\n",
            "Requirement already satisfied: blis<0.8.0,>=0.7.8 in /usr/local/lib/python3.10/dist-packages (from thinc<8.2.0,>=8.1.8->spacy<3.7.0,>=3.6.0->en-core-web-sm==3.6.0) (0.7.11)\n",
            "Requirement already satisfied: confection<1.0.0,>=0.0.1 in /usr/local/lib/python3.10/dist-packages (from thinc<8.2.0,>=8.1.8->spacy<3.7.0,>=3.6.0->en-core-web-sm==3.6.0) (0.1.3)\n",
            "Requirement already satisfied: click<9.0.0,>=7.1.1 in /usr/local/lib/python3.10/dist-packages (from typer<0.10.0,>=0.3.0->spacy<3.7.0,>=3.6.0->en-core-web-sm==3.6.0) (8.1.7)\n",
            "Requirement already satisfied: MarkupSafe>=2.0 in /usr/local/lib/python3.10/dist-packages (from jinja2->spacy<3.7.0,>=3.6.0->en-core-web-sm==3.6.0) (2.1.3)\n",
            "\u001b[38;5;2m✔ Download and installation successful\u001b[0m\n",
            "You can now load the package via spacy.load('en_core_web_sm')\n"
          ]
        }
      ]
    },
    {
      "cell_type": "code",
      "source": [
        "#Recurrent NN\n",
        "import spacy\n",
        "from tensorflow.keras.preprocessing.sequence import pad_sequences\n",
        "from sklearn.model_selection import train_test_split\n",
        "from tensorflow.keras.models import Sequential\n",
        "from tensorflow.keras.layers import LSTM, Dense, Embedding\n",
        "\n",
        "\n",
        "nlp = spacy.load(\"en_core_web_sm\", disable=[\"parser\", \"ner\"])\n",
        "\n",
        "\n",
        "def tokenize_text(text):\n",
        "    doc = nlp(text)\n",
        "    return [token.text for token in doc if not token.is_space]\n",
        "\n",
        "\n",
        "X_train_tokens = [tokenize_text(text) for text in X_train]\n",
        "X_test_tokens = [tokenize_text(text) for text in X_test]\n",
        "\n",
        "\n",
        "vocab = set()\n",
        "for tokens in X_train_tokens:\n",
        "    vocab.update(tokens)\n",
        "\n",
        "\n",
        "word2idx = {word: idx + 1 for idx, word in enumerate(vocab)}\n",
        "idx2word = {idx: word for word, idx in word2idx.items()}\n",
        "\n",
        "\n",
        "X_train_seq = [[word2idx[word] for word in tokens] for tokens in X_train_tokens]\n",
        "X_test_seq = [[word2idx.get(word, 0) for word in tokens] for tokens in X_test_tokens]\n",
        "\n",
        "\n",
        "max_len = max(len(seq) for seq in X_train_seq + X_test_seq)\n",
        "X_train_pad = pad_sequences(X_train_seq, maxlen=max_len, padding='post')\n",
        "X_test_pad = pad_sequences(X_test_seq, maxlen=max_len, padding='post')\n",
        "\n",
        "\n",
        "vocab_size = len(vocab) + 1\n",
        "rnn_model = Sequential()\n",
        "rnn_model.add(Embedding(vocab_size, 100, input_length=max_len))\n",
        "rnn_model.add(LSTM(128, dropout=0.2, recurrent_dropout=0.2))\n",
        "rnn_model.add(Dense(1, activation='sigmoid'))\n",
        "rnn_model.compile(loss='binary_crossentropy', optimizer='adam', metrics=['accuracy'])\n",
        "\n",
        "\n",
        "rnn_model.fit(X_train_pad, Y_train, epochs=5, batch_size=32, validation_data=(X_test_pad, Y_test))\n",
        "\n",
        "\n",
        "rnn_scores = rnn_model.evaluate(X_test_pad, Y_test)\n",
        "\n",
        "print(\"Loss:\", rnn_scores[0])\n",
        "print(\"Accuracy:\", rnn_scores[1])\n"
      ],
      "metadata": {
        "colab": {
          "base_uri": "https://localhost:8080/",
          "height": 0
        },
        "id": "pbgm2X4foSt8",
        "outputId": "98bcdbee-4f93-443f-9610-b05b2e707a63"
      },
      "execution_count": 132,
      "outputs": [
        {
          "output_type": "stream",
          "name": "stdout",
          "text": [
            "Loss: 0.325\n",
            "Accuracy: 0.875\n"
          ]
        }
      ]
    },
    {
      "cell_type": "code",
      "source": [
        "!pip install tensorflow\n",
        "!pip install keras\n"
      ],
      "metadata": {
        "colab": {
          "base_uri": "https://localhost:8080/",
          "height": 0
        },
        "id": "BLW2yaG6kR43",
        "outputId": "de12fd1e-d1f8-4c87-add2-f5f41328c934"
      },
      "execution_count": 128,
      "outputs": [
        {
          "output_type": "stream",
          "name": "stdout",
          "text": [
            "Requirement already satisfied: tensorflow in /usr/local/lib/python3.10/dist-packages (2.14.0)\n",
            "Requirement already satisfied: absl-py>=1.0.0 in /usr/local/lib/python3.10/dist-packages (from tensorflow) (1.4.0)\n",
            "Requirement already satisfied: astunparse>=1.6.0 in /usr/local/lib/python3.10/dist-packages (from tensorflow) (1.6.3)\n",
            "Requirement already satisfied: flatbuffers>=23.5.26 in /usr/local/lib/python3.10/dist-packages (from tensorflow) (23.5.26)\n",
            "Requirement already satisfied: gast!=0.5.0,!=0.5.1,!=0.5.2,>=0.2.1 in /usr/local/lib/python3.10/dist-packages (from tensorflow) (0.5.4)\n",
            "Requirement already satisfied: google-pasta>=0.1.1 in /usr/local/lib/python3.10/dist-packages (from tensorflow) (0.2.0)\n",
            "Requirement already satisfied: h5py>=2.9.0 in /usr/local/lib/python3.10/dist-packages (from tensorflow) (3.9.0)\n",
            "Requirement already satisfied: libclang>=13.0.0 in /usr/local/lib/python3.10/dist-packages (from tensorflow) (16.0.6)\n",
            "Requirement already satisfied: ml-dtypes==0.2.0 in /usr/local/lib/python3.10/dist-packages (from tensorflow) (0.2.0)\n",
            "Requirement already satisfied: numpy>=1.23.5 in /usr/local/lib/python3.10/dist-packages (from tensorflow) (1.23.5)\n",
            "Requirement already satisfied: opt-einsum>=2.3.2 in /usr/local/lib/python3.10/dist-packages (from tensorflow) (3.3.0)\n",
            "Requirement already satisfied: packaging in /usr/local/lib/python3.10/dist-packages (from tensorflow) (23.2)\n",
            "Requirement already satisfied: protobuf!=4.21.0,!=4.21.1,!=4.21.2,!=4.21.3,!=4.21.4,!=4.21.5,<5.0.0dev,>=3.20.3 in /usr/local/lib/python3.10/dist-packages (from tensorflow) (3.20.3)\n",
            "Requirement already satisfied: setuptools in /usr/local/lib/python3.10/dist-packages (from tensorflow) (67.7.2)\n",
            "Requirement already satisfied: six>=1.12.0 in /usr/local/lib/python3.10/dist-packages (from tensorflow) (1.16.0)\n",
            "Requirement already satisfied: termcolor>=1.1.0 in /usr/local/lib/python3.10/dist-packages (from tensorflow) (2.3.0)\n",
            "Requirement already satisfied: typing-extensions>=3.6.6 in /usr/local/lib/python3.10/dist-packages (from tensorflow) (4.5.0)\n",
            "Requirement already satisfied: wrapt<1.15,>=1.11.0 in /usr/local/lib/python3.10/dist-packages (from tensorflow) (1.14.1)\n",
            "Requirement already satisfied: tensorflow-io-gcs-filesystem>=0.23.1 in /usr/local/lib/python3.10/dist-packages (from tensorflow) (0.34.0)\n",
            "Requirement already satisfied: grpcio<2.0,>=1.24.3 in /usr/local/lib/python3.10/dist-packages (from tensorflow) (1.59.2)\n",
            "Requirement already satisfied: tensorboard<2.15,>=2.14 in /usr/local/lib/python3.10/dist-packages (from tensorflow) (2.14.1)\n",
            "Requirement already satisfied: tensorflow-estimator<2.15,>=2.14.0 in /usr/local/lib/python3.10/dist-packages (from tensorflow) (2.14.0)\n",
            "Requirement already satisfied: keras<2.15,>=2.14.0 in /usr/local/lib/python3.10/dist-packages (from tensorflow) (2.14.0)\n",
            "Requirement already satisfied: wheel<1.0,>=0.23.0 in /usr/local/lib/python3.10/dist-packages (from astunparse>=1.6.0->tensorflow) (0.41.3)\n",
            "Requirement already satisfied: google-auth<3,>=1.6.3 in /usr/local/lib/python3.10/dist-packages (from tensorboard<2.15,>=2.14->tensorflow) (2.17.3)\n",
            "Requirement already satisfied: google-auth-oauthlib<1.1,>=0.5 in /usr/local/lib/python3.10/dist-packages (from tensorboard<2.15,>=2.14->tensorflow) (1.0.0)\n",
            "Requirement already satisfied: markdown>=2.6.8 in /usr/local/lib/python3.10/dist-packages (from tensorboard<2.15,>=2.14->tensorflow) (3.5.1)\n",
            "Requirement already satisfied: requests<3,>=2.21.0 in /usr/local/lib/python3.10/dist-packages (from tensorboard<2.15,>=2.14->tensorflow) (2.31.0)\n",
            "Requirement already satisfied: tensorboard-data-server<0.8.0,>=0.7.0 in /usr/local/lib/python3.10/dist-packages (from tensorboard<2.15,>=2.14->tensorflow) (0.7.2)\n",
            "Requirement already satisfied: werkzeug>=1.0.1 in /usr/local/lib/python3.10/dist-packages (from tensorboard<2.15,>=2.14->tensorflow) (3.0.1)\n",
            "Requirement already satisfied: cachetools<6.0,>=2.0.0 in /usr/local/lib/python3.10/dist-packages (from google-auth<3,>=1.6.3->tensorboard<2.15,>=2.14->tensorflow) (5.3.2)\n",
            "Requirement already satisfied: pyasn1-modules>=0.2.1 in /usr/local/lib/python3.10/dist-packages (from google-auth<3,>=1.6.3->tensorboard<2.15,>=2.14->tensorflow) (0.3.0)\n",
            "Requirement already satisfied: rsa<5,>=3.1.4 in /usr/local/lib/python3.10/dist-packages (from google-auth<3,>=1.6.3->tensorboard<2.15,>=2.14->tensorflow) (4.9)\n",
            "Requirement already satisfied: requests-oauthlib>=0.7.0 in /usr/local/lib/python3.10/dist-packages (from google-auth-oauthlib<1.1,>=0.5->tensorboard<2.15,>=2.14->tensorflow) (1.3.1)\n",
            "Requirement already satisfied: charset-normalizer<4,>=2 in /usr/local/lib/python3.10/dist-packages (from requests<3,>=2.21.0->tensorboard<2.15,>=2.14->tensorflow) (3.3.2)\n",
            "Requirement already satisfied: idna<4,>=2.5 in /usr/local/lib/python3.10/dist-packages (from requests<3,>=2.21.0->tensorboard<2.15,>=2.14->tensorflow) (3.4)\n",
            "Requirement already satisfied: urllib3<3,>=1.21.1 in /usr/local/lib/python3.10/dist-packages (from requests<3,>=2.21.0->tensorboard<2.15,>=2.14->tensorflow) (2.0.7)\n",
            "Requirement already satisfied: certifi>=2017.4.17 in /usr/local/lib/python3.10/dist-packages (from requests<3,>=2.21.0->tensorboard<2.15,>=2.14->tensorflow) (2023.7.22)\n",
            "Requirement already satisfied: MarkupSafe>=2.1.1 in /usr/local/lib/python3.10/dist-packages (from werkzeug>=1.0.1->tensorboard<2.15,>=2.14->tensorflow) (2.1.3)\n",
            "Requirement already satisfied: pyasn1<0.6.0,>=0.4.6 in /usr/local/lib/python3.10/dist-packages (from pyasn1-modules>=0.2.1->google-auth<3,>=1.6.3->tensorboard<2.15,>=2.14->tensorflow) (0.5.0)\n",
            "Requirement already satisfied: oauthlib>=3.0.0 in /usr/local/lib/python3.10/dist-packages (from requests-oauthlib>=0.7.0->google-auth-oauthlib<1.1,>=0.5->tensorboard<2.15,>=2.14->tensorflow) (3.2.2)\n",
            "Requirement already satisfied: keras in /usr/local/lib/python3.10/dist-packages (2.14.0)\n"
          ]
        }
      ]
    },
    {
      "cell_type": "code",
      "source": [
        "#lemitization for further preprocessing\n",
        "def lemmatize_text(text):\n",
        "    lemmatizer = WordNetLemmatizer()\n",
        "    tokens = word_tokenize(text)\n",
        "    lemmatized_text = ' '.join([lemmatizer.lemmatize(word) for word in tokens])\n",
        "    return lemmatized_text\n"
      ],
      "metadata": {
        "id": "-mmMb-gvGve6"
      },
      "execution_count": 78,
      "outputs": []
    },
    {
      "cell_type": "code",
      "source": [
        "df['review_head_lemmatized'] = df['review_head'].apply(lemmatize_text)\n",
        "df['review_body_lemmatized'] = df['review_body'].apply(lemmatize_text)"
      ],
      "metadata": {
        "id": "_3Glq1CgGyzv"
      },
      "execution_count": 79,
      "outputs": []
    },
    {
      "cell_type": "code",
      "source": [
        "df.head()"
      ],
      "metadata": {
        "colab": {
          "base_uri": "https://localhost:8080/",
          "height": 293
        },
        "id": "QaqLqFlkG1vR",
        "outputId": "e4887fa4-6fab-4215-d072-dbdf947bbdf6"
      },
      "execution_count": 80,
      "outputs": [
        {
          "output_type": "execute_result",
          "data": {
            "text/plain": [
              "  country  stars                       review_head  \\\n",
              "0      GB      5      the best in all that matters   \n",
              "1      US      5             celsius network rocks   \n",
              "2      VN      1              i despise it so much   \n",
              "3      US      1  worst customer service and worst   \n",
              "4      US      5     celsius is the best in crypto   \n",
              "\n",
              "                                         review_body  \\\n",
              "0  the best in all that matters its a great platf...   \n",
              "1  if you are looking for the best homeforcrypto ...   \n",
              "2  i despise it so much transferring to other wal...   \n",
              "3  worst customer service and worst company to de...   \n",
              "4  celsius is the most transparent and responsive...   \n",
              "\n",
              "             review_head_lemmatized  \\\n",
              "0       the best in all that matter   \n",
              "1              celsius network rock   \n",
              "2              i despise it so much   \n",
              "3  worst customer service and worst   \n",
              "4     celsius is the best in crypto   \n",
              "\n",
              "                              review_body_lemmatized  \n",
              "0  the best in all that matter it a great platfor...  \n",
              "1  if you are looking for the best homeforcrypto ...  \n",
              "2  i despise it so much transferring to other wal...  \n",
              "3  worst customer service and worst company to de...  \n",
              "4  celsius is the most transparent and responsive...  "
            ],
            "text/html": [
              "\n",
              "  <div id=\"df-8dc32352-32e8-47ac-8add-8dff215e076c\" class=\"colab-df-container\">\n",
              "    <div>\n",
              "<style scoped>\n",
              "    .dataframe tbody tr th:only-of-type {\n",
              "        vertical-align: middle;\n",
              "    }\n",
              "\n",
              "    .dataframe tbody tr th {\n",
              "        vertical-align: top;\n",
              "    }\n",
              "\n",
              "    .dataframe thead th {\n",
              "        text-align: right;\n",
              "    }\n",
              "</style>\n",
              "<table border=\"1\" class=\"dataframe\">\n",
              "  <thead>\n",
              "    <tr style=\"text-align: right;\">\n",
              "      <th></th>\n",
              "      <th>country</th>\n",
              "      <th>stars</th>\n",
              "      <th>review_head</th>\n",
              "      <th>review_body</th>\n",
              "      <th>review_head_lemmatized</th>\n",
              "      <th>review_body_lemmatized</th>\n",
              "    </tr>\n",
              "  </thead>\n",
              "  <tbody>\n",
              "    <tr>\n",
              "      <th>0</th>\n",
              "      <td>GB</td>\n",
              "      <td>5</td>\n",
              "      <td>the best in all that matters</td>\n",
              "      <td>the best in all that matters its a great platf...</td>\n",
              "      <td>the best in all that matter</td>\n",
              "      <td>the best in all that matter it a great platfor...</td>\n",
              "    </tr>\n",
              "    <tr>\n",
              "      <th>1</th>\n",
              "      <td>US</td>\n",
              "      <td>5</td>\n",
              "      <td>celsius network rocks</td>\n",
              "      <td>if you are looking for the best homeforcrypto ...</td>\n",
              "      <td>celsius network rock</td>\n",
              "      <td>if you are looking for the best homeforcrypto ...</td>\n",
              "    </tr>\n",
              "    <tr>\n",
              "      <th>2</th>\n",
              "      <td>VN</td>\n",
              "      <td>1</td>\n",
              "      <td>i despise it so much</td>\n",
              "      <td>i despise it so much transferring to other wal...</td>\n",
              "      <td>i despise it so much</td>\n",
              "      <td>i despise it so much transferring to other wal...</td>\n",
              "    </tr>\n",
              "    <tr>\n",
              "      <th>3</th>\n",
              "      <td>US</td>\n",
              "      <td>1</td>\n",
              "      <td>worst customer service and worst</td>\n",
              "      <td>worst customer service and worst company to de...</td>\n",
              "      <td>worst customer service and worst</td>\n",
              "      <td>worst customer service and worst company to de...</td>\n",
              "    </tr>\n",
              "    <tr>\n",
              "      <th>4</th>\n",
              "      <td>US</td>\n",
              "      <td>5</td>\n",
              "      <td>celsius is the best in crypto</td>\n",
              "      <td>celsius is the most transparent and responsive...</td>\n",
              "      <td>celsius is the best in crypto</td>\n",
              "      <td>celsius is the most transparent and responsive...</td>\n",
              "    </tr>\n",
              "  </tbody>\n",
              "</table>\n",
              "</div>\n",
              "    <div class=\"colab-df-buttons\">\n",
              "\n",
              "  <div class=\"colab-df-container\">\n",
              "    <button class=\"colab-df-convert\" onclick=\"convertToInteractive('df-8dc32352-32e8-47ac-8add-8dff215e076c')\"\n",
              "            title=\"Convert this dataframe to an interactive table.\"\n",
              "            style=\"display:none;\">\n",
              "\n",
              "  <svg xmlns=\"http://www.w3.org/2000/svg\" height=\"24px\" viewBox=\"0 -960 960 960\">\n",
              "    <path d=\"M120-120v-720h720v720H120Zm60-500h600v-160H180v160Zm220 220h160v-160H400v160Zm0 220h160v-160H400v160ZM180-400h160v-160H180v160Zm440 0h160v-160H620v160ZM180-180h160v-160H180v160Zm440 0h160v-160H620v160Z\"/>\n",
              "  </svg>\n",
              "    </button>\n",
              "\n",
              "  <style>\n",
              "    .colab-df-container {\n",
              "      display:flex;\n",
              "      gap: 12px;\n",
              "    }\n",
              "\n",
              "    .colab-df-convert {\n",
              "      background-color: #E8F0FE;\n",
              "      border: none;\n",
              "      border-radius: 50%;\n",
              "      cursor: pointer;\n",
              "      display: none;\n",
              "      fill: #1967D2;\n",
              "      height: 32px;\n",
              "      padding: 0 0 0 0;\n",
              "      width: 32px;\n",
              "    }\n",
              "\n",
              "    .colab-df-convert:hover {\n",
              "      background-color: #E2EBFA;\n",
              "      box-shadow: 0px 1px 2px rgba(60, 64, 67, 0.3), 0px 1px 3px 1px rgba(60, 64, 67, 0.15);\n",
              "      fill: #174EA6;\n",
              "    }\n",
              "\n",
              "    .colab-df-buttons div {\n",
              "      margin-bottom: 4px;\n",
              "    }\n",
              "\n",
              "    [theme=dark] .colab-df-convert {\n",
              "      background-color: #3B4455;\n",
              "      fill: #D2E3FC;\n",
              "    }\n",
              "\n",
              "    [theme=dark] .colab-df-convert:hover {\n",
              "      background-color: #434B5C;\n",
              "      box-shadow: 0px 1px 3px 1px rgba(0, 0, 0, 0.15);\n",
              "      filter: drop-shadow(0px 1px 2px rgba(0, 0, 0, 0.3));\n",
              "      fill: #FFFFFF;\n",
              "    }\n",
              "  </style>\n",
              "\n",
              "    <script>\n",
              "      const buttonEl =\n",
              "        document.querySelector('#df-8dc32352-32e8-47ac-8add-8dff215e076c button.colab-df-convert');\n",
              "      buttonEl.style.display =\n",
              "        google.colab.kernel.accessAllowed ? 'block' : 'none';\n",
              "\n",
              "      async function convertToInteractive(key) {\n",
              "        const element = document.querySelector('#df-8dc32352-32e8-47ac-8add-8dff215e076c');\n",
              "        const dataTable =\n",
              "          await google.colab.kernel.invokeFunction('convertToInteractive',\n",
              "                                                    [key], {});\n",
              "        if (!dataTable) return;\n",
              "\n",
              "        const docLinkHtml = 'Like what you see? Visit the ' +\n",
              "          '<a target=\"_blank\" href=https://colab.research.google.com/notebooks/data_table.ipynb>data table notebook</a>'\n",
              "          + ' to learn more about interactive tables.';\n",
              "        element.innerHTML = '';\n",
              "        dataTable['output_type'] = 'display_data';\n",
              "        await google.colab.output.renderOutput(dataTable, element);\n",
              "        const docLink = document.createElement('div');\n",
              "        docLink.innerHTML = docLinkHtml;\n",
              "        element.appendChild(docLink);\n",
              "      }\n",
              "    </script>\n",
              "  </div>\n",
              "\n",
              "\n",
              "<div id=\"df-599c77b1-84cc-4b56-9c62-1c6f8ad2e991\">\n",
              "  <button class=\"colab-df-quickchart\" onclick=\"quickchart('df-599c77b1-84cc-4b56-9c62-1c6f8ad2e991')\"\n",
              "            title=\"Suggest charts\"\n",
              "            style=\"display:none;\">\n",
              "\n",
              "<svg xmlns=\"http://www.w3.org/2000/svg\" height=\"24px\"viewBox=\"0 0 24 24\"\n",
              "     width=\"24px\">\n",
              "    <g>\n",
              "        <path d=\"M19 3H5c-1.1 0-2 .9-2 2v14c0 1.1.9 2 2 2h14c1.1 0 2-.9 2-2V5c0-1.1-.9-2-2-2zM9 17H7v-7h2v7zm4 0h-2V7h2v10zm4 0h-2v-4h2v4z\"/>\n",
              "    </g>\n",
              "</svg>\n",
              "  </button>\n",
              "\n",
              "<style>\n",
              "  .colab-df-quickchart {\n",
              "      --bg-color: #E8F0FE;\n",
              "      --fill-color: #1967D2;\n",
              "      --hover-bg-color: #E2EBFA;\n",
              "      --hover-fill-color: #174EA6;\n",
              "      --disabled-fill-color: #AAA;\n",
              "      --disabled-bg-color: #DDD;\n",
              "  }\n",
              "\n",
              "  [theme=dark] .colab-df-quickchart {\n",
              "      --bg-color: #3B4455;\n",
              "      --fill-color: #D2E3FC;\n",
              "      --hover-bg-color: #434B5C;\n",
              "      --hover-fill-color: #FFFFFF;\n",
              "      --disabled-bg-color: #3B4455;\n",
              "      --disabled-fill-color: #666;\n",
              "  }\n",
              "\n",
              "  .colab-df-quickchart {\n",
              "    background-color: var(--bg-color);\n",
              "    border: none;\n",
              "    border-radius: 50%;\n",
              "    cursor: pointer;\n",
              "    display: none;\n",
              "    fill: var(--fill-color);\n",
              "    height: 32px;\n",
              "    padding: 0;\n",
              "    width: 32px;\n",
              "  }\n",
              "\n",
              "  .colab-df-quickchart:hover {\n",
              "    background-color: var(--hover-bg-color);\n",
              "    box-shadow: 0 1px 2px rgba(60, 64, 67, 0.3), 0 1px 3px 1px rgba(60, 64, 67, 0.15);\n",
              "    fill: var(--button-hover-fill-color);\n",
              "  }\n",
              "\n",
              "  .colab-df-quickchart-complete:disabled,\n",
              "  .colab-df-quickchart-complete:disabled:hover {\n",
              "    background-color: var(--disabled-bg-color);\n",
              "    fill: var(--disabled-fill-color);\n",
              "    box-shadow: none;\n",
              "  }\n",
              "\n",
              "  .colab-df-spinner {\n",
              "    border: 2px solid var(--fill-color);\n",
              "    border-color: transparent;\n",
              "    border-bottom-color: var(--fill-color);\n",
              "    animation:\n",
              "      spin 1s steps(1) infinite;\n",
              "  }\n",
              "\n",
              "  @keyframes spin {\n",
              "    0% {\n",
              "      border-color: transparent;\n",
              "      border-bottom-color: var(--fill-color);\n",
              "      border-left-color: var(--fill-color);\n",
              "    }\n",
              "    20% {\n",
              "      border-color: transparent;\n",
              "      border-left-color: var(--fill-color);\n",
              "      border-top-color: var(--fill-color);\n",
              "    }\n",
              "    30% {\n",
              "      border-color: transparent;\n",
              "      border-left-color: var(--fill-color);\n",
              "      border-top-color: var(--fill-color);\n",
              "      border-right-color: var(--fill-color);\n",
              "    }\n",
              "    40% {\n",
              "      border-color: transparent;\n",
              "      border-right-color: var(--fill-color);\n",
              "      border-top-color: var(--fill-color);\n",
              "    }\n",
              "    60% {\n",
              "      border-color: transparent;\n",
              "      border-right-color: var(--fill-color);\n",
              "    }\n",
              "    80% {\n",
              "      border-color: transparent;\n",
              "      border-right-color: var(--fill-color);\n",
              "      border-bottom-color: var(--fill-color);\n",
              "    }\n",
              "    90% {\n",
              "      border-color: transparent;\n",
              "      border-bottom-color: var(--fill-color);\n",
              "    }\n",
              "  }\n",
              "</style>\n",
              "\n",
              "  <script>\n",
              "    async function quickchart(key) {\n",
              "      const quickchartButtonEl =\n",
              "        document.querySelector('#' + key + ' button');\n",
              "      quickchartButtonEl.disabled = true;  // To prevent multiple clicks.\n",
              "      quickchartButtonEl.classList.add('colab-df-spinner');\n",
              "      try {\n",
              "        const charts = await google.colab.kernel.invokeFunction(\n",
              "            'suggestCharts', [key], {});\n",
              "      } catch (error) {\n",
              "        console.error('Error during call to suggestCharts:', error);\n",
              "      }\n",
              "      quickchartButtonEl.classList.remove('colab-df-spinner');\n",
              "      quickchartButtonEl.classList.add('colab-df-quickchart-complete');\n",
              "    }\n",
              "    (() => {\n",
              "      let quickchartButtonEl =\n",
              "        document.querySelector('#df-599c77b1-84cc-4b56-9c62-1c6f8ad2e991 button');\n",
              "      quickchartButtonEl.style.display =\n",
              "        google.colab.kernel.accessAllowed ? 'block' : 'none';\n",
              "    })();\n",
              "  </script>\n",
              "</div>\n",
              "    </div>\n",
              "  </div>\n"
            ]
          },
          "metadata": {},
          "execution_count": 80
        }
      ]
    },
    {
      "cell_type": "code",
      "source": [
        "X = df[['country', 'review_head_lemmatized', 'review_body_lemmatized']]"
      ],
      "metadata": {
        "id": "pXErxknEHK7L"
      },
      "execution_count": 81,
      "outputs": []
    },
    {
      "cell_type": "code",
      "source": [
        "Y= df['stars']"
      ],
      "metadata": {
        "id": "56-43unaHZzo"
      },
      "execution_count": 82,
      "outputs": []
    },
    {
      "cell_type": "code",
      "source": [
        "X_train, X_test, Y_train, Y_test = train_test_split(X, Y, random_state = 47, test_size = 0.25)"
      ],
      "metadata": {
        "id": "jtjx9kYvHdSo"
      },
      "execution_count": 83,
      "outputs": []
    },
    {
      "cell_type": "code",
      "source": [
        "from sklearn.feature_extraction.text import TfidfVectorizer\n",
        "\n",
        "\n",
        "tfidf_vectorizer = TfidfVectorizer()\n",
        "\n",
        "\n",
        "X_train_tfidf = tfidf_vectorizer.fit_transform(X_train['review_head_lemmatized'] + ' ' + X_train['review_body_lemmatized'])\n",
        "\n",
        "\n",
        "X_test_tfidf = tfidf_vectorizer.transform(X_test['review_head_lemmatized'] + ' ' + X_test['review_body_lemmatized'])\n"
      ],
      "metadata": {
        "id": "IMxxJ3OQHu1R"
      },
      "execution_count": 84,
      "outputs": []
    },
    {
      "cell_type": "code",
      "source": [
        "from sklearn.linear_model import LogisticRegression\n",
        "from sklearn.metrics import accuracy_score, precision_score, recall_score, f1_score, confusion_matrix\n",
        "logistic_model = LogisticRegression()\n",
        "logistic_model.fit(X_train_tfidf, Y_train)\n",
        "\n",
        "\n",
        "Y_pred = logistic_model.predict(X_test_tfidf)\n",
        "\n",
        "\n",
        "accuracy = accuracy_score(Y_test, Y_pred)\n",
        "precision = precision_score(Y_test, Y_pred, average='weighted')\n",
        "recall = recall_score(Y_test, Y_pred, average='weighted')\n",
        "f1 = f1_score(Y_test, Y_pred, average='weighted')\n",
        "conf_matrix = confusion_matrix(Y_test, Y_pred)\n",
        "\n",
        "print(\"Logistic Regression Performance:\")\n",
        "print(\"Accuracy:\", accuracy)\n",
        "print(\"Precision:\", precision)\n",
        "print(\"Recall:\", recall)\n",
        "print(\"F1 Score:\", f1)\n",
        "print(\"Confusion Matrix:\\n\", conf_matrix)"
      ],
      "metadata": {
        "colab": {
          "base_uri": "https://localhost:8080/",
          "height": 0
        },
        "id": "ezW8prmLInBe",
        "outputId": "9479deb4-cc87-43b7-9b87-2363c55b04b3"
      },
      "execution_count": 85,
      "outputs": [
        {
          "output_type": "stream",
          "name": "stdout",
          "text": [
            "Logistic Regression Performance:\n",
            "Accuracy: 0.8577931536780772\n",
            "Precision: 0.8243766253012526\n",
            "Recall: 0.8577931536780772\n",
            "F1 Score: 0.8201848797059275\n",
            "Confusion Matrix:\n",
            " [[1148    2    3    3   67]\n",
            " [ 111    4    5    3   25]\n",
            " [  77    0   15   17   67]\n",
            " [  38    0    8   61  279]\n",
            " [  46    1    1   28 3483]]\n"
          ]
        },
        {
          "output_type": "stream",
          "name": "stderr",
          "text": [
            "/usr/local/lib/python3.10/dist-packages/sklearn/linear_model/_logistic.py:458: ConvergenceWarning: lbfgs failed to converge (status=1):\n",
            "STOP: TOTAL NO. of ITERATIONS REACHED LIMIT.\n",
            "\n",
            "Increase the number of iterations (max_iter) or scale the data as shown in:\n",
            "    https://scikit-learn.org/stable/modules/preprocessing.html\n",
            "Please also refer to the documentation for alternative solver options:\n",
            "    https://scikit-learn.org/stable/modules/linear_model.html#logistic-regression\n",
            "  n_iter_i = _check_optimize_result(\n"
          ]
        }
      ]
    },
    {
      "cell_type": "code",
      "source": [
        "linear_model = LinearRegression()\n",
        "\n",
        "\n",
        "linear_model.fit(X_train_tfidf, Y_train)\n",
        "\n",
        "\n",
        "Y_pred_linear = linear_model.predict(X_test_tfidf)\n",
        "\n",
        "\n",
        "mse_linear = mean_squared_error(Y_test, Y_pred_linear)\n",
        "r2_linear = r2_score(Y_test, Y_pred_linear)\n",
        "\n",
        "# Print metrics\n",
        "print(\"Mean Squared Error (MSE) for Linear Regression:\", mse_linear)\n",
        "print(\"R-squared score for Linear Regression:\", r2_linear)"
      ],
      "metadata": {
        "colab": {
          "base_uri": "https://localhost:8080/",
          "height": 0
        },
        "id": "LXRcLy9pOZqC",
        "outputId": "203af754-b7da-4808-84c7-3c04f06d03bd"
      },
      "execution_count": 86,
      "outputs": [
        {
          "output_type": "stream",
          "name": "stdout",
          "text": [
            "Mean Squared Error (MSE) for Linear Regression: 3.998442969803879\n",
            "R-squared score for Linear Regression: -0.43785900791336996\n"
          ]
        }
      ]
    },
    {
      "cell_type": "code",
      "source": [
        "# Naive Bayes\n",
        "nb_model = MultinomialNB()\n",
        "nb_model.fit(X_train_tfidf, Y_train)\n",
        "Y_pred_nb = nb_model.predict(X_test_tfidf)\n",
        "\n",
        "# Metrics\n",
        "accuracy_nb = accuracy_score(Y_test, Y_pred_nb)\n",
        "precision_nb = precision_score(Y_test, Y_pred_nb, average='weighted')\n",
        "recall_nb = recall_score(Y_test, Y_pred_nb, average='weighted')\n",
        "f1_nb = f1_score(Y_test, Y_pred_nb, average='weighted')\n",
        "conf_matrix_nb = confusion_matrix(Y_test, Y_pred_nb)\n",
        "\n",
        "print(\"NB Performance:\")\n",
        "print(\"Accuracy:\", accuracy_nb)\n",
        "print(\"Precision:\", precision_nb)\n",
        "print(\"Recall:\", recall_nb)\n",
        "print(\"F1 Score:\", f1_nb)\n",
        "print(\"Confusion Matrix:\\n\", conf_matrix_nb)"
      ],
      "metadata": {
        "id": "eSAtQiB0Itwi",
        "colab": {
          "base_uri": "https://localhost:8080/",
          "height": 0
        },
        "outputId": "f7b6d7e8-8af4-4a78-9e6c-a81d0a2dc4dc"
      },
      "execution_count": 87,
      "outputs": [
        {
          "output_type": "stream",
          "name": "stdout",
          "text": [
            "NB Performance:\n",
            "Accuracy: 0.8292061179898034\n",
            "Precision: 0.7225495353197103\n",
            "Recall: 0.8292061179898034\n",
            "F1 Score: 0.7708490133443797\n",
            "Confusion Matrix:\n",
            " [[1019    0    0    0  204]\n",
            " [  89    0    0    0   59]\n",
            " [  57    0    0    0  119]\n",
            " [  20    0    0    0  366]\n",
            " [  24    0    0    0 3535]]\n"
          ]
        },
        {
          "output_type": "stream",
          "name": "stderr",
          "text": [
            "/usr/local/lib/python3.10/dist-packages/sklearn/metrics/_classification.py:1344: UndefinedMetricWarning: Precision is ill-defined and being set to 0.0 in labels with no predicted samples. Use `zero_division` parameter to control this behavior.\n",
            "  _warn_prf(average, modifier, msg_start, len(result))\n"
          ]
        }
      ]
    },
    {
      "cell_type": "code",
      "source": [
        "# Decision Tree\n",
        "dt_model = DecisionTreeClassifier()\n",
        "dt_model.fit(X_train_tfidf, Y_train)\n",
        "Y_pred_dt = dt_model.predict(X_test_tfidf)\n",
        "\n",
        "# Metrics\n",
        "accuracy_dt = accuracy_score(Y_test, Y_pred_dt)\n",
        "precision_dt = precision_score(Y_test, Y_pred_dt, average='weighted')\n",
        "recall_dt = recall_score(Y_test, Y_pred_dt, average='weighted')\n",
        "f1_dt = f1_score(Y_test, Y_pred_dt, average='weighted')\n",
        "conf_matrix_dt = confusion_matrix(Y_test, Y_pred_dt)\n",
        "\n",
        "print(\"Decision Tree Performance:\")\n",
        "print(\"Accuracy:\", accuracy_dt)\n",
        "print(\"Precision:\", precision_dt)\n",
        "print(\"Recall:\", recall_dt)\n",
        "print(\"F1 Score:\", f1_dt)\n",
        "print(\"Confusion Matrix:\\n\", conf_matrix_dt)"
      ],
      "metadata": {
        "id": "EYkZo1JDKhp-",
        "colab": {
          "base_uri": "https://localhost:8080/",
          "height": 0
        },
        "outputId": "8335b3d7-19fa-418d-cea1-1deb09e99b9e"
      },
      "execution_count": 88,
      "outputs": [
        {
          "output_type": "stream",
          "name": "stdout",
          "text": [
            "Decision Tree Performance:\n",
            "Accuracy: 0.8486890021849963\n",
            "Precision: 0.8439238348450196\n",
            "Recall: 0.8486890021849963\n",
            "F1 Score: 0.8457305716611339\n",
            "Confusion Matrix:\n",
            " [[1021   39   24   25  114]\n",
            " [  34   74   11    6   23]\n",
            " [  41    4   86    7   38]\n",
            " [  32    7   14  183  150]\n",
            " [ 121   19   37   85 3297]]\n"
          ]
        }
      ]
    },
    {
      "cell_type": "code",
      "source": [
        "# Support Vector Machine\n",
        "svm_model = SVC()\n",
        "svm_model.fit(X_train_tfidf, Y_train)\n",
        "Y_pred_svm = svm_model.predict(X_test_tfidf)\n",
        "\n",
        "# Metrics\n",
        "accuracy_svm = accuracy_score(Y_test, Y_pred_svm)\n",
        "precision_svm = precision_score(Y_test, Y_pred_svm, average='weighted')\n",
        "recall_svm = recall_score(Y_test, Y_pred_svm, average='weighted')\n",
        "f1_svm = f1_score(Y_test, Y_pred_svm, average='weighted')\n",
        "conf_matrix_svm = confusion_matrix(Y_test, Y_pred_svm)\n",
        "\n",
        "print(\"SVM Performance:\")\n",
        "print(\"Accuracy:\", accuracy_svm)\n",
        "print(\"Precision:\", precision_svm)\n",
        "print(\"Recall:\", recall_svm)\n",
        "print(\"F1 Score:\", f1_svm)\n",
        "print(\"Confusion Matrix:\\n\", conf_matrix_svm)"
      ],
      "metadata": {
        "colab": {
          "base_uri": "https://localhost:8080/",
          "height": 0
        },
        "id": "C-3Ol7xNREG6",
        "outputId": "f72bec98-e67c-4af1-8a44-79e8e3cbae5f"
      },
      "execution_count": 89,
      "outputs": [
        {
          "output_type": "stream",
          "name": "stdout",
          "text": [
            "SVM Performance:\n",
            "Accuracy: 0.8816460305899491\n",
            "Precision: 0.8840261203225416\n",
            "Recall: 0.8816460305899491\n",
            "F1 Score: 0.8540546006974673\n",
            "Confusion Matrix:\n",
            " [[1167    2    1    0   53]\n",
            " [ 107   21    1    0   19]\n",
            " [  71    0   50    3   52]\n",
            " [  28    0    2   89  267]\n",
            " [  35    0    1    8 3515]]\n"
          ]
        }
      ]
    }
  ]
}